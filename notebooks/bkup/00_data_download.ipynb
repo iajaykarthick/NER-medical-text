{
 "cells": [
  {
   "cell_type": "markdown",
   "metadata": {},
   "source": [
    "kaggle.json authentication file needs to be present in $HOME/.kaggle/kaggle.json to download dataset using CLI"
   ]
  },
  {
   "cell_type": "code",
   "execution_count": 1,
   "metadata": {},
   "outputs": [
    {
     "name": "stdout",
     "output_type": "stream",
     "text": [
      "Downloading medical-ner.zip to data\r\n",
      "  0%|                                               | 0.00/26.2k [00:00<?, ?B/s]\r\n",
      "100%|██████████████████████████████████████| 26.2k/26.2k [00:00<00:00, 1.12MB/s]\r\n"
     ]
    }
   ],
   "source": [
    "!mkdir -p data\n",
    "!kaggle datasets download -d finalepoch/medical-ner -p data/ --unzip"
   ]
  },
  {
   "cell_type": "code",
   "execution_count": 3,
   "metadata": {},
   "outputs": [],
   "source": [
    "json_file = './data/Corona2.json'"
   ]
  },
  {
   "cell_type": "code",
   "execution_count": 4,
   "metadata": {},
   "outputs": [],
   "source": [
    "import json"
   ]
  },
  {
   "cell_type": "code",
   "execution_count": 37,
   "metadata": {},
   "outputs": [
    {
     "data": {
      "text/plain": [
       "dict_keys(['examples'])"
      ]
     },
     "execution_count": 37,
     "metadata": {},
     "output_type": "execute_result"
    }
   ],
   "source": [
    "with open(json_file, \"r\") as f:\n",
    "    data = json.load(f)\n",
    "data.keys()"
   ]
  },
  {
   "cell_type": "code",
   "execution_count": 38,
   "metadata": {},
   "outputs": [],
   "source": [
    "data = data['examples']"
   ]
  },
  {
   "cell_type": "code",
   "execution_count": 40,
   "metadata": {},
   "outputs": [],
   "source": [
    "sample_record = data[0]"
   ]
  },
  {
   "cell_type": "code",
   "execution_count": 42,
   "metadata": {},
   "outputs": [
    {
     "data": {
      "text/plain": [
       "dict_keys(['id', 'content', 'metadata', 'annotations', 'classifications'])"
      ]
     },
     "execution_count": 42,
     "metadata": {},
     "output_type": "execute_result"
    }
   ],
   "source": [
    "sample_record.keys()"
   ]
  },
  {
   "cell_type": "code",
   "execution_count": 52,
   "metadata": {},
   "outputs": [
    {
     "name": "stdout",
     "output_type": "stream",
     "text": [
      "id :18c2f619-f102-452f-ab81-d26f7e283ffe\n"
     ]
    }
   ],
   "source": [
    "print(f\"id :{sample_record['id']}\")"
   ]
  },
  {
   "cell_type": "code",
   "execution_count": 53,
   "metadata": {},
   "outputs": [
    {
     "name": "stdout",
     "output_type": "stream",
     "text": [
      "content :While bismuth compounds (Pepto-Bismol) decreased the number of bowel movements in those with travelers' diarrhea, they do not decrease the length of illness.[91] Anti-motility agents like loperamide are also effective at reducing the number of stools but not the duration of disease.[8] These agents should be used only if bloody diarrhea is not present.[92]\n",
      "\n",
      "Diosmectite, a natural aluminomagnesium silicate clay, is effective in alleviating symptoms of acute diarrhea in children,[93] and also has some effects in chronic functional diarrhea, radiation-induced diarrhea, and chemotherapy-induced diarrhea.[45] Another absorbent agent used for the treatment of mild diarrhea is kaopectate.\n",
      "\n",
      "Racecadotril an antisecretory medication may be used to treat diarrhea in children and adults.[86] It has better tolerability than loperamide, as it causes less constipation and flatulence.[94]\n"
     ]
    }
   ],
   "source": [
    "print(f\"content :{sample_record['content']}\")"
   ]
  },
  {
   "cell_type": "code",
   "execution_count": 54,
   "metadata": {},
   "outputs": [
    {
     "name": "stdout",
     "output_type": "stream",
     "text": [
      "metadata :{}\n"
     ]
    }
   ],
   "source": [
    "print(f\"metadata :{sample_record['metadata']}\")"
   ]
  },
  {
   "cell_type": "code",
   "execution_count": 56,
   "metadata": {},
   "outputs": [
    {
     "name": "stdout",
     "output_type": "stream",
     "text": [
      "classifications :[]\n"
     ]
    }
   ],
   "source": [
    "print(f\"classifications :{sample_record['classifications']}\")"
   ]
  },
  {
   "cell_type": "code",
   "execution_count": 60,
   "metadata": {},
   "outputs": [
    {
     "name": "stdout",
     "output_type": "stream",
     "text": [
      "id: 0825a1bf-6a6e-4fa2-be77-8d104701eaed\n",
      "tag_id: c06bd022-6ded-44a5-8d90-f17685bb85a1\n",
      "end: 371\n",
      "start: 360\n",
      "example_id: 18c2f619-f102-452f-ab81-d26f7e283ffe\n",
      "tag_name: Medicine\n",
      "value: Diosmectite\n",
      "correct: None\n",
      "human_annotations: [{'timestamp': '2020-03-21T00:24:32.098000Z', 'annotator_id': 1, 'tagged_token_id': '0825a1bf-6a6e-4fa2-be77-8d104701eaed', 'name': 'Ashpat123', 'reason': 'exploration'}]\n",
      "model_annotations: []\n"
     ]
    }
   ],
   "source": [
    "for annotation in sample_record['annotations']:\n",
    "    for key in annotation.keys():\n",
    "        print(f\"{key}: {annotation[key]}\")\n",
    "    break"
   ]
  },
  {
   "cell_type": "code",
   "execution_count": 62,
   "metadata": {},
   "outputs": [
    {
     "data": {
      "text/plain": [
       "'Diosmectite'"
      ]
     },
     "execution_count": 62,
     "metadata": {},
     "output_type": "execute_result"
    }
   ],
   "source": [
    "sample_record['content'][360:371]"
   ]
  },
  {
   "cell_type": "markdown",
   "metadata": {},
   "source": [
    "https://www.drugs.com/international/diosmectite.html"
   ]
  },
  {
   "cell_type": "markdown",
   "metadata": {},
   "source": [
    "## Checking all the annotations mentioned in the sample record"
   ]
  },
  {
   "cell_type": "code",
   "execution_count": 145,
   "metadata": {},
   "outputs": [
    {
     "name": "stdout",
     "output_type": "stream",
     "text": [
      "Diosmectite, Number of words in entity is 1, Tag is Medicine\n",
      "aluminomagnesium silicate, Number of words in entity is 2, Tag is Medicine\n",
      "diarrhea, Number of words in entity is 1, Tag is MedicalCondition\n",
      "kaopectate, Number of words in entity is 1, Tag is Medicine\n",
      "bismuth compounds, Number of words in entity is 2, Tag is Medicine\n",
      "Pepto-Bismol, Number of words in entity is 1, Tag is Medicine\n",
      "diarrhea, Number of words in entity is 1, Tag is MedicalCondition\n",
      "chemotherapy, Number of words in entity is 1, Tag is Medicine\n",
      "constipation, Number of words in entity is 1, Tag is MedicalCondition\n",
      "loperamide, Number of words in entity is 1, Tag is Medicine\n",
      "diarrhea, Number of words in entity is 1, Tag is MedicalCondition\n",
      "flatulence, Number of words in entity is 1, Tag is MedicalCondition\n",
      "loperamide, Number of words in entity is 1, Tag is Medicine\n",
      "diarrhea, Number of words in entity is 1, Tag is MedicalCondition\n",
      "diarrhea, Number of words in entity is 1, Tag is MedicalCondition\n",
      "Racecadotril, Number of words in entity is 1, Tag is Medicine\n",
      "diarrhea, Number of words in entity is 1, Tag is MedicalCondition\n"
     ]
    }
   ],
   "source": [
    "text = sample_record['content']\n",
    "\n",
    "for annotation in sample_record['annotations']:\n",
    "    start = annotation['start']\n",
    "    end = annotation['end']\n",
    "    entity = text[start:end].strip()\n",
    "    if entity:\n",
    "        print(f\"{entity}, Number of words in entity is {len(entity.split())}, Tag is {annotation['tag_name']}\")"
   ]
  },
  {
   "cell_type": "markdown",
   "metadata": {},
   "source": [
    "From the results above we see groups of words may represent a single entity\n",
    "For example, aluminomagnesium silicate"
   ]
  },
  {
   "cell_type": "markdown",
   "metadata": {},
   "source": [
    "### Finding all the unique tags"
   ]
  },
  {
   "cell_type": "code",
   "execution_count": 138,
   "metadata": {},
   "outputs": [
    {
     "data": {
      "text/plain": [
       "['Medicine', 'MedicalCondition', 'Pathogen']"
      ]
     },
     "execution_count": 138,
     "metadata": {},
     "output_type": "execute_result"
    }
   ],
   "source": [
    "tags = []\n",
    "for record in data:\n",
    "    for annotation in record['annotations']:\n",
    "        curr_tag = annotation['tag_name']\n",
    "        if curr_tag not in tags:\n",
    "            tags.append(curr_tag)\n",
    "tags"
   ]
  },
  {
   "cell_type": "markdown",
   "metadata": {},
   "source": [
    "### Tranforming Data\n",
    "(sentence_idx,word,tag)\n",
    "\n",
    "tags = [B-MED, I-MED, B-MEDCOND, I-MEDCOND, B-PAT, I-PAT, O]"
   ]
  },
  {
   "cell_type": "code",
   "execution_count": 152,
   "metadata": {},
   "outputs": [
    {
     "name": "stdout",
     "output_type": "stream",
     "text": [
      "The following drugs are considered as DMARDs: methotrexate, hydroxychloroquine, sulfasalazine, leflunomide, TNF-alpha inhibitors (certolizumab, infliximab and etanercept), abatacept, and anakinra. Rituximab and tocilizumab are monoclonal antibodies and are also DMARDs.[8] Use of tocilizumab is associated with a risk of increased cholesterol levels.[87]\n",
      "\n",
      "Hydroxychloroquine, apart from its low toxicity profile, is considered effective in the moderate RA treatment.[88]\n",
      "\n",
      "The most commonly used agent is methotrexate with other frequently used agents including sulfasalazine and leflunomide.[8] Leflunomide is effective when used from 6–12 months, with similar effectiveness to methotrexate when used for 2 years.[89] Sulfasalazine also appears to be most effective in the short-term treatment of rheumatoid arthritis.[90] Sodium aurothiomalate (gold) and cyclosporin are less commonly used due to more common adverse effects.[8] However, cyclosporin was found to be effective in the progressive RA when used up to one year.[91] Agents may be used in combinations however, people may experience greater side effects.[8][92] Methotrexate is the most important and useful DMARD and is usually the first treatment.[8][5][93] A combined approach with methotrexate and biologics improves ACR50, HAQ scores and RA remission rates.[94] Triple therapy consisting of methotrexate, sulfasalazine and hydroxychloroquine may also effectively control disease activity.[95] Adverse effects should be monitored regularly with toxicity including gastrointestinal, hematologic, pulmonary, and hepatic.[93] Side effects such as nausea, vomiting or abdominal pain can be reduced by taking folic acid.[96]\n"
     ]
    }
   ],
   "source": [
    "tags_dict = {\n",
    "    \"Medicine\": \"MED\",\n",
    "    \"MedicalCondition\": \"MEDCOND\",\n",
    "    \"Pathogen\": \"PAT\"\n",
    "}\n",
    "\n",
    "for sentence_idx, sentence_dict in enumerate(data):\n",
    "    sentence = sentence_dict['content']\n",
    "    words_to_tags_map = {}\n",
    "    for annotation in sentence_dict['annotations']:\n",
    "        tag = annotation['tag_name']\n",
    "        start = annotation['start']\n",
    "        end = annotation['end']\n",
    "        word = sentence[start:end].strip()\n",
    "        if word.startswith(\"8][5][93] A combined\"):\n",
    "            # print(word, tag)\n",
    "            print(sentence)\n",
    "\n"
   ]
  },
  {
   "cell_type": "markdown",
   "metadata": {},
   "source": [
    "## Downloading MACCROBAT_DATA"
   ]
  },
  {
   "cell_type": "code",
   "execution_count": 210,
   "metadata": {},
   "outputs": [],
   "source": [
    "MACCROBAT_DATA_URL = \"https://figshare.com/ndownloader/files/17493650\""
   ]
  },
  {
   "cell_type": "code",
   "execution_count": 211,
   "metadata": {},
   "outputs": [],
   "source": [
    "import requests\n",
    "\n",
    "def download_url(url, save_path, chunk_size=128):\n",
    "    r = requests.get(url, stream=True)\n",
    "    with open(save_path, 'wb') as fd:\n",
    "        for chunk in r.iter_content(chunk_size=chunk_size):\n",
    "            fd.write(chunk)"
   ]
  },
  {
   "cell_type": "code",
   "execution_count": 212,
   "metadata": {},
   "outputs": [],
   "source": [
    "data_zipfile = \"./data/MACCROBAT2018.zip\"\n",
    "MACCROBAT_data_dir = \"./data/MACCROBAT\""
   ]
  },
  {
   "cell_type": "code",
   "execution_count": 213,
   "metadata": {},
   "outputs": [],
   "source": [
    "download_url(MACCROBAT_DATA_URL, data_zipfile)"
   ]
  },
  {
   "cell_type": "code",
   "execution_count": 214,
   "metadata": {},
   "outputs": [],
   "source": [
    "import zipfile\n",
    "with zipfile.ZipFile(data_zipfile, 'r') as zip_ref:\n",
    "    zip_ref.extractall(MACCROBAT_data_dir)"
   ]
  },
  {
   "cell_type": "code",
   "execution_count": 215,
   "metadata": {},
   "outputs": [],
   "source": [
    "import os\n",
    "os.remove(data_zipfile)"
   ]
  },
  {
   "cell_type": "code",
   "execution_count": 216,
   "metadata": {},
   "outputs": [
    {
     "data": {
      "text/plain": [
       "['19860925.txt',\n",
       " '26361640.ann',\n",
       " '26228535.txt',\n",
       " '27773410.txt',\n",
       " '23678274.ann',\n",
       " '25853982.ann',\n",
       " '28103924.txt',\n",
       " '27064109.txt',\n",
       " '28154700.ann',\n",
       " '20146086.txt',\n",
       " '26656340.txt',\n",
       " '28353558.ann',\n",
       " '22515939.txt',\n",
       " '28353588.txt',\n",
       " '26309459.txt',\n",
       " '28272235.txt',\n",
       " '23242090.txt',\n",
       " '23312850.ann',\n",
       " '23124805.txt',\n",
       " '26106249.txt',\n",
       " '26313770.ann',\n",
       " '26285706.ann',\n",
       " '18416479.txt',\n",
       " '28353613.ann',\n",
       " '28151916.ann',\n",
       " '26175648.txt',\n",
       " '23468586.ann',\n",
       " '28216610.txt',\n",
       " '27059701.ann',\n",
       " '28121940.ann',\n",
       " '23077697.txt',\n",
       " '27741115.ann',\n",
       " '21067996.txt',\n",
       " '28100235.txt',\n",
       " '28151860.ann',\n",
       " '25884600.txt',\n",
       " '27904130.ann',\n",
       " '19214295.txt',\n",
       " '18787726.ann',\n",
       " '22719160.txt',\n",
       " '28422883.txt',\n",
       " '26675562.ann',\n",
       " '21477357.ann',\n",
       " '25139918.txt',\n",
       " '28353561.txt',\n",
       " '22791498.txt',\n",
       " '28538413.ann',\n",
       " '26457578.ann',\n",
       " '27842605.txt',\n",
       " '20671919.ann',\n",
       " '25155594.ann',\n",
       " '26469535.ann',\n",
       " '28353604.ann',\n",
       " '28403092.txt',\n",
       " '28239141.txt',\n",
       " '28202869.txt',\n",
       " '25024632.txt',\n",
       " '28403086.txt',\n",
       " '18666334.ann',\n",
       " '25572898.txt',\n",
       " '28296775.txt',\n",
       " '22514576.txt',\n",
       " '26584481.ann',\n",
       " '28296749.txt',\n",
       " '28216610.ann',\n",
       " '23468586.txt',\n",
       " '27059701.txt',\n",
       " '26175648.ann',\n",
       " '28151916.txt',\n",
       " '28353613.txt',\n",
       " '26285706.txt',\n",
       " '26313770.txt',\n",
       " '18416479.ann',\n",
       " '26106249.ann',\n",
       " '23124805.ann',\n",
       " '23242090.ann',\n",
       " '26309459.ann',\n",
       " '28272235.ann',\n",
       " '23312850.txt',\n",
       " '22515939.ann',\n",
       " '28353588.ann',\n",
       " '26656340.ann',\n",
       " '20146086.ann',\n",
       " '28353558.txt',\n",
       " '28154700.txt',\n",
       " '27064109.ann',\n",
       " '25853982.txt',\n",
       " '28103924.ann',\n",
       " '23678274.txt',\n",
       " '27773410.ann',\n",
       " '19860925.ann',\n",
       " '26228535.ann',\n",
       " '26361640.txt',\n",
       " '26584481.txt',\n",
       " '22514576.ann',\n",
       " '28296775.ann',\n",
       " '25572898.ann',\n",
       " '28296749.ann',\n",
       " '28403086.ann',\n",
       " '25024632.ann',\n",
       " '28202869.ann',\n",
       " '28403092.ann',\n",
       " '28239141.ann',\n",
       " '18666334.txt',\n",
       " '26469535.txt',\n",
       " '28353604.txt',\n",
       " '25155594.txt',\n",
       " '20671919.txt',\n",
       " '27842605.ann',\n",
       " '26457578.txt',\n",
       " '28538413.txt',\n",
       " '25139918.ann',\n",
       " '28353561.ann',\n",
       " '22791498.ann',\n",
       " '21477357.txt',\n",
       " '22719160.ann',\n",
       " '26675562.txt',\n",
       " '28422883.ann',\n",
       " '18787726.txt',\n",
       " '28151860.txt',\n",
       " '25884600.ann',\n",
       " '19214295.ann',\n",
       " '27904130.txt',\n",
       " '28100235.ann',\n",
       " '27741115.txt',\n",
       " '21067996.ann',\n",
       " '28121940.txt',\n",
       " '23077697.ann',\n",
       " '16778410.ann',\n",
       " '19860007.txt',\n",
       " '28190872.ann',\n",
       " '25743872.ann',\n",
       " '26523273.ann',\n",
       " '28193213.txt',\n",
       " '28120581.txt',\n",
       " '26670309.ann',\n",
       " '26336183.ann',\n",
       " '25410883.ann',\n",
       " '26530965.ann',\n",
       " '28057913.txt',\n",
       " '20977862.txt',\n",
       " '25721834.txt',\n",
       " '19860006.txt',\n",
       " '19816630.ann',\n",
       " '23155491.ann',\n",
       " '28207542.txt',\n",
       " '23864579.txt',\n",
       " '26361431.txt',\n",
       " '26264228.ann',\n",
       " '28100279.ann',\n",
       " '25370695.txt',\n",
       " '26683938.txt',\n",
       " '18258107.ann',\n",
       " '22665582.ann',\n",
       " '28248858.ann',\n",
       " '27218632.ann',\n",
       " '25023062.txt',\n",
       " '25293719.txt',\n",
       " '21308977.ann',\n",
       " '22814979.ann',\n",
       " '18561524.txt',\n",
       " '26444414.txt',\n",
       " '21923918.ann',\n",
       " '23035161.txt',\n",
       " '24898994.txt',\n",
       " '28265107.txt',\n",
       " '19860006.ann',\n",
       " '25721834.ann',\n",
       " '20977862.ann',\n",
       " '28057913.ann',\n",
       " '26670309.txt',\n",
       " '26530965.txt',\n",
       " '26336183.txt',\n",
       " '25410883.txt',\n",
       " '28120581.ann',\n",
       " '28193213.ann',\n",
       " '26523273.txt',\n",
       " '25743872.txt',\n",
       " '28190872.txt',\n",
       " '19860007.ann',\n",
       " '16778410.txt',\n",
       " '28265107.ann',\n",
       " '24898994.ann',\n",
       " '23035161.ann',\n",
       " '21923918.txt',\n",
       " '26444414.ann',\n",
       " '18561524.ann',\n",
       " '22814979.txt',\n",
       " '22665582.txt',\n",
       " '21308977.txt',\n",
       " '25293719.ann',\n",
       " '28248858.txt',\n",
       " '27218632.txt',\n",
       " '25023062.ann',\n",
       " '18258107.txt',\n",
       " '25370695.ann',\n",
       " '26683938.ann',\n",
       " '28100279.txt',\n",
       " '23864579.ann',\n",
       " '28207542.ann',\n",
       " '26264228.txt',\n",
       " '26361431.ann',\n",
       " '23155491.txt',\n",
       " '19816630.txt',\n",
       " '27974938.ann',\n",
       " '24526194.ann',\n",
       " '25858931.txt',\n",
       " '28090049.txt',\n",
       " '28115731.txt',\n",
       " '17803823.ann',\n",
       " '24294397.txt',\n",
       " '27683825.txt',\n",
       " '25661749.ann',\n",
       " '28196820.txt',\n",
       " '28248891.ann',\n",
       " '18236639.txt',\n",
       " '28033278.txt',\n",
       " '21672201.ann',\n",
       " '21254744.txt',\n",
       " '28079821.ann',\n",
       " '26216058.ann',\n",
       " '24957905.ann',\n",
       " '27196481.ann',\n",
       " '26266396.txt',\n",
       " '24518095.txt',\n",
       " '26350418.txt',\n",
       " '23897372.ann',\n",
       " '15939911.txt',\n",
       " '25926582.ann',\n",
       " '27980261.txt',\n",
       " '27980272.ann',\n",
       " '25759562.txt',\n",
       " '27821134.txt',\n",
       " '23033875.txt',\n",
       " '28173879.txt',\n",
       " '18815636.ann',\n",
       " '23076693.ann',\n",
       " '21527041.txt',\n",
       " '21505579.txt',\n",
       " '24781756.ann',\n",
       " '28250406.txt',\n",
       " '26405496.txt',\n",
       " '25934795.ann',\n",
       " '26629302.ann',\n",
       " '27661040.txt',\n",
       " '25210224.ann',\n",
       " '26266396.ann',\n",
       " '27196481.txt',\n",
       " '24957905.txt',\n",
       " '26216058.txt',\n",
       " '28079821.txt',\n",
       " '18236639.ann',\n",
       " '28248891.txt',\n",
       " '28196820.ann',\n",
       " '21672201.txt',\n",
       " '21254744.ann',\n",
       " '28033278.ann',\n",
       " '25661749.txt',\n",
       " '27683825.ann',\n",
       " '17803823.txt',\n",
       " '24294397.ann',\n",
       " '25858931.ann',\n",
       " '28115731.ann',\n",
       " '28090049.ann',\n",
       " '24526194.txt',\n",
       " '27974938.txt',\n",
       " '27661040.ann',\n",
       " '25210224.txt',\n",
       " '26629302.txt',\n",
       " '28250406.ann',\n",
       " '25934795.txt',\n",
       " '26405496.ann',\n",
       " '21505579.ann',\n",
       " '24781756.txt',\n",
       " '21527041.ann',\n",
       " '23076693.txt',\n",
       " '18815636.txt',\n",
       " '23033875.ann',\n",
       " '27821134.ann',\n",
       " '28173879.ann',\n",
       " '25759562.ann',\n",
       " '25926582.txt',\n",
       " '27980272.txt',\n",
       " '27980261.ann',\n",
       " '15939911.ann',\n",
       " '23897372.txt',\n",
       " '26350418.ann',\n",
       " '24518095.ann',\n",
       " '28202865.ann',\n",
       " '28321070.ann',\n",
       " '28403099.txt',\n",
       " '28202862.txt',\n",
       " '25295501.ann',\n",
       " '28320420.ann',\n",
       " '28595573.ann',\n",
       " '26474553.ann',\n",
       " '27130218.ann',\n",
       " '28154669.ann',\n",
       " '22218279.ann',\n",
       " '28154281.txt',\n",
       " '25246819.txt',\n",
       " '28353556.txt',\n",
       " '26664317.ann',\n",
       " '26445413.ann',\n",
       " '26257516.ann',\n",
       " '28272214.txt',\n",
       " '28154287.ann',\n",
       " '19307547.txt',\n",
       " '27990013.txt',\n",
       " '27998312.ann',\n",
       " '27906105.txt',\n",
       " '24043987.txt',\n",
       " '27842595.ann',\n",
       " '28321071.ann',\n",
       " '24654246.txt',\n",
       " '21720478.ann',\n",
       " '28383413.ann',\n",
       " '19009665.txt',\n",
       " '28767567.txt',\n",
       " '19610147.txt',\n",
       " '22781096.ann',\n",
       " '28321073.ann',\n",
       " '27100441.ann',\n",
       " '26692730.txt',\n",
       " '27793101.txt',\n",
       " '27004009.ann',\n",
       " '28151882.ann',\n",
       " '28353569.txt',\n",
       " '27057898.txt',\n",
       " '26327988.txt',\n",
       " '28353596.txt',\n",
       " '27928148.ann',\n",
       " '22520024.ann',\n",
       " '27846860.ann',\n",
       " '26395443.ann',\n",
       " '21129213.txt',\n",
       " '25793030.ann',\n",
       " '27749582.ann',\n",
       " '28559815.txt',\n",
       " '24161539.ann',\n",
       " '28250304.ann',\n",
       " '28292056.txt',\n",
       " '25410034.ann',\n",
       " '26714786.ann',\n",
       " '24654246.ann',\n",
       " '21720478.txt',\n",
       " '28383413.txt',\n",
       " '27842595.txt',\n",
       " '28321071.txt',\n",
       " '27906105.ann',\n",
       " '24043987.ann',\n",
       " '27990013.ann',\n",
       " '27998312.txt',\n",
       " '19307547.ann',\n",
       " '28154287.txt',\n",
       " '28272214.ann',\n",
       " '26445413.txt',\n",
       " '26664317.txt',\n",
       " '26257516.txt',\n",
       " '28353556.ann',\n",
       " '25246819.ann',\n",
       " '28154281.ann',\n",
       " '22218279.txt',\n",
       " '28154669.txt',\n",
       " '27130218.txt',\n",
       " '26474553.txt',\n",
       " '28595573.txt',\n",
       " '28202862.ann',\n",
       " '28403099.ann',\n",
       " '28321070.txt',\n",
       " '28202865.txt',\n",
       " '28320420.txt',\n",
       " '25295501.txt',\n",
       " '25410034.txt',\n",
       " '26714786.txt',\n",
       " '28292056.ann',\n",
       " '28250304.txt',\n",
       " '28559815.ann',\n",
       " '27749582.txt',\n",
       " '24161539.txt',\n",
       " '25793030.txt',\n",
       " '21129213.ann',\n",
       " '26395443.txt',\n",
       " '22520024.txt',\n",
       " '27846860.txt',\n",
       " '28353596.ann',\n",
       " '27928148.txt',\n",
       " '26327988.ann',\n",
       " '27057898.ann',\n",
       " '28353569.ann',\n",
       " '28151882.txt',\n",
       " '27793101.ann',\n",
       " '27004009.txt',\n",
       " '26692730.ann',\n",
       " '27100441.txt',\n",
       " '28321073.txt',\n",
       " '28767567.ann',\n",
       " '19009665.ann',\n",
       " '22781096.txt',\n",
       " '19610147.ann']"
      ]
     },
     "execution_count": 216,
     "metadata": {},
     "output_type": "execute_result"
    }
   ],
   "source": [
    "os.listdir(MACCROBAT_data_dir)"
   ]
  },
  {
   "cell_type": "code",
   "execution_count": 217,
   "metadata": {},
   "outputs": [
    {
     "data": {
      "text/plain": [
       "400"
      ]
     },
     "execution_count": 217,
     "metadata": {},
     "output_type": "execute_result"
    }
   ],
   "source": [
    "len(os.listdir(MACCROBAT_data_dir))"
   ]
  },
  {
   "cell_type": "markdown",
   "metadata": {},
   "source": [
    "### Checking if we have annotation for all text files"
   ]
  },
  {
   "cell_type": "code",
   "execution_count": 218,
   "metadata": {},
   "outputs": [
    {
     "name": "stdout",
     "output_type": "stream",
     "text": [
      "There are 200 unique txt files\n",
      "All txt files have corresponding ann files\n"
     ]
    }
   ],
   "source": [
    "txt_file_ids = []\n",
    "missing = []\n",
    "files = os.listdir(MACCROBAT_data_dir)\n",
    "for file in files:\n",
    "    if file.endswith('.txt'):\n",
    "        txt_file_ids.append(file.split(\".\")[0])\n",
    "        if file.split(\".\")[0] + \".ann\" not in files:\n",
    "            missing.append(file)\n",
    "print(f\"There are {len(set(txt_file_ids))} unique txt files\")\n",
    "\n",
    "if not missing:\n",
    "    print(\"All txt files have corresponding ann files\")\n",
    "else:\n",
    "    print(f'Following files missing ann files' )\n",
    "    print(f'{\",\".join(missing)}')"
   ]
  },
  {
   "cell_type": "code",
   "execution_count": 220,
   "metadata": {},
   "outputs": [
    {
     "data": {
      "text/plain": [
       "'19860925'"
      ]
     },
     "execution_count": 220,
     "metadata": {},
     "output_type": "execute_result"
    }
   ],
   "source": [
    "sample_record = files[0].split(\".\")[0]\n",
    "sample_record"
   ]
  },
  {
   "cell_type": "code",
   "execution_count": 229,
   "metadata": {},
   "outputs": [],
   "source": [
    "text = \"\"\n",
    "with open(f\"{MACCROBAT_data_dir}/{sample_record}.txt\") as f:\n",
    "    for line in f.readlines():\n",
    "        text += line"
   ]
  },
  {
   "cell_type": "code",
   "execution_count": 230,
   "metadata": {},
   "outputs": [
    {
     "data": {
      "text/plain": [
       "'Our 24-year-old non-smoking male patient presented with repeated hemoptysis in May 2008 with 4 days of concomitant right thoracic pain which intensified while breathing.\\nDuring holidays in his home country, this Cuban patient suffered from a cold with fever and a strong cough.\\nThe strong dry cough persisted after recovery from the cold.\\nThe patient did not report any loss of weight.\\nThe initial CT scan of the thorax showed a 12 × 4 cm solid mass paravertebral right in the lower thorax without any signs of metastases (Figure 1).\\nThe bronchoscopy (Figure \\u200b2) with non-bleeding biopsy revealed a mass of the lower right bronchus which histologically and immunohistologically provided evidence of a granular cell or Abrikossoff tumor [1].\\nThe bronchial lavage which followed was negative for malignant cells.\\nThe patient was discharged and surgical intervention was planned.\\nFour days after discharge a spontaneous hemothorax developed.\\nThe patient needed to be readmitted and the hemothorax was drained.\\nNo malignant cells were detected in the cytological examination of the drained liquid.\\nAfter an uneventful course and decreasing of the hematoma, the tumor was excised by performing a lower right lobectomy 6 months after the initial admission.\\nThe final histological examination confirmed a peribronchial and infiltrating S100 positive tumor supporting the Schwann cell origin theory with very low growth rate of 2% and a size of 15 mm (Figure \\u200b3).\\n'"
      ]
     },
     "execution_count": 230,
     "metadata": {},
     "output_type": "execute_result"
    }
   ],
   "source": [
    "text"
   ]
  },
  {
   "cell_type": "code",
   "execution_count": 237,
   "metadata": {},
   "outputs": [
    {
     "data": {
      "text/plain": [
       "[['T1', 'Age 4 15', '24-year-old\\n']]"
      ]
     },
     "execution_count": 237,
     "metadata": {},
     "output_type": "execute_result"
    }
   ],
   "source": [
    "annotation = []\n",
    "with open(f\"{MACCROBAT_data_dir}/{sample_record}.ann\") as f:\n",
    "    for line in f.readlines():\n",
    "        annotation.append(line.split(\"\\t\"))\n",
    "        break\n",
    "annotation"
   ]
  }
 ],
 "metadata": {
  "kernelspec": {
   "display_name": "Python 3 (ipykernel)",
   "language": "python",
   "name": "python3"
  },
  "language_info": {
   "codemirror_mode": {
    "name": "ipython",
    "version": 3
   },
   "file_extension": ".py",
   "mimetype": "text/x-python",
   "name": "python",
   "nbconvert_exporter": "python",
   "pygments_lexer": "ipython3",
   "version": "3.8.10"
  }
 },
 "nbformat": 4,
 "nbformat_minor": 1
}
