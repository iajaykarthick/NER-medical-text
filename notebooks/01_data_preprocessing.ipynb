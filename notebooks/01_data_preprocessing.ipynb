{
 "cells": [
  {
   "cell_type": "markdown",
   "source": [
    "### MACCROBAT_DATA"
   ],
   "metadata": {
    "collapsed": false
   }
  },
  {
   "cell_type": "markdown",
   "source": [
    "Annotation files are in brat standoff format"
   ],
   "metadata": {
    "collapsed": false
   }
  },
  {
   "cell_type": "markdown",
   "source": [
    "General annotation structure\n",
    "All annotations follow the same basic structure: Each line contains one annotation, and each annotation is given an ID that appears first on the line, separated from the rest of the annotation by a single TAB character. The rest of the structure varies by annotation type.\n",
    "\n",
    "Examples of annotation for an entity (T1), an event trigger (T2), an event (E1) and a relation (R1) are shown in the following."
   ],
   "metadata": {
    "collapsed": false
   }
  },
  {
   "cell_type": "markdown",
   "source": [
    "Annotation ID conventions\n",
    "All annotations IDs consist of a single upper-case character identifying the annotation type and a number. The initial ID characters relate to annotation types as follows:\n",
    "\n",
    "T: text-bound annotation\n",
    "R: relation\n",
    "E: event\n",
    "A: attribute\n",
    "M: modification (alias for attribute, for backward compatibility)\n",
    "N: normalization [new in v1.3]\n",
    "#: note"
   ],
   "metadata": {
    "collapsed": false
   }
  },
  {
   "cell_type": "markdown",
   "source": [
    "### Goal:\n",
    "* Convert .ann (brat standoff format) & .txt to BIO format files\n",
    "* Sample BIO format is as follows\n",
    "\n",
    "* BIO format:\n",
    "*\n",
    "| Word           | BIO Tag    |\n",
    "|----------------|-----------|\n",
    "| The            | O         |\n",
    "| patient        | O         |\n",
    "| has            | O         |\n",
    "| a              | O         |\n",
    "| history        | O         |\n",
    "| of             | O         |\n",
    "| hypertension   | B-DISEASE |\n",
    "| and            | I-DISEASE |\n",
    "| type           | O         |\n",
    "| 2              | O         |\n",
    "| diabetes       | B-DISEASE |\n",
    "| .              | O         |\n",
    "| The            | O         |\n",
    "| patient        | O         |\n",
    "| denies         | O         |\n",
    "| chest          | B-SYMPTOM |\n",
    "| pain           | I-SYMPTOM |\n",
    "| and            | O         |\n",
    "| shortness      | B-SYMPTOM |\n",
    "| of             | I-SYMPTOM |\n",
    "| breath         | I-SYMPTOM |\n",
    "| .              | O         |\n",
    "| The            | O         |\n",
    "| physical       | O         |\n",
    "| exam           | O         |\n",
    "| was            | O         |\n",
    "| unremarkable   | O         |\n",
    "| except         | O         |\n",
    "| for            | O         |\n",
    "| an             | O         |\n",
    "| elevated       | B-SYMPTOM |\n",
    "| blood          | I-SYMPTOM |\n",
    "| pressure       | I-SYMPTOM |\n",
    "| of             | I-SYMPTOM |\n",
    "| 140/90         | B-SYMPTOM |\n",
    "| mmHg           | I-SYMPTOM |\n",
    "| .              | O         |\n"
   ],
   "metadata": {
    "collapsed": false
   }
  },
  {
   "cell_type": "code",
   "execution_count": 11,
   "outputs": [],
   "source": [
    "MACCROBAT_data_dir = \"../data/MACCROBAT\""
   ],
   "metadata": {
    "collapsed": false
   }
  },
  {
   "cell_type": "code",
   "execution_count": 8,
   "outputs": [],
   "source": [
    "import os\n",
    "import pandas as pd\n"
   ],
   "metadata": {
    "collapsed": false
   }
  },
  {
   "cell_type": "code",
   "execution_count": 12,
   "outputs": [
    {
     "data": {
      "text/plain": "['19860925',\n '26361640',\n '26228535',\n '27773410',\n '23678274',\n '25853982',\n '28103924',\n '27064109',\n '28154700',\n '20146086',\n '26656340',\n '28353558',\n '22515939',\n '28353588',\n '26309459',\n '28272235',\n '23242090',\n '23312850',\n '23124805',\n '26106249',\n '26313770',\n '26285706',\n '18416479',\n '28353613',\n '28151916',\n '26175648',\n '23468586',\n '28216610',\n '27059701',\n '28121940',\n '23077697',\n '27741115',\n '21067996',\n '28100235',\n '28151860',\n '25884600',\n '27904130',\n '19214295',\n '18787726',\n '22719160',\n '28422883',\n '26675562',\n '21477357',\n '25139918',\n '28353561',\n '22791498',\n '28538413',\n '26457578',\n '27842605',\n '20671919',\n '25155594',\n '26469535',\n '28353604',\n '28403092',\n '28239141',\n '28202869',\n '25024632',\n '28403086',\n '18666334',\n '25572898',\n '28296775',\n '22514576',\n '26584481',\n '28296749',\n '16778410',\n '19860007',\n '28190872',\n '25743872',\n '26523273',\n '28193213',\n '28120581',\n '26670309',\n '26336183',\n '25410883',\n '26530965',\n '28057913',\n '20977862',\n '25721834',\n '19860006',\n '19816630',\n '23155491',\n '28207542',\n '23864579',\n '26361431',\n '26264228',\n '28100279',\n '25370695',\n '26683938',\n '18258107',\n '22665582',\n '28248858',\n '27218632',\n '25023062',\n '25293719',\n '21308977',\n '22814979',\n '18561524',\n '26444414',\n '21923918',\n '23035161',\n '24898994',\n '28265107',\n '27974938',\n '24526194',\n '25858931',\n '28090049',\n '28115731',\n '17803823',\n '24294397',\n '27683825',\n '25661749',\n '28196820',\n '28248891',\n '18236639',\n '28033278',\n '21672201',\n '21254744',\n '28079821',\n '26216058',\n '24957905',\n '27196481',\n '26266396',\n '24518095',\n '26350418',\n '23897372',\n '15939911',\n '25926582',\n '27980261',\n '27980272',\n '25759562',\n '27821134',\n '23033875',\n '28173879',\n '18815636',\n '23076693',\n '21527041',\n '21505579',\n '24781756',\n '28250406',\n '26405496',\n '25934795',\n '26629302',\n '27661040',\n '25210224',\n '28202865',\n '28321070',\n '28403099',\n '28202862',\n '25295501',\n '28320420',\n '28595573',\n '26474553',\n '27130218',\n '28154669',\n '22218279',\n '28154281',\n '25246819',\n '28353556',\n '26664317',\n '26445413',\n '26257516',\n '28272214',\n '28154287',\n '19307547',\n '27990013',\n '27998312',\n '27906105',\n '24043987',\n '27842595',\n '28321071',\n '24654246',\n '21720478',\n '28383413',\n '19009665',\n '28767567',\n '19610147',\n '22781096',\n '28321073',\n '27100441',\n '26692730',\n '27793101',\n '27004009',\n '28151882',\n '28353569',\n '27057898',\n '26327988',\n '28353596',\n '27928148',\n '22520024',\n '27846860',\n '26395443',\n '21129213',\n '25793030',\n '27749582',\n '28559815',\n '24161539',\n '28250304',\n '28292056',\n '25410034',\n '26714786']"
     },
     "execution_count": 12,
     "metadata": {},
     "output_type": "execute_result"
    }
   ],
   "source": [
    "file_ids = []\n",
    "for file in os.listdir(MACCROBAT_data_dir):\n",
    "    file_id = file.split(\".\")[0]\n",
    "    if file_id not in file_ids:\n",
    "        file_ids.append(file_id)\n",
    "file_ids"
   ],
   "metadata": {
    "collapsed": false
   }
  },
  {
   "cell_type": "markdown",
   "source": [
    "### Checking all the tag types in all .ann files"
   ],
   "metadata": {
    "collapsed": false
   }
  },
  {
   "cell_type": "code",
   "execution_count": 13,
   "outputs": [
    {
     "data": {
      "text/plain": "{'#', '*', 'A', 'E', 'R', 'T'}"
     },
     "execution_count": 13,
     "metadata": {},
     "output_type": "execute_result"
    }
   ],
   "source": [
    "tags = []\n",
    "for ann_file in [os.path.join(MACCROBAT_data_dir, file_id+\".ann\") for file_id in file_ids]:\n",
    "    with open(ann_file) as f:\n",
    "        for line in f.readlines():\n",
    "            tags.append(line.split(\"\\t\")[0][0])\n",
    "\n",
    "set(tags)"
   ],
   "metadata": {
    "collapsed": false
   }
  },
  {
   "cell_type": "markdown",
   "source": [
    "For named entity recognition, only the T tags are needed to generate the BIO format. The other tags such as #, *, A, E, and R are used for representing different types of information in the .ann files and are not directly related to named entity recognition.\n",
    "\n",
    "\\# is used to denote comments in the annotation file.\n",
    "\\* is used to represent coreference annotations.\n",
    "A is used to represent attribute annotations.\n",
    "E is used to represent event annotations.\n",
    "R is used to represent relation annotations.\n",
    "\n",
    "Therefore, we can ignore all other tags except for the T tags when generating the BIO format for named entity recognition."
   ],
   "metadata": {
    "collapsed": false
   }
  },
  {
   "cell_type": "markdown",
   "source": [
    "### Find Entity types in ann files"
   ],
   "metadata": {
    "collapsed": false
   }
  },
  {
   "cell_type": "code",
   "execution_count": 23,
   "outputs": [],
   "source": [
    "# create an empty list to store the DataFrames\n",
    "df_list = []\n",
    "\n",
    "for ann_file in [os.path.join(MACCROBAT_data_dir, file_id+\".ann\") for file_id in file_ids]:\n",
    "    # read the TSV file with consecutive tabs treated as a single delimiter\n",
    "    df = pd.read_csv(ann_file, sep=\"\\t+\", header=None, names=['id', 'entity_with_range', 'word'], engine='python')\n",
    "\n",
    "    # selecting only T tag rows\n",
    "    df = df[df.iloc[:,0].str.startswith('T')]\n",
    "\n",
    "    df['file_name'] = f\"{os.path.splitext(ann_file)[0]}.txt\"\n",
    "\n",
    "    df_list.append(df)\n",
    "\n",
    "ann_df = pd.concat(df_list)\n",
    "ann_df = ann_df.reset_index(drop=True)"
   ],
   "metadata": {
    "collapsed": false
   }
  },
  {
   "cell_type": "code",
   "execution_count": 24,
   "outputs": [
    {
     "data": {
      "text/plain": "   id     entity_with_range         word                       file_name\n0  T1              Age 4 15  24-year-old  ../data/MACCROBAT/19860925.txt\n1  T2             Sex 28 32         male  ../data/MACCROBAT/19860925.txt\n2  T3         History 16 27  non-smoking  ../data/MACCROBAT/19860925.txt\n3  T4  Clinical_event 41 50    presented  ../data/MACCROBAT/19860925.txt\n4  T5    Sign_symptom 65 75   hemoptysis  ../data/MACCROBAT/19860925.txt",
      "text/html": "<div>\n<style scoped>\n    .dataframe tbody tr th:only-of-type {\n        vertical-align: middle;\n    }\n\n    .dataframe tbody tr th {\n        vertical-align: top;\n    }\n\n    .dataframe thead th {\n        text-align: right;\n    }\n</style>\n<table border=\"1\" class=\"dataframe\">\n  <thead>\n    <tr style=\"text-align: right;\">\n      <th></th>\n      <th>id</th>\n      <th>entity_with_range</th>\n      <th>word</th>\n      <th>file_name</th>\n    </tr>\n  </thead>\n  <tbody>\n    <tr>\n      <th>0</th>\n      <td>T1</td>\n      <td>Age 4 15</td>\n      <td>24-year-old</td>\n      <td>../data/MACCROBAT/19860925.txt</td>\n    </tr>\n    <tr>\n      <th>1</th>\n      <td>T2</td>\n      <td>Sex 28 32</td>\n      <td>male</td>\n      <td>../data/MACCROBAT/19860925.txt</td>\n    </tr>\n    <tr>\n      <th>2</th>\n      <td>T3</td>\n      <td>History 16 27</td>\n      <td>non-smoking</td>\n      <td>../data/MACCROBAT/19860925.txt</td>\n    </tr>\n    <tr>\n      <th>3</th>\n      <td>T4</td>\n      <td>Clinical_event 41 50</td>\n      <td>presented</td>\n      <td>../data/MACCROBAT/19860925.txt</td>\n    </tr>\n    <tr>\n      <th>4</th>\n      <td>T5</td>\n      <td>Sign_symptom 65 75</td>\n      <td>hemoptysis</td>\n      <td>../data/MACCROBAT/19860925.txt</td>\n    </tr>\n  </tbody>\n</table>\n</div>"
     },
     "execution_count": 24,
     "metadata": {},
     "output_type": "execute_result"
    }
   ],
   "source": [
    "ann_df.head()"
   ],
   "metadata": {
    "collapsed": false
   }
  },
  {
   "cell_type": "code",
   "execution_count": 25,
   "outputs": [
    {
     "data": {
      "text/plain": "(25041, 4)"
     },
     "execution_count": 25,
     "metadata": {},
     "output_type": "execute_result"
    }
   ],
   "source": [
    "ann_df.shape"
   ],
   "metadata": {
    "collapsed": false
   }
  },
  {
   "cell_type": "markdown",
   "source": [
    "Few entries in data represents the tagged text spans more than one disjoint ranges\n",
    "Below are the entites with disjoint ranges"
   ],
   "metadata": {
    "collapsed": false
   }
  },
  {
   "cell_type": "code",
   "execution_count": 26,
   "outputs": [
    {
     "data": {
      "text/plain": "         id                                  entity_with_range  \\\n39      T40                   Disease_disorder 701 714;730 735   \n1190    T31                         Dosage 4085 4093;4103 4108   \n1272   T160                         Dosage 3117 3124;3135 3141   \n1469   T101           Detailed_description 2552 2559;2585 2654   \n2376    T42                     Administration 704 715;721 726   \n2380    T47                             Dosage 828 835;861 879   \n2381    T48                             Dosage 849 857;861 879   \n2853    T18               Diagnostic_procedure 341 350;357 358   \n3335    T16                   Disease_disorder 315 317;319 330   \n3336    T15                   Disease_disorder 297 313;319 330   \n3348    T28               Diagnostic_procedure 606 621;641 647   \n3359    T39           Diagnostic_procedure 1017 1032;1052 1058   \n3377    T59           Diagnostic_procedure 1316 1318;1328 1336   \n3380    T62           Biological_structure 1386 1391;1408 1412   \n3405    T86                            History 606 621;641 647   \n4622   T121           Biological_structure 2001 2005;2034 2037   \n4625   T124           Diagnostic_procedure 2114 2133;2139 2143   \n4654   T154           Biological_structure 2428 2438;2444 2463   \n4655   T155           Biological_structure 2428 2438;2472 2499   \n5443    T28                          Lab_value 535 538;546 550   \n5623   T110                      Lab_value 2015 2024;2052 2061   \n9738    T59           Biological_structure 1644 1653;1673 1684   \n11557   T15                   Disease_disorder 474 481;490 503   \n11561   T19           Diagnostic_procedure 2831 2851;2858 2859   \n11576   T34           Diagnostic_procedure 2637 2653;2667 2674   \n11584   T42           Diagnostic_procedure 2296 2320;2327 2335   \n11588   T46           Diagnostic_procedure 2362 2371;2375 2377   \n11589   T47           Diagnostic_procedure 2362 2371;2383 2386   \n13564   T79           Detailed_description 1366 1373;1386 1404   \n13826   T89                      Lab_value 1596 1600;1628 1631   \n13830   T93                      Lab_value 1657 1661;1690 1693   \n13860  T123           Diagnostic_procedure 2306 2308;2316 2323   \n16564   T66                   Sign_symptom 1557 1559;1560 1567   \n16578   T80           Detailed_description 2186 2188;2189 2196   \n16585   T87           Diagnostic_procedure 2427 2429;2430 2437   \n17000   T87  Other_event 1746 1813;1814 1845;1846 1878;1879...   \n17808  T163                   Other_entity 4047 4155;4156 4238   \n17849   T39           Biological_structure 1101 1111;1121 1126   \n17850   T40           Biological_structure 1101 1111;1131 1137   \n17856   T46                      Lab_value 1439 1446;1457 1476   \n17879   T69           Biological_structure 2352 2357;2367 2371   \n17895   T85           Biological_structure 2873 2880;2902 2912   \n17896   T86           Biological_structure 2873 2880;2917 2926   \n17943  T133           Biological_structure 1645 1650;1660 1673   \n17948  T138               Disease_disorder 1246 1252;1261 1274   \n18823   T51                           Date 1251 1257;1274 1276   \n20497   T26                               Time 464 465;477 484   \n20499   T28                               Time 467 468;477 484   \n20555   T84           Biological_structure 1610 1633;1652 1658   \n20591  T120           Biological_structure 2533 2540;2559 2570   \n20592  T121           Biological_structure 2542 2547;2559 2570   \n21984   T98                          Shape 1739 1743;1761 1766   \n22069   T75                   Sign_symptom 1994 2004;2021 2029   \n22621   T35               Biological_structure 900 905;915 918   \n22623   T37                          Lab_value 926 929;938 939   \n\n                                                    word  \\\n39                                   granular cell tumor   \n1190                                      low dose daily   \n1272                                      1500 mg weekly   \n1469   neither had developed any signs or symptoms su...   \n2376                                   intravenous bolus   \n2380                          5 mg/kg every 4 to 6 weeks   \n2381                         10 mg/kg every 4 to 6 weeks   \n2853                                         Hepatitis C   \n3335                                      LV dysfunction   \n3336                        left ventricular dysfunction   \n3348                              total carnitine levels   \n3359                              total carnitine levels   \n3377                                         LV function   \n3380                                          basal wall   \n3405                              total carnitine levels   \n4622                                            left arm   \n4625                            computed tomography scan   \n4654                      origins of subclavian arteries   \n4655              origins of right common carotid artery   \n5443                                            386  U/L   \n5623                                 Frequency decreased   \n9738                               pericolic lymph nodes   \n11557                              cardiac malformations   \n11561                             DNA Polymerase Gamma 2   \n11576                           Citrate synthase content   \n11584                  electron transport chain activity   \n11588                                       complexes II   \n11589                                      complexes III   \n13564                         without rebound tenderness   \n13826                                           6/24 N36   \n13830                                           6/18 N36   \n13860                                         T1 signals   \n16564                                         H. cinaedi   \n16578                                         H. cinaedi   \n16585                                         H. cinaedi   \n17000  Atrial septal defect ostium secundum type with...   \n17808  and we recommended no further exposure to lead...   \n17849                                   mandibular ramus   \n17850                                  mandibular corpus   \n17856                        shorter than the other side   \n17879                                         right ears   \n17895                                 cochlea vestibulum   \n17896                                  cochlea utriculum   \n17943                                right hemimandibula   \n17948                               Number abnormalities   \n18823                                          age of 44   \n20497                                          1 minutes   \n20499                                          5 minutes   \n20555                     individual COX-positive fibers   \n20591                                stomach homogenates   \n20592                                  ileum homogenates   \n21984                                         edge clear   \n22069                                perineural invasion   \n22621                                          right eye   \n22623                                              561 μ   \n\n                            file_name  \n39     ../data/MACCROBAT/19860925.txt  \n1190   ../data/MACCROBAT/20146086.txt  \n1272   ../data/MACCROBAT/20146086.txt  \n1469   ../data/MACCROBAT/28353558.txt  \n2376   ../data/MACCROBAT/23124805.txt  \n2380   ../data/MACCROBAT/23124805.txt  \n2381   ../data/MACCROBAT/23124805.txt  \n2853   ../data/MACCROBAT/18416479.txt  \n3335   ../data/MACCROBAT/23468586.txt  \n3336   ../data/MACCROBAT/23468586.txt  \n3348   ../data/MACCROBAT/23468586.txt  \n3359   ../data/MACCROBAT/23468586.txt  \n3377   ../data/MACCROBAT/23468586.txt  \n3380   ../data/MACCROBAT/23468586.txt  \n3405   ../data/MACCROBAT/23468586.txt  \n4622   ../data/MACCROBAT/19214295.txt  \n4625   ../data/MACCROBAT/19214295.txt  \n4654   ../data/MACCROBAT/19214295.txt  \n4655   ../data/MACCROBAT/19214295.txt  \n5443   ../data/MACCROBAT/28353561.txt  \n5623   ../data/MACCROBAT/22791498.txt  \n9738   ../data/MACCROBAT/19816630.txt  \n11557  ../data/MACCROBAT/21308977.txt  \n11561  ../data/MACCROBAT/21308977.txt  \n11576  ../data/MACCROBAT/21308977.txt  \n11584  ../data/MACCROBAT/21308977.txt  \n11588  ../data/MACCROBAT/21308977.txt  \n11589  ../data/MACCROBAT/21308977.txt  \n13564  ../data/MACCROBAT/17803823.txt  \n13826  ../data/MACCROBAT/25661749.txt  \n13830  ../data/MACCROBAT/25661749.txt  \n13860  ../data/MACCROBAT/25661749.txt  \n16564  ../data/MACCROBAT/28173879.txt  \n16578  ../data/MACCROBAT/28173879.txt  \n16585  ../data/MACCROBAT/28173879.txt  \n17000  ../data/MACCROBAT/21505579.txt  \n17808  ../data/MACCROBAT/27661040.txt  \n17849  ../data/MACCROBAT/25210224.txt  \n17850  ../data/MACCROBAT/25210224.txt  \n17856  ../data/MACCROBAT/25210224.txt  \n17879  ../data/MACCROBAT/25210224.txt  \n17895  ../data/MACCROBAT/25210224.txt  \n17896  ../data/MACCROBAT/25210224.txt  \n17943  ../data/MACCROBAT/25210224.txt  \n17948  ../data/MACCROBAT/25210224.txt  \n18823  ../data/MACCROBAT/28595573.txt  \n20497  ../data/MACCROBAT/19307547.txt  \n20499  ../data/MACCROBAT/19307547.txt  \n20555  ../data/MACCROBAT/19307547.txt  \n20591  ../data/MACCROBAT/19307547.txt  \n20592  ../data/MACCROBAT/19307547.txt  \n21984  ../data/MACCROBAT/28767567.txt  \n22069  ../data/MACCROBAT/19610147.txt  \n22621  ../data/MACCROBAT/26692730.txt  \n22623  ../data/MACCROBAT/26692730.txt  ",
      "text/html": "<div>\n<style scoped>\n    .dataframe tbody tr th:only-of-type {\n        vertical-align: middle;\n    }\n\n    .dataframe tbody tr th {\n        vertical-align: top;\n    }\n\n    .dataframe thead th {\n        text-align: right;\n    }\n</style>\n<table border=\"1\" class=\"dataframe\">\n  <thead>\n    <tr style=\"text-align: right;\">\n      <th></th>\n      <th>id</th>\n      <th>entity_with_range</th>\n      <th>word</th>\n      <th>file_name</th>\n    </tr>\n  </thead>\n  <tbody>\n    <tr>\n      <th>39</th>\n      <td>T40</td>\n      <td>Disease_disorder 701 714;730 735</td>\n      <td>granular cell tumor</td>\n      <td>../data/MACCROBAT/19860925.txt</td>\n    </tr>\n    <tr>\n      <th>1190</th>\n      <td>T31</td>\n      <td>Dosage 4085 4093;4103 4108</td>\n      <td>low dose daily</td>\n      <td>../data/MACCROBAT/20146086.txt</td>\n    </tr>\n    <tr>\n      <th>1272</th>\n      <td>T160</td>\n      <td>Dosage 3117 3124;3135 3141</td>\n      <td>1500 mg weekly</td>\n      <td>../data/MACCROBAT/20146086.txt</td>\n    </tr>\n    <tr>\n      <th>1469</th>\n      <td>T101</td>\n      <td>Detailed_description 2552 2559;2585 2654</td>\n      <td>neither had developed any signs or symptoms su...</td>\n      <td>../data/MACCROBAT/28353558.txt</td>\n    </tr>\n    <tr>\n      <th>2376</th>\n      <td>T42</td>\n      <td>Administration 704 715;721 726</td>\n      <td>intravenous bolus</td>\n      <td>../data/MACCROBAT/23124805.txt</td>\n    </tr>\n    <tr>\n      <th>2380</th>\n      <td>T47</td>\n      <td>Dosage 828 835;861 879</td>\n      <td>5 mg/kg every 4 to 6 weeks</td>\n      <td>../data/MACCROBAT/23124805.txt</td>\n    </tr>\n    <tr>\n      <th>2381</th>\n      <td>T48</td>\n      <td>Dosage 849 857;861 879</td>\n      <td>10 mg/kg every 4 to 6 weeks</td>\n      <td>../data/MACCROBAT/23124805.txt</td>\n    </tr>\n    <tr>\n      <th>2853</th>\n      <td>T18</td>\n      <td>Diagnostic_procedure 341 350;357 358</td>\n      <td>Hepatitis C</td>\n      <td>../data/MACCROBAT/18416479.txt</td>\n    </tr>\n    <tr>\n      <th>3335</th>\n      <td>T16</td>\n      <td>Disease_disorder 315 317;319 330</td>\n      <td>LV dysfunction</td>\n      <td>../data/MACCROBAT/23468586.txt</td>\n    </tr>\n    <tr>\n      <th>3336</th>\n      <td>T15</td>\n      <td>Disease_disorder 297 313;319 330</td>\n      <td>left ventricular dysfunction</td>\n      <td>../data/MACCROBAT/23468586.txt</td>\n    </tr>\n    <tr>\n      <th>3348</th>\n      <td>T28</td>\n      <td>Diagnostic_procedure 606 621;641 647</td>\n      <td>total carnitine levels</td>\n      <td>../data/MACCROBAT/23468586.txt</td>\n    </tr>\n    <tr>\n      <th>3359</th>\n      <td>T39</td>\n      <td>Diagnostic_procedure 1017 1032;1052 1058</td>\n      <td>total carnitine levels</td>\n      <td>../data/MACCROBAT/23468586.txt</td>\n    </tr>\n    <tr>\n      <th>3377</th>\n      <td>T59</td>\n      <td>Diagnostic_procedure 1316 1318;1328 1336</td>\n      <td>LV function</td>\n      <td>../data/MACCROBAT/23468586.txt</td>\n    </tr>\n    <tr>\n      <th>3380</th>\n      <td>T62</td>\n      <td>Biological_structure 1386 1391;1408 1412</td>\n      <td>basal wall</td>\n      <td>../data/MACCROBAT/23468586.txt</td>\n    </tr>\n    <tr>\n      <th>3405</th>\n      <td>T86</td>\n      <td>History 606 621;641 647</td>\n      <td>total carnitine levels</td>\n      <td>../data/MACCROBAT/23468586.txt</td>\n    </tr>\n    <tr>\n      <th>4622</th>\n      <td>T121</td>\n      <td>Biological_structure 2001 2005;2034 2037</td>\n      <td>left arm</td>\n      <td>../data/MACCROBAT/19214295.txt</td>\n    </tr>\n    <tr>\n      <th>4625</th>\n      <td>T124</td>\n      <td>Diagnostic_procedure 2114 2133;2139 2143</td>\n      <td>computed tomography scan</td>\n      <td>../data/MACCROBAT/19214295.txt</td>\n    </tr>\n    <tr>\n      <th>4654</th>\n      <td>T154</td>\n      <td>Biological_structure 2428 2438;2444 2463</td>\n      <td>origins of subclavian arteries</td>\n      <td>../data/MACCROBAT/19214295.txt</td>\n    </tr>\n    <tr>\n      <th>4655</th>\n      <td>T155</td>\n      <td>Biological_structure 2428 2438;2472 2499</td>\n      <td>origins of right common carotid artery</td>\n      <td>../data/MACCROBAT/19214295.txt</td>\n    </tr>\n    <tr>\n      <th>5443</th>\n      <td>T28</td>\n      <td>Lab_value 535 538;546 550</td>\n      <td>386  U/L</td>\n      <td>../data/MACCROBAT/28353561.txt</td>\n    </tr>\n    <tr>\n      <th>5623</th>\n      <td>T110</td>\n      <td>Lab_value 2015 2024;2052 2061</td>\n      <td>Frequency decreased</td>\n      <td>../data/MACCROBAT/22791498.txt</td>\n    </tr>\n    <tr>\n      <th>9738</th>\n      <td>T59</td>\n      <td>Biological_structure 1644 1653;1673 1684</td>\n      <td>pericolic lymph nodes</td>\n      <td>../data/MACCROBAT/19816630.txt</td>\n    </tr>\n    <tr>\n      <th>11557</th>\n      <td>T15</td>\n      <td>Disease_disorder 474 481;490 503</td>\n      <td>cardiac malformations</td>\n      <td>../data/MACCROBAT/21308977.txt</td>\n    </tr>\n    <tr>\n      <th>11561</th>\n      <td>T19</td>\n      <td>Diagnostic_procedure 2831 2851;2858 2859</td>\n      <td>DNA Polymerase Gamma 2</td>\n      <td>../data/MACCROBAT/21308977.txt</td>\n    </tr>\n    <tr>\n      <th>11576</th>\n      <td>T34</td>\n      <td>Diagnostic_procedure 2637 2653;2667 2674</td>\n      <td>Citrate synthase content</td>\n      <td>../data/MACCROBAT/21308977.txt</td>\n    </tr>\n    <tr>\n      <th>11584</th>\n      <td>T42</td>\n      <td>Diagnostic_procedure 2296 2320;2327 2335</td>\n      <td>electron transport chain activity</td>\n      <td>../data/MACCROBAT/21308977.txt</td>\n    </tr>\n    <tr>\n      <th>11588</th>\n      <td>T46</td>\n      <td>Diagnostic_procedure 2362 2371;2375 2377</td>\n      <td>complexes II</td>\n      <td>../data/MACCROBAT/21308977.txt</td>\n    </tr>\n    <tr>\n      <th>11589</th>\n      <td>T47</td>\n      <td>Diagnostic_procedure 2362 2371;2383 2386</td>\n      <td>complexes III</td>\n      <td>../data/MACCROBAT/21308977.txt</td>\n    </tr>\n    <tr>\n      <th>13564</th>\n      <td>T79</td>\n      <td>Detailed_description 1366 1373;1386 1404</td>\n      <td>without rebound tenderness</td>\n      <td>../data/MACCROBAT/17803823.txt</td>\n    </tr>\n    <tr>\n      <th>13826</th>\n      <td>T89</td>\n      <td>Lab_value 1596 1600;1628 1631</td>\n      <td>6/24 N36</td>\n      <td>../data/MACCROBAT/25661749.txt</td>\n    </tr>\n    <tr>\n      <th>13830</th>\n      <td>T93</td>\n      <td>Lab_value 1657 1661;1690 1693</td>\n      <td>6/18 N36</td>\n      <td>../data/MACCROBAT/25661749.txt</td>\n    </tr>\n    <tr>\n      <th>13860</th>\n      <td>T123</td>\n      <td>Diagnostic_procedure 2306 2308;2316 2323</td>\n      <td>T1 signals</td>\n      <td>../data/MACCROBAT/25661749.txt</td>\n    </tr>\n    <tr>\n      <th>16564</th>\n      <td>T66</td>\n      <td>Sign_symptom 1557 1559;1560 1567</td>\n      <td>H. cinaedi</td>\n      <td>../data/MACCROBAT/28173879.txt</td>\n    </tr>\n    <tr>\n      <th>16578</th>\n      <td>T80</td>\n      <td>Detailed_description 2186 2188;2189 2196</td>\n      <td>H. cinaedi</td>\n      <td>../data/MACCROBAT/28173879.txt</td>\n    </tr>\n    <tr>\n      <th>16585</th>\n      <td>T87</td>\n      <td>Diagnostic_procedure 2427 2429;2430 2437</td>\n      <td>H. cinaedi</td>\n      <td>../data/MACCROBAT/28173879.txt</td>\n    </tr>\n    <tr>\n      <th>17000</th>\n      <td>T87</td>\n      <td>Other_event 1746 1813;1814 1845;1846 1878;1879...</td>\n      <td>Atrial septal defect ostium secundum type with...</td>\n      <td>../data/MACCROBAT/21505579.txt</td>\n    </tr>\n    <tr>\n      <th>17808</th>\n      <td>T163</td>\n      <td>Other_entity 4047 4155;4156 4238</td>\n      <td>and we recommended no further exposure to lead...</td>\n      <td>../data/MACCROBAT/27661040.txt</td>\n    </tr>\n    <tr>\n      <th>17849</th>\n      <td>T39</td>\n      <td>Biological_structure 1101 1111;1121 1126</td>\n      <td>mandibular ramus</td>\n      <td>../data/MACCROBAT/25210224.txt</td>\n    </tr>\n    <tr>\n      <th>17850</th>\n      <td>T40</td>\n      <td>Biological_structure 1101 1111;1131 1137</td>\n      <td>mandibular corpus</td>\n      <td>../data/MACCROBAT/25210224.txt</td>\n    </tr>\n    <tr>\n      <th>17856</th>\n      <td>T46</td>\n      <td>Lab_value 1439 1446;1457 1476</td>\n      <td>shorter than the other side</td>\n      <td>../data/MACCROBAT/25210224.txt</td>\n    </tr>\n    <tr>\n      <th>17879</th>\n      <td>T69</td>\n      <td>Biological_structure 2352 2357;2367 2371</td>\n      <td>right ears</td>\n      <td>../data/MACCROBAT/25210224.txt</td>\n    </tr>\n    <tr>\n      <th>17895</th>\n      <td>T85</td>\n      <td>Biological_structure 2873 2880;2902 2912</td>\n      <td>cochlea vestibulum</td>\n      <td>../data/MACCROBAT/25210224.txt</td>\n    </tr>\n    <tr>\n      <th>17896</th>\n      <td>T86</td>\n      <td>Biological_structure 2873 2880;2917 2926</td>\n      <td>cochlea utriculum</td>\n      <td>../data/MACCROBAT/25210224.txt</td>\n    </tr>\n    <tr>\n      <th>17943</th>\n      <td>T133</td>\n      <td>Biological_structure 1645 1650;1660 1673</td>\n      <td>right hemimandibula</td>\n      <td>../data/MACCROBAT/25210224.txt</td>\n    </tr>\n    <tr>\n      <th>17948</th>\n      <td>T138</td>\n      <td>Disease_disorder 1246 1252;1261 1274</td>\n      <td>Number abnormalities</td>\n      <td>../data/MACCROBAT/25210224.txt</td>\n    </tr>\n    <tr>\n      <th>18823</th>\n      <td>T51</td>\n      <td>Date 1251 1257;1274 1276</td>\n      <td>age of 44</td>\n      <td>../data/MACCROBAT/28595573.txt</td>\n    </tr>\n    <tr>\n      <th>20497</th>\n      <td>T26</td>\n      <td>Time 464 465;477 484</td>\n      <td>1 minutes</td>\n      <td>../data/MACCROBAT/19307547.txt</td>\n    </tr>\n    <tr>\n      <th>20499</th>\n      <td>T28</td>\n      <td>Time 467 468;477 484</td>\n      <td>5 minutes</td>\n      <td>../data/MACCROBAT/19307547.txt</td>\n    </tr>\n    <tr>\n      <th>20555</th>\n      <td>T84</td>\n      <td>Biological_structure 1610 1633;1652 1658</td>\n      <td>individual COX-positive fibers</td>\n      <td>../data/MACCROBAT/19307547.txt</td>\n    </tr>\n    <tr>\n      <th>20591</th>\n      <td>T120</td>\n      <td>Biological_structure 2533 2540;2559 2570</td>\n      <td>stomach homogenates</td>\n      <td>../data/MACCROBAT/19307547.txt</td>\n    </tr>\n    <tr>\n      <th>20592</th>\n      <td>T121</td>\n      <td>Biological_structure 2542 2547;2559 2570</td>\n      <td>ileum homogenates</td>\n      <td>../data/MACCROBAT/19307547.txt</td>\n    </tr>\n    <tr>\n      <th>21984</th>\n      <td>T98</td>\n      <td>Shape 1739 1743;1761 1766</td>\n      <td>edge clear</td>\n      <td>../data/MACCROBAT/28767567.txt</td>\n    </tr>\n    <tr>\n      <th>22069</th>\n      <td>T75</td>\n      <td>Sign_symptom 1994 2004;2021 2029</td>\n      <td>perineural invasion</td>\n      <td>../data/MACCROBAT/19610147.txt</td>\n    </tr>\n    <tr>\n      <th>22621</th>\n      <td>T35</td>\n      <td>Biological_structure 900 905;915 918</td>\n      <td>right eye</td>\n      <td>../data/MACCROBAT/26692730.txt</td>\n    </tr>\n    <tr>\n      <th>22623</th>\n      <td>T37</td>\n      <td>Lab_value 926 929;938 939</td>\n      <td>561 μ</td>\n      <td>../data/MACCROBAT/26692730.txt</td>\n    </tr>\n  </tbody>\n</table>\n</div>"
     },
     "execution_count": 26,
     "metadata": {},
     "output_type": "execute_result"
    }
   ],
   "source": [
    "ann_df[ann_df['entity_with_range'].str.split().str.len() > 3]"
   ],
   "metadata": {
    "collapsed": false
   }
  },
  {
   "cell_type": "markdown",
   "source": [
    "Note that the \"B\" prefix is used to indicate the beginning of an entity, while the \"I\" prefix is used to indicate an intermediate token within an entity. When there are disjoint ranges for an entity, we can start a new entity with a \"B\" prefix for each range.\n",
    "\n",
    "Including the full text that spans disjoint ranges in the BIO format will help the model learn to recognize the entire entity, even if it is fragmented across multiple parts of the text."
   ],
   "metadata": {
    "collapsed": false
   }
  },
  {
   "cell_type": "markdown",
   "source": [
    "### Splitting entity_with_ranges column"
   ],
   "metadata": {
    "collapsed": false
   }
  },
  {
   "cell_type": "code",
   "execution_count": 27,
   "outputs": [
    {
     "data": {
      "text/plain": "   id          entity    ranges         word                       file_name\n0  T1             Age   [4, 15]  24-year-old  ../data/MACCROBAT/19860925.txt\n1  T2             Sex  [28, 32]         male  ../data/MACCROBAT/19860925.txt\n2  T3         History  [16, 27]  non-smoking  ../data/MACCROBAT/19860925.txt\n3  T4  Clinical_event  [41, 50]    presented  ../data/MACCROBAT/19860925.txt\n4  T5    Sign_symptom  [65, 75]   hemoptysis  ../data/MACCROBAT/19860925.txt",
      "text/html": "<div>\n<style scoped>\n    .dataframe tbody tr th:only-of-type {\n        vertical-align: middle;\n    }\n\n    .dataframe tbody tr th {\n        vertical-align: top;\n    }\n\n    .dataframe thead th {\n        text-align: right;\n    }\n</style>\n<table border=\"1\" class=\"dataframe\">\n  <thead>\n    <tr style=\"text-align: right;\">\n      <th></th>\n      <th>id</th>\n      <th>entity</th>\n      <th>ranges</th>\n      <th>word</th>\n      <th>file_name</th>\n    </tr>\n  </thead>\n  <tbody>\n    <tr>\n      <th>0</th>\n      <td>T1</td>\n      <td>Age</td>\n      <td>[4, 15]</td>\n      <td>24-year-old</td>\n      <td>../data/MACCROBAT/19860925.txt</td>\n    </tr>\n    <tr>\n      <th>1</th>\n      <td>T2</td>\n      <td>Sex</td>\n      <td>[28, 32]</td>\n      <td>male</td>\n      <td>../data/MACCROBAT/19860925.txt</td>\n    </tr>\n    <tr>\n      <th>2</th>\n      <td>T3</td>\n      <td>History</td>\n      <td>[16, 27]</td>\n      <td>non-smoking</td>\n      <td>../data/MACCROBAT/19860925.txt</td>\n    </tr>\n    <tr>\n      <th>3</th>\n      <td>T4</td>\n      <td>Clinical_event</td>\n      <td>[41, 50]</td>\n      <td>presented</td>\n      <td>../data/MACCROBAT/19860925.txt</td>\n    </tr>\n    <tr>\n      <th>4</th>\n      <td>T5</td>\n      <td>Sign_symptom</td>\n      <td>[65, 75]</td>\n      <td>hemoptysis</td>\n      <td>../data/MACCROBAT/19860925.txt</td>\n    </tr>\n  </tbody>\n</table>\n</div>"
     },
     "execution_count": 27,
     "metadata": {},
     "output_type": "execute_result"
    }
   ],
   "source": [
    "ann_df['entity'] = ann_df['entity_with_range'].str.split().str[0]\n",
    "ann_df['ranges'] = ann_df['entity_with_range'].str.split().str[1:]\n",
    "ann_df = ann_df[['id', 'entity', 'ranges', 'word', 'file_name']]\n",
    "ann_df.head()"
   ],
   "metadata": {
    "collapsed": false
   }
  },
  {
   "cell_type": "markdown",
   "source": [
    "### All the entities in the dataset"
   ],
   "metadata": {
    "collapsed": false
   }
  },
  {
   "cell_type": "code",
   "execution_count": 28,
   "outputs": [
    {
     "name": "stdout",
     "output_type": "stream",
     "text": [
      "The set of entities available in the dataset is as follows: \n"
     ]
    },
    {
     "data": {
      "text/plain": "{'Activity',\n 'Administration',\n 'Age',\n 'Area',\n 'Biological_attribute',\n 'Biological_structure',\n 'Clinical_event',\n 'Color',\n 'Coreference',\n 'Date',\n 'Detailed_description',\n 'Diagnostic_procedure',\n 'Disease_disorder',\n 'Distance',\n 'Dosage',\n 'Duration',\n 'Family_history',\n 'Frequency',\n 'Height',\n 'History',\n 'Lab_value',\n 'Mass',\n 'Medication',\n 'Nonbiological_location',\n 'Occupation',\n 'Other_entity',\n 'Other_event',\n 'Outcome',\n 'Personal_background',\n 'Qualitative_concept',\n 'Quantitative_concept',\n 'Severity',\n 'Sex',\n 'Shape',\n 'Sign_symptom',\n 'Subject',\n 'Texture',\n 'Therapeutic_procedure',\n 'Time',\n 'Volume',\n 'Weight'}"
     },
     "execution_count": 28,
     "metadata": {},
     "output_type": "execute_result"
    }
   ],
   "source": [
    "print(\"The set of entities available in the dataset is as follows: \")\n",
    "set(ann_df['entity'])"
   ],
   "metadata": {
    "collapsed": false
   }
  },
  {
   "cell_type": "markdown",
   "source": [
    "### Seeing sample words in each entities"
   ],
   "metadata": {
    "collapsed": false
   }
  },
  {
   "cell_type": "code",
   "execution_count": 55,
   "outputs": [
    {
     "name": "stdout",
     "output_type": "stream",
     "text": [
      "Entity:             Activity \n",
      " word:                 walk\n",
      "Entity:       Administration \n",
      " word:          intravenous\n",
      "Entity:                  Age \n",
      " word:          20-year-old\n",
      "Entity:                 Area \n",
      " word: 9 cm × 6 cm in diameter\n",
      "Entity: Biological_attribute \n",
      " word:           eczematous\n",
      "Entity: Biological_structure \n",
      " word:     descending colon\n",
      "Entity:       Clinical_event \n",
      " word:              visited\n",
      "Entity:                Color \n",
      " word:            yellowish\n",
      "Entity:          Coreference \n",
      " word:     heavy chain gene\n",
      "Entity:                 Date \n",
      " word:                 2012\n",
      "Entity: Detailed_description \n",
      " word: plate calcifications\n",
      "Entity: Diagnostic_procedure \n",
      " word: T2-weighted sequence\n",
      "Entity:     Disease_disorder \n",
      " word:  sebaceous carcinoma\n",
      "Entity:             Distance \n",
      " word:                 2-cm\n",
      "Entity:               Dosage \n",
      " word:     high-dose weekly\n",
      "Entity:             Duration \n",
      " word:         three months\n",
      "Entity:       Family_history \n",
      " word:    family of potters\n",
      "Entity:            Frequency \n",
      " word:  every 4 to 6 months\n",
      "Entity:               Height \n",
      " word:               165 cm\n",
      "Entity:              History \n",
      " word: free carnitine level\n",
      "Entity:            Lab_value \n",
      " word:  gradually worsening\n",
      "Entity:                 Mass \n",
      " word:               6.5 kg\n",
      "Entity:           Medication \n",
      " word:       growth hormone\n",
      "Entity: Nonbiological_location \n",
      " word:                   ED\n",
      "Entity:           Occupation \n",
      " word:              student\n",
      "Entity:         Other_entity \n",
      " word:   aortic cross-clamp\n",
      "Entity:          Other_event \n",
      " word: development of regular menstruation\n",
      "Entity:              Outcome \n",
      " word:         asymptomatic\n",
      "Entity:  Personal_background \n",
      " word:            Caucasian\n",
      "Entity:  Qualitative_concept \n",
      " word:                 slow\n",
      "Entity: Quantitative_concept \n",
      " word:                twice\n",
      "Entity:             Severity \n",
      " word:               severe\n",
      "Entity:                  Sex \n",
      " word:                  boy\n",
      "Entity:                Shape \n",
      " word:                plump\n",
      "Entity:         Sign_symptom \n",
      " word:             vomiting\n",
      "Entity:              Subject \n",
      " word:                donor\n",
      "Entity:              Texture \n",
      " word:                 soft\n",
      "Entity: Therapeutic_procedure \n",
      " word:          ventilation\n",
      "Entity:                 Time \n",
      " word: prior to the onset of lesions\n",
      "Entity:               Volume \n",
      " word:    5.3 × 2.2-cm-wide\n",
      "Entity:               Weight \n",
      " word:               3132 g\n"
     ]
    }
   ],
   "source": [
    "# Define a function to select random rows from each group\n",
    "def select_random_rows(group):\n",
    "    return group.sample(n=min(1, len(group)), replace=False)\n",
    "\n",
    "# Apply the function to the DataFrame grouped by 'group'\n",
    "random_rows = ann_df.groupby('entity').apply(select_random_rows)\n",
    "\n",
    "# Print the selected random rows\n",
    "for index, row in random_rows.iterrows():\n",
    "    print(f\"Entity: {row['entity']:>20} \\n word: {row['word']:>20}\")\n"
   ],
   "metadata": {
    "collapsed": false
   }
  },
  {
   "cell_type": "code",
   "execution_count": 58,
   "outputs": [
    {
     "data": {
      "text/plain": "entity\nDiagnostic_procedure      4567\nSign_symptom              3359\nBiological_structure      2931\nDetailed_description      2901\nLab_value                 2858\nDisease_disorder          1362\nMedication                1076\nTherapeutic_procedure     1005\nDate                       731\nClinical_event             626\nHistory                    392\nSeverity                   369\nDosage                     362\nNonbiological_location     354\nCoreference                313\nDuration                   280\nAge                        206\nSex                        191\nAdministration             175\nDistance                   122\nActivity                   108\nFamily_history              81\nFrequency                   76\nShape                       65\nTime                        57\nPersonal_background         57\nSubject                     54\nColor                       52\nTexture                     46\nArea                        43\nOutcome                     42\nQualitative_concept         41\nVolume                      33\nQuantitative_concept        31\nOther_event                 22\nOther_entity                20\nOccupation                  13\nBiological_attribute        10\nWeight                       4\nHeight                       4\nMass                         2\ndtype: int64"
     },
     "execution_count": 58,
     "metadata": {},
     "output_type": "execute_result"
    }
   ],
   "source": [
    "ann_df.groupby(['entity']).size().sort_values(ascending=False)"
   ],
   "metadata": {
    "collapsed": false
   }
  },
  {
   "cell_type": "code",
   "execution_count": 59,
   "outputs": [],
   "source": [
    "# Define the selected entities\n",
    "selected_entities = [\n",
    "    'Age', 'Biological_attribute', 'Biological_structure', 'Clinical_event', 'Diagnostic_procedure',\n",
    "    'Disease_disorder', 'Dosage', 'Family_history', 'Height', 'History', 'Lab_value', 'Mass',\n",
    "    'Medication', 'Sex', 'Sign_symptom', 'Therapeutic_procedure', 'Weight'\n",
    "]"
   ],
   "metadata": {
    "collapsed": false
   }
  },
  {
   "cell_type": "code",
   "execution_count": 60,
   "outputs": [
    {
     "data": {
      "text/plain": "   id          entity    ranges         word                       file_name\n0  T1             Age   [4, 15]  24-year-old  ../data/MACCROBAT/19860925.txt\n1  T2             Sex  [28, 32]         male  ../data/MACCROBAT/19860925.txt\n2  T3         History  [16, 27]  non-smoking  ../data/MACCROBAT/19860925.txt\n3  T4  Clinical_event  [41, 50]    presented  ../data/MACCROBAT/19860925.txt\n4  T5    Sign_symptom  [65, 75]   hemoptysis  ../data/MACCROBAT/19860925.txt",
      "text/html": "<div>\n<style scoped>\n    .dataframe tbody tr th:only-of-type {\n        vertical-align: middle;\n    }\n\n    .dataframe tbody tr th {\n        vertical-align: top;\n    }\n\n    .dataframe thead th {\n        text-align: right;\n    }\n</style>\n<table border=\"1\" class=\"dataframe\">\n  <thead>\n    <tr style=\"text-align: right;\">\n      <th></th>\n      <th>id</th>\n      <th>entity</th>\n      <th>ranges</th>\n      <th>word</th>\n      <th>file_name</th>\n    </tr>\n  </thead>\n  <tbody>\n    <tr>\n      <th>0</th>\n      <td>T1</td>\n      <td>Age</td>\n      <td>[4, 15]</td>\n      <td>24-year-old</td>\n      <td>../data/MACCROBAT/19860925.txt</td>\n    </tr>\n    <tr>\n      <th>1</th>\n      <td>T2</td>\n      <td>Sex</td>\n      <td>[28, 32]</td>\n      <td>male</td>\n      <td>../data/MACCROBAT/19860925.txt</td>\n    </tr>\n    <tr>\n      <th>2</th>\n      <td>T3</td>\n      <td>History</td>\n      <td>[16, 27]</td>\n      <td>non-smoking</td>\n      <td>../data/MACCROBAT/19860925.txt</td>\n    </tr>\n    <tr>\n      <th>3</th>\n      <td>T4</td>\n      <td>Clinical_event</td>\n      <td>[41, 50]</td>\n      <td>presented</td>\n      <td>../data/MACCROBAT/19860925.txt</td>\n    </tr>\n    <tr>\n      <th>4</th>\n      <td>T5</td>\n      <td>Sign_symptom</td>\n      <td>[65, 75]</td>\n      <td>hemoptysis</td>\n      <td>../data/MACCROBAT/19860925.txt</td>\n    </tr>\n  </tbody>\n</table>\n</div>"
     },
     "execution_count": 60,
     "metadata": {},
     "output_type": "execute_result"
    }
   ],
   "source": [
    "filtered_ann_df = ann_df[ann_df['entity'].isin(selected_entities)]\n",
    "filtered_ann_df = filtered_ann_df.reset_index(drop=True)\n",
    "filtered_ann_df.head()"
   ],
   "metadata": {
    "collapsed": false
   }
  },
  {
   "cell_type": "code",
   "execution_count": 61,
   "outputs": [
    {
     "data": {
      "text/plain": "(19036, 5)"
     },
     "execution_count": 61,
     "metadata": {},
     "output_type": "execute_result"
    }
   ],
   "source": [
    "filtered_ann_df.shape"
   ],
   "metadata": {
    "collapsed": false
   }
  },
  {
   "cell_type": "markdown",
   "source": [
    "### Checking if there are overlapping annotation ranges in each file"
   ],
   "metadata": {
    "collapsed": false
   }
  },
  {
   "cell_type": "code",
   "execution_count": 156,
   "outputs": [
    {
     "data": {
      "text/plain": "   id          entity    ranges         word                       file_name\n0  T1             Age   [4, 15]  24-year-old  ../data/MACCROBAT/19860925.txt\n1  T2             Sex  [28, 32]         male  ../data/MACCROBAT/19860925.txt\n2  T3         History  [16, 27]  non-smoking  ../data/MACCROBAT/19860925.txt\n3  T4  Clinical_event  [41, 50]    presented  ../data/MACCROBAT/19860925.txt\n4  T5    Sign_symptom  [65, 75]   hemoptysis  ../data/MACCROBAT/19860925.txt",
      "text/html": "<div>\n<style scoped>\n    .dataframe tbody tr th:only-of-type {\n        vertical-align: middle;\n    }\n\n    .dataframe tbody tr th {\n        vertical-align: top;\n    }\n\n    .dataframe thead th {\n        text-align: right;\n    }\n</style>\n<table border=\"1\" class=\"dataframe\">\n  <thead>\n    <tr style=\"text-align: right;\">\n      <th></th>\n      <th>id</th>\n      <th>entity</th>\n      <th>ranges</th>\n      <th>word</th>\n      <th>file_name</th>\n    </tr>\n  </thead>\n  <tbody>\n    <tr>\n      <th>0</th>\n      <td>T1</td>\n      <td>Age</td>\n      <td>[4, 15]</td>\n      <td>24-year-old</td>\n      <td>../data/MACCROBAT/19860925.txt</td>\n    </tr>\n    <tr>\n      <th>1</th>\n      <td>T2</td>\n      <td>Sex</td>\n      <td>[28, 32]</td>\n      <td>male</td>\n      <td>../data/MACCROBAT/19860925.txt</td>\n    </tr>\n    <tr>\n      <th>2</th>\n      <td>T3</td>\n      <td>History</td>\n      <td>[16, 27]</td>\n      <td>non-smoking</td>\n      <td>../data/MACCROBAT/19860925.txt</td>\n    </tr>\n    <tr>\n      <th>3</th>\n      <td>T4</td>\n      <td>Clinical_event</td>\n      <td>[41, 50]</td>\n      <td>presented</td>\n      <td>../data/MACCROBAT/19860925.txt</td>\n    </tr>\n    <tr>\n      <th>4</th>\n      <td>T5</td>\n      <td>Sign_symptom</td>\n      <td>[65, 75]</td>\n      <td>hemoptysis</td>\n      <td>../data/MACCROBAT/19860925.txt</td>\n    </tr>\n  </tbody>\n</table>\n</div>"
     },
     "execution_count": 156,
     "metadata": {},
     "output_type": "execute_result"
    }
   ],
   "source": [
    "test_df = filtered_ann_df[filtered_ann_df['file_name'] == '../data/MACCROBAT/19860925.txt']\n",
    "test_df.head()"
   ],
   "metadata": {
    "collapsed": false
   }
  },
  {
   "cell_type": "code",
   "execution_count": 342,
   "outputs": [],
   "source": [
    "def iterate_ranges(x):\n",
    "    if len(x) > 2:\n",
    "        new_x = []\n",
    "        start = x[0]\n",
    "        for num in x[1:]:\n",
    "            end = num.split(';')[0]\n",
    "            new_x.append([start, end])\n",
    "            if len(num.split(';')) > 1:\n",
    "                start = num.split(';')[1]\n",
    "        return new_x\n",
    "    else:\n",
    "        return [x]\n",
    "\n",
    "overlapping_entities = {}\n",
    "for file_name in filtered_ann_df.file_name.values:\n",
    "    test_df = filtered_ann_df[filtered_ann_df['file_name'] == file_name]\n",
    "\n",
    "    range_to_label = {}\n",
    "\n",
    "    for index, row in test_df.iterrows():\n",
    "        for start, end in iterate_ranges(row['ranges']):\n",
    "            range_to_label[(int(start), int(end))] = row['entity']\n",
    "        # if isinstance(row['ranges'][0], list):\n",
    "        #     for start, end in row['ranges']:\n",
    "        #         range_to_label[(int(start), int(end))] = row['entity']\n",
    "        # else:\n",
    "        #     start = int(row['ranges'][0])\n",
    "        #     end = int(row['ranges'][1])\n",
    "        #     range_to_label[(start, end)] = row['entity']\n",
    "\n",
    "\n",
    "    prev_start = -1\n",
    "    prev_end = -1\n",
    "    for start, end in dict(sorted(range_to_label.items(), key=lambda x: x[0][0])).keys():\n",
    "        if start <= prev_end:\n",
    "            if range_to_label[(prev_start, prev_end)] != range_to_label[(start, end)]:\n",
    "\n",
    "                if range_to_label[(prev_start, prev_end)] > range_to_label[(start, end)]:\n",
    "                    entity_1 = range_to_label[(prev_start, prev_end)]\n",
    "                    entity_1_len = prev_end - prev_start\n",
    "                    entity_2 =  range_to_label[(start, end)]\n",
    "                    entity_2_len = end - start\n",
    "                else:\n",
    "                    entity_1 =  range_to_label[(start, end)]\n",
    "                    entity_1_len = end - start\n",
    "                    entity_2 = range_to_label[(prev_start, prev_end)]\n",
    "                    entity_2_len = prev_end - prev_start\n",
    "\n",
    "                if (entity_1, entity_2) not in overlapping_entities:\n",
    "                    overlapping_entities[(entity_1, entity_2)] = [0, 0, 0]\n",
    "                overlapping_entities[(entity_1, entity_2)][0] += 1\n",
    "                if entity_1_len > entity_2_len:\n",
    "                    overlapping_entities[(entity_1, entity_2)][1] += 1\n",
    "                elif entity_1_len < entity_2_len:\n",
    "                    overlapping_entities[(entity_1, entity_2)][2] += 1\n",
    "\n",
    "        prev_start = start\n",
    "        prev_end = end"
   ],
   "metadata": {
    "collapsed": false
   }
  },
  {
   "cell_type": "code",
   "execution_count": 343,
   "outputs": [
    {
     "name": "stdout",
     "output_type": "stream",
     "text": [
      "Found overlapping entities and displaying overlapping entities in the format\n",
      "(entity1, entity2): [number of overlapping occurences, number of occurences when entity 1 entirely covers entity 2, number of occurences when entity 2 entirely covers entity 1\n"
     ]
    },
    {
     "data": {
      "text/plain": "{('History', 'Biological_structure'): [2028, 2028, 0],\n ('History', 'Disease_disorder'): [3026, 3026, 0],\n ('Lab_value', 'Diagnostic_procedure'): [240, 137, 103],\n ('Sign_symptom', 'History'): [1904, 0, 1904],\n ('Sign_symptom', 'Family_history'): [201, 0, 201],\n ('Medication', 'History'): [726, 0, 726],\n ('History', 'Diagnostic_procedure'): [304, 304, 0],\n ('Lab_value', 'Family_history'): [180, 0, 180],\n ('Family_history', 'Diagnostic_procedure'): [180, 180, 0],\n ('Sign_symptom', 'Biological_structure'): [417, 417, 0],\n ('Lab_value', 'History'): [899, 0, 899],\n ('History', 'Clinical_event'): [255, 255, 0],\n ('Therapeutic_procedure', 'History'): [1305, 0, 1305],\n ('Disease_disorder', 'Diagnostic_procedure'): [133, 0, 133],\n ('Sign_symptom', 'Disease_disorder'): [260, 132, 128],\n ('Family_history', 'Disease_disorder'): [270, 270, 0]}"
     },
     "execution_count": 343,
     "metadata": {},
     "output_type": "execute_result"
    }
   ],
   "source": [
    "print(\"Found overlapping entities and displaying overlapping entities in the format\")\n",
    "print(\"(entity1, entity2): [number of overlapping occurences, number of occurences when entity 1 entirely covers entity 2, number of occurences when entity 2 entirely covers entity 1\")\n",
    "overlapping_entities"
   ],
   "metadata": {
    "collapsed": false
   }
  },
  {
   "cell_type": "code",
   "execution_count": 344,
   "outputs": [
    {
     "data": {
      "text/plain": "{'Biological_structure',\n 'Clinical_event',\n 'Diagnostic_procedure',\n 'Disease_disorder',\n 'Family_history',\n 'History',\n 'Lab_value',\n 'Medication',\n 'Sign_symptom',\n 'Therapeutic_procedure'}"
     },
     "execution_count": 344,
     "metadata": {},
     "output_type": "execute_result"
    }
   ],
   "source": [
    "overlapping_entity_list = []\n",
    "for e1, e2 in list(overlapping_entities.keys()):\n",
    "    overlapping_entity_list.extend([e1, e2])\n",
    "set(overlapping_entity_list)"
   ],
   "metadata": {
    "collapsed": false
   }
  },
  {
   "cell_type": "code",
   "execution_count": 345,
   "outputs": [
    {
     "name": "stdout",
     "output_type": "stream",
     "text": [
      "                 Age: 206\n",
      "Biological_attribute: 10\n",
      "Biological_structure: 2931\n",
      "      Clinical_event: 626\n",
      "Diagnostic_procedure: 4567\n",
      "    Disease_disorder: 1362\n",
      "              Dosage: 362\n",
      "      Family_history: 81\n",
      "              Height: 4\n",
      "             History: 392\n",
      "           Lab_value: 2858\n",
      "                Mass: 2\n",
      "          Medication: 1076\n",
      "                 Sex: 191\n",
      "        Sign_symptom: 3359\n",
      "Therapeutic_procedure: 1005\n",
      "              Weight: 4\n"
     ]
    }
   ],
   "source": [
    "for entity in selected_entities:\n",
    "    print(f\"{entity:>20}: {filtered_ann_df[filtered_ann_df['entity']==entity].shape[0]}\")"
   ],
   "metadata": {
    "collapsed": false
   }
  },
  {
   "cell_type": "code",
   "execution_count": null,
   "outputs": [],
   "source": [
    "# Define the selected entities\n",
    "# change if necessary\n",
    "# selected_entities = [\n",
    "#     'Age', 'Biological_attribute', 'Biological_structure', 'Clinical_event', 'Diagnostic_procedure',\n",
    "#     'Disease_disorder', 'Dosage', 'Family_history', 'Height', 'History', 'Lab_value', 'Mass',\n",
    "#     'Medication', 'Sex', 'Sign_symptom', 'Therapeutic_procedure', 'Weight'\n",
    "# ]"
   ],
   "metadata": {
    "collapsed": false
   }
  },
  {
   "cell_type": "code",
   "execution_count": 346,
   "outputs": [],
   "source": [
    "# selected_entities = [\n",
    "#     'Age',\n",
    "#     'Biological_attribute',\n",
    "#     'Biological_structure',\n",
    "#     'Clinical_event',\n",
    "#     'Detailed_description',\n",
    "#     'Diagnostic_procedure',\n",
    "#     'Disease_disorder',\n",
    "#     'Family_history',\n",
    "#     'Lab_value',\n",
    "#     'Mass',\n",
    "#     'Medication',\n",
    "#     'Nonbiological_location',\n",
    "#     'Occupation',\n",
    "#     'Other_entity',\n",
    "#     'Qualitative_concept',\n",
    "#     'Quantitative_concept',\n",
    "#     'Sign_symptom',\n",
    "#     'Therapeutic_procedure'\n",
    "# ]\n"
   ],
   "metadata": {
    "collapsed": false
   }
  },
  {
   "cell_type": "code",
   "execution_count": 365,
   "outputs": [],
   "source": [
    "selected_entities = [\n",
    "    'Age',\n",
    "    'Biological_attribute',\n",
    "    'Biological_structure',\n",
    "    'Clinical_event',\n",
    "    'Diagnostic_procedure',\n",
    "    'Disease_disorder',\n",
    "    'Dosage',\n",
    "    'Family_history',\n",
    "    'Height',\n",
    "    'History',\n",
    "    'Lab_value',\n",
    "    'Mass',\n",
    "    'Medication',\n",
    "    'Sex',\n",
    "    'Sign_symptom',\n",
    "    'Therapeutic_procedure',\n",
    "    'Weight'\n",
    "]\n"
   ],
   "metadata": {
    "collapsed": false
   }
  },
  {
   "cell_type": "code",
   "execution_count": 366,
   "outputs": [
    {
     "data": {
      "text/plain": "   id          entity    ranges         word                       file_name\n0  T1             Age   [4, 15]  24-year-old  ../data/MACCROBAT/19860925.txt\n1  T2             Sex  [28, 32]         male  ../data/MACCROBAT/19860925.txt\n2  T3         History  [16, 27]  non-smoking  ../data/MACCROBAT/19860925.txt\n3  T4  Clinical_event  [41, 50]    presented  ../data/MACCROBAT/19860925.txt\n4  T5    Sign_symptom  [65, 75]   hemoptysis  ../data/MACCROBAT/19860925.txt",
      "text/html": "<div>\n<style scoped>\n    .dataframe tbody tr th:only-of-type {\n        vertical-align: middle;\n    }\n\n    .dataframe tbody tr th {\n        vertical-align: top;\n    }\n\n    .dataframe thead th {\n        text-align: right;\n    }\n</style>\n<table border=\"1\" class=\"dataframe\">\n  <thead>\n    <tr style=\"text-align: right;\">\n      <th></th>\n      <th>id</th>\n      <th>entity</th>\n      <th>ranges</th>\n      <th>word</th>\n      <th>file_name</th>\n    </tr>\n  </thead>\n  <tbody>\n    <tr>\n      <th>0</th>\n      <td>T1</td>\n      <td>Age</td>\n      <td>[4, 15]</td>\n      <td>24-year-old</td>\n      <td>../data/MACCROBAT/19860925.txt</td>\n    </tr>\n    <tr>\n      <th>1</th>\n      <td>T2</td>\n      <td>Sex</td>\n      <td>[28, 32]</td>\n      <td>male</td>\n      <td>../data/MACCROBAT/19860925.txt</td>\n    </tr>\n    <tr>\n      <th>2</th>\n      <td>T3</td>\n      <td>History</td>\n      <td>[16, 27]</td>\n      <td>non-smoking</td>\n      <td>../data/MACCROBAT/19860925.txt</td>\n    </tr>\n    <tr>\n      <th>3</th>\n      <td>T4</td>\n      <td>Clinical_event</td>\n      <td>[41, 50]</td>\n      <td>presented</td>\n      <td>../data/MACCROBAT/19860925.txt</td>\n    </tr>\n    <tr>\n      <th>4</th>\n      <td>T5</td>\n      <td>Sign_symptom</td>\n      <td>[65, 75]</td>\n      <td>hemoptysis</td>\n      <td>../data/MACCROBAT/19860925.txt</td>\n    </tr>\n  </tbody>\n</table>\n</div>"
     },
     "execution_count": 366,
     "metadata": {},
     "output_type": "execute_result"
    }
   ],
   "source": [
    "filtered_ann_df = ann_df[ann_df['entity'].isin(selected_entities)]\n",
    "filtered_ann_df = filtered_ann_df.reset_index(drop=True)\n",
    "filtered_ann_df.head()"
   ],
   "metadata": {
    "collapsed": false
   }
  },
  {
   "cell_type": "code",
   "execution_count": 368,
   "outputs": [],
   "source": [
    "def iterate_ranges(x):\n",
    "    if len(x) > 2:\n",
    "        new_x = []\n",
    "        start = x[0]\n",
    "        for num in x[1:]:\n",
    "            end = num.split(';')[0]\n",
    "            new_x.append([start, end])\n",
    "            if len(num.split(';')) > 1:\n",
    "                start = num.split(';')[1]\n",
    "        return new_x\n",
    "    else:\n",
    "        return [x]\n",
    "\n",
    "overlapping_entities = {}\n",
    "overall_range_to_label = {}\n",
    "for file_name in filtered_ann_df.file_name.values:\n",
    "    test_df = filtered_ann_df[filtered_ann_df['file_name'] == file_name]\n",
    "\n",
    "    range_to_label = {}\n",
    "    for index, row in test_df.iterrows():\n",
    "        for start, end in iterate_ranges(row['ranges']):\n",
    "            range_to_label[(int(start), int(end))] = row['entity']\n",
    "            overall_range_to_label[(file_name, int(start), int(end))] = row['entity']\n",
    "\n",
    "    prev_start = -1\n",
    "    prev_end = -1\n",
    "    for start, end in dict(sorted(range_to_label.items(), key=lambda x: x[0][0])).keys():\n",
    "\n",
    "        if start <= prev_end:\n",
    "            if overall_range_to_label[(file_name, prev_start, prev_end)] != overall_range_to_label[(file_name, start, end)]:\n",
    "                entity_1 = overall_range_to_label[(file_name, prev_start, prev_end)]\n",
    "                entity_1_len = prev_end - prev_start\n",
    "                entity_2 =  overall_range_to_label[(file_name, start, end)]\n",
    "                entity_2_len = end - start\n",
    "\n",
    "                if prev_end - prev_start > end - start:\n",
    "                    del overall_range_to_label[(file_name, start, end)]\n",
    "                    continue\n",
    "\n",
    "                elif prev_end - prev_start < end - start:\n",
    "                    del overall_range_to_label[(file_name, prev_start, prev_end)]\n",
    "\n",
    "            elif overall_range_to_label[(file_name, prev_start, prev_end)] == overall_range_to_label[(file_name, start, end)]:\n",
    "\n",
    "                entity = overall_range_to_label[(file_name, prev_start, prev_end)]\n",
    "                del overall_range_to_label[(file_name, prev_start, prev_end)]\n",
    "                del overall_range_to_label[(file_name, start, end)]\n",
    "                overall_range_to_label[(file_name, prev_start, max(end, prev_end))] =  entity\n",
    "                continue\n",
    "\n",
    "        prev_start = start\n",
    "        prev_end = end"
   ],
   "metadata": {
    "collapsed": false
   }
  },
  {
   "cell_type": "code",
   "execution_count": 369,
   "outputs": [],
   "source": [
    "prev_start = -1\n",
    "prev_end = -1\n",
    "prev_file = None\n",
    "for file_name, start, end in dict(sorted(overall_range_to_label.items(), key=lambda x: (x[0], x[1]))).keys():\n",
    "    if prev_file != file_name:\n",
    "        prev_file = file_name\n",
    "        prev_start = -1\n",
    "        prev_end = -1\n",
    "        continue\n",
    "\n",
    "    if start <= prev_end:\n",
    "        print('Alert - Check')\n",
    "        print(file_name, prev_start, prev_end, start, end)\n",
    "        print(overall_range_to_label[(file_name, prev_start, prev_end)], overall_range_to_label[(file_name, start, end)])\n",
    "\n",
    "    prev_start = start\n",
    "    prev_end = end\n"
   ],
   "metadata": {
    "collapsed": false
   }
  },
  {
   "cell_type": "markdown",
   "source": [
    "**Fixed Overlapping ranges. Now single entity for each tokens**"
   ],
   "metadata": {
    "collapsed": false
   }
  },
  {
   "cell_type": "code",
   "execution_count": 370,
   "outputs": [
    {
     "name": "stdout",
     "output_type": "stream",
     "text": [
      "Total number of (start, end) ranges with corresponsing tag extracted is 18760\n"
     ]
    }
   ],
   "source": [
    "print(f\"Total number of (start, end) ranges with corresponsing tag extracted is {len(overall_range_to_label)}\")"
   ],
   "metadata": {
    "collapsed": false
   }
  },
  {
   "cell_type": "markdown",
   "source": [
    "### Generating BIO format files"
   ],
   "metadata": {
    "collapsed": false
   }
  },
  {
   "cell_type": "code",
   "execution_count": 374,
   "outputs": [],
   "source": [
    "import string"
   ],
   "metadata": {
    "collapsed": false
   }
  },
  {
   "cell_type": "code",
   "execution_count": 375,
   "outputs": [],
   "source": [
    "def tokenize_text(text):\n",
    "    # Tokenize the text into a list of words\n",
    "    tokens = []\n",
    "    for sentence in text.split('\\n'):\n",
    "        for word in sentence.split():\n",
    "            # Remove trailing punctuation marks from the word\n",
    "            while word and word[-1] in string.punctuation:\n",
    "                word = word[:-1]\n",
    "            tokens.append(word)\n",
    "    return tokens"
   ],
   "metadata": {
    "collapsed": false
   }
  },
  {
   "cell_type": "code",
   "execution_count": 376,
   "outputs": [
    {
     "name": "stdout",
     "output_type": "stream",
     "text": [
      "../data/NEW_BIO_FILES/19860925.bio completed\n",
      "../data/NEW_BIO_FILES/26361640.bio completed\n",
      "../data/NEW_BIO_FILES/26228535.bio completed\n",
      "../data/NEW_BIO_FILES/27773410.bio completed\n",
      "../data/NEW_BIO_FILES/23678274.bio completed\n",
      "../data/NEW_BIO_FILES/25853982.bio completed\n",
      "../data/NEW_BIO_FILES/28103924.bio completed\n",
      "../data/NEW_BIO_FILES/27064109.bio completed\n",
      "../data/NEW_BIO_FILES/28154700.bio completed\n",
      "../data/NEW_BIO_FILES/20146086.bio completed\n",
      "../data/NEW_BIO_FILES/26656340.bio completed\n",
      "../data/NEW_BIO_FILES/28353558.bio completed\n",
      "../data/NEW_BIO_FILES/22515939.bio completed\n",
      "../data/NEW_BIO_FILES/28353588.bio completed\n",
      "../data/NEW_BIO_FILES/26309459.bio completed\n",
      "../data/NEW_BIO_FILES/28272235.bio completed\n",
      "../data/NEW_BIO_FILES/23242090.bio completed\n",
      "../data/NEW_BIO_FILES/23312850.bio completed\n",
      "../data/NEW_BIO_FILES/23124805.bio completed\n",
      "../data/NEW_BIO_FILES/26106249.bio completed\n",
      "../data/NEW_BIO_FILES/26313770.bio completed\n",
      "../data/NEW_BIO_FILES/26285706.bio completed\n",
      "../data/NEW_BIO_FILES/18416479.bio completed\n",
      "../data/NEW_BIO_FILES/28353613.bio completed\n",
      "../data/NEW_BIO_FILES/28151916.bio completed\n",
      "../data/NEW_BIO_FILES/26175648.bio completed\n",
      "../data/NEW_BIO_FILES/23468586.bio completed\n",
      "../data/NEW_BIO_FILES/28216610.bio completed\n",
      "../data/NEW_BIO_FILES/27059701.bio completed\n",
      "../data/NEW_BIO_FILES/28121940.bio completed\n",
      "../data/NEW_BIO_FILES/23077697.bio completed\n",
      "../data/NEW_BIO_FILES/27741115.bio completed\n",
      "../data/NEW_BIO_FILES/21067996.bio completed\n",
      "../data/NEW_BIO_FILES/28100235.bio completed\n",
      "../data/NEW_BIO_FILES/28151860.bio completed\n",
      "../data/NEW_BIO_FILES/25884600.bio completed\n",
      "../data/NEW_BIO_FILES/27904130.bio completed\n",
      "../data/NEW_BIO_FILES/19214295.bio completed\n",
      "../data/NEW_BIO_FILES/18787726.bio completed\n",
      "../data/NEW_BIO_FILES/22719160.bio completed\n",
      "../data/NEW_BIO_FILES/28422883.bio completed\n",
      "../data/NEW_BIO_FILES/26675562.bio completed\n",
      "../data/NEW_BIO_FILES/21477357.bio completed\n",
      "../data/NEW_BIO_FILES/25139918.bio completed\n",
      "../data/NEW_BIO_FILES/28353561.bio completed\n",
      "../data/NEW_BIO_FILES/22791498.bio completed\n",
      "../data/NEW_BIO_FILES/28538413.bio completed\n",
      "../data/NEW_BIO_FILES/26457578.bio completed\n",
      "../data/NEW_BIO_FILES/27842605.bio completed\n",
      "../data/NEW_BIO_FILES/20671919.bio completed\n",
      "../data/NEW_BIO_FILES/25155594.bio completed\n",
      "../data/NEW_BIO_FILES/26469535.bio completed\n",
      "../data/NEW_BIO_FILES/28353604.bio completed\n",
      "../data/NEW_BIO_FILES/28403092.bio completed\n",
      "../data/NEW_BIO_FILES/28239141.bio completed\n",
      "../data/NEW_BIO_FILES/28202869.bio completed\n",
      "../data/NEW_BIO_FILES/25024632.bio completed\n",
      "../data/NEW_BIO_FILES/28403086.bio completed\n",
      "../data/NEW_BIO_FILES/18666334.bio completed\n",
      "../data/NEW_BIO_FILES/25572898.bio completed\n",
      "../data/NEW_BIO_FILES/28296775.bio completed\n",
      "../data/NEW_BIO_FILES/22514576.bio completed\n",
      "../data/NEW_BIO_FILES/26584481.bio completed\n",
      "../data/NEW_BIO_FILES/28296749.bio completed\n",
      "../data/NEW_BIO_FILES/16778410.bio completed\n",
      "../data/NEW_BIO_FILES/19860007.bio completed\n",
      "../data/NEW_BIO_FILES/28190872.bio completed\n",
      "../data/NEW_BIO_FILES/25743872.bio completed\n",
      "../data/NEW_BIO_FILES/26523273.bio completed\n",
      "../data/NEW_BIO_FILES/28193213.bio completed\n",
      "../data/NEW_BIO_FILES/28120581.bio completed\n",
      "../data/NEW_BIO_FILES/26670309.bio completed\n",
      "../data/NEW_BIO_FILES/26336183.bio completed\n",
      "../data/NEW_BIO_FILES/25410883.bio completed\n",
      "../data/NEW_BIO_FILES/26530965.bio completed\n",
      "../data/NEW_BIO_FILES/28057913.bio completed\n",
      "../data/NEW_BIO_FILES/20977862.bio completed\n",
      "../data/NEW_BIO_FILES/25721834.bio completed\n",
      "../data/NEW_BIO_FILES/19860006.bio completed\n",
      "../data/NEW_BIO_FILES/19816630.bio completed\n",
      "../data/NEW_BIO_FILES/23155491.bio completed\n",
      "../data/NEW_BIO_FILES/28207542.bio completed\n",
      "../data/NEW_BIO_FILES/23864579.bio completed\n",
      "../data/NEW_BIO_FILES/26361431.bio completed\n",
      "../data/NEW_BIO_FILES/26264228.bio completed\n",
      "../data/NEW_BIO_FILES/28100279.bio completed\n",
      "../data/NEW_BIO_FILES/25370695.bio completed\n",
      "../data/NEW_BIO_FILES/26683938.bio completed\n",
      "../data/NEW_BIO_FILES/18258107.bio completed\n",
      "../data/NEW_BIO_FILES/22665582.bio completed\n",
      "../data/NEW_BIO_FILES/28248858.bio completed\n",
      "../data/NEW_BIO_FILES/27218632.bio completed\n",
      "../data/NEW_BIO_FILES/25023062.bio completed\n",
      "../data/NEW_BIO_FILES/25293719.bio completed\n",
      "../data/NEW_BIO_FILES/21308977.bio completed\n",
      "../data/NEW_BIO_FILES/22814979.bio completed\n",
      "../data/NEW_BIO_FILES/18561524.bio completed\n",
      "../data/NEW_BIO_FILES/26444414.bio completed\n",
      "../data/NEW_BIO_FILES/21923918.bio completed\n",
      "../data/NEW_BIO_FILES/23035161.bio completed\n",
      "../data/NEW_BIO_FILES/24898994.bio completed\n",
      "../data/NEW_BIO_FILES/28265107.bio completed\n",
      "../data/NEW_BIO_FILES/27974938.bio completed\n",
      "../data/NEW_BIO_FILES/24526194.bio completed\n",
      "../data/NEW_BIO_FILES/25858931.bio completed\n",
      "../data/NEW_BIO_FILES/28090049.bio completed\n",
      "../data/NEW_BIO_FILES/28115731.bio completed\n",
      "../data/NEW_BIO_FILES/17803823.bio completed\n",
      "../data/NEW_BIO_FILES/24294397.bio completed\n",
      "../data/NEW_BIO_FILES/27683825.bio completed\n",
      "../data/NEW_BIO_FILES/25661749.bio completed\n",
      "../data/NEW_BIO_FILES/28196820.bio completed\n",
      "../data/NEW_BIO_FILES/28248891.bio completed\n",
      "../data/NEW_BIO_FILES/18236639.bio completed\n",
      "../data/NEW_BIO_FILES/28033278.bio completed\n",
      "../data/NEW_BIO_FILES/21672201.bio completed\n",
      "../data/NEW_BIO_FILES/21254744.bio completed\n",
      "../data/NEW_BIO_FILES/28079821.bio completed\n",
      "../data/NEW_BIO_FILES/26216058.bio completed\n",
      "../data/NEW_BIO_FILES/24957905.bio completed\n",
      "../data/NEW_BIO_FILES/27196481.bio completed\n",
      "../data/NEW_BIO_FILES/26266396.bio completed\n",
      "../data/NEW_BIO_FILES/24518095.bio completed\n",
      "../data/NEW_BIO_FILES/26350418.bio completed\n",
      "../data/NEW_BIO_FILES/23897372.bio completed\n",
      "../data/NEW_BIO_FILES/15939911.bio completed\n",
      "../data/NEW_BIO_FILES/25926582.bio completed\n",
      "../data/NEW_BIO_FILES/27980261.bio completed\n",
      "../data/NEW_BIO_FILES/27980272.bio completed\n",
      "../data/NEW_BIO_FILES/25759562.bio completed\n",
      "../data/NEW_BIO_FILES/27821134.bio completed\n",
      "../data/NEW_BIO_FILES/23033875.bio completed\n",
      "../data/NEW_BIO_FILES/28173879.bio completed\n",
      "../data/NEW_BIO_FILES/18815636.bio completed\n",
      "../data/NEW_BIO_FILES/23076693.bio completed\n",
      "../data/NEW_BIO_FILES/21527041.bio completed\n",
      "../data/NEW_BIO_FILES/21505579.bio completed\n",
      "../data/NEW_BIO_FILES/24781756.bio completed\n",
      "../data/NEW_BIO_FILES/28250406.bio completed\n",
      "../data/NEW_BIO_FILES/26405496.bio completed\n",
      "../data/NEW_BIO_FILES/25934795.bio completed\n",
      "../data/NEW_BIO_FILES/26629302.bio completed\n",
      "../data/NEW_BIO_FILES/27661040.bio completed\n",
      "../data/NEW_BIO_FILES/25210224.bio completed\n",
      "../data/NEW_BIO_FILES/28202865.bio completed\n",
      "../data/NEW_BIO_FILES/28321070.bio completed\n",
      "../data/NEW_BIO_FILES/28403099.bio completed\n",
      "../data/NEW_BIO_FILES/28202862.bio completed\n",
      "../data/NEW_BIO_FILES/25295501.bio completed\n",
      "../data/NEW_BIO_FILES/28320420.bio completed\n",
      "../data/NEW_BIO_FILES/28595573.bio completed\n",
      "../data/NEW_BIO_FILES/26474553.bio completed\n",
      "../data/NEW_BIO_FILES/27130218.bio completed\n",
      "../data/NEW_BIO_FILES/28154669.bio completed\n",
      "../data/NEW_BIO_FILES/22218279.bio completed\n",
      "../data/NEW_BIO_FILES/28154281.bio completed\n",
      "../data/NEW_BIO_FILES/25246819.bio completed\n",
      "../data/NEW_BIO_FILES/28353556.bio completed\n",
      "../data/NEW_BIO_FILES/26664317.bio completed\n",
      "../data/NEW_BIO_FILES/26445413.bio completed\n",
      "../data/NEW_BIO_FILES/26257516.bio completed\n",
      "../data/NEW_BIO_FILES/28272214.bio completed\n",
      "../data/NEW_BIO_FILES/28154287.bio completed\n",
      "../data/NEW_BIO_FILES/19307547.bio completed\n",
      "../data/NEW_BIO_FILES/27990013.bio completed\n",
      "../data/NEW_BIO_FILES/27998312.bio completed\n",
      "../data/NEW_BIO_FILES/27906105.bio completed\n",
      "../data/NEW_BIO_FILES/24043987.bio completed\n",
      "../data/NEW_BIO_FILES/27842595.bio completed\n",
      "../data/NEW_BIO_FILES/28321071.bio completed\n",
      "../data/NEW_BIO_FILES/24654246.bio completed\n",
      "../data/NEW_BIO_FILES/21720478.bio completed\n",
      "../data/NEW_BIO_FILES/28383413.bio completed\n",
      "../data/NEW_BIO_FILES/19009665.bio completed\n",
      "../data/NEW_BIO_FILES/28767567.bio completed\n",
      "../data/NEW_BIO_FILES/19610147.bio completed\n",
      "../data/NEW_BIO_FILES/22781096.bio completed\n",
      "../data/NEW_BIO_FILES/28321073.bio completed\n",
      "../data/NEW_BIO_FILES/27100441.bio completed\n",
      "../data/NEW_BIO_FILES/26692730.bio completed\n",
      "../data/NEW_BIO_FILES/27793101.bio completed\n",
      "../data/NEW_BIO_FILES/27004009.bio completed\n",
      "../data/NEW_BIO_FILES/28151882.bio completed\n",
      "../data/NEW_BIO_FILES/28353569.bio completed\n",
      "../data/NEW_BIO_FILES/27057898.bio completed\n",
      "../data/NEW_BIO_FILES/26327988.bio completed\n",
      "../data/NEW_BIO_FILES/28353596.bio completed\n",
      "../data/NEW_BIO_FILES/27928148.bio completed\n",
      "../data/NEW_BIO_FILES/22520024.bio completed\n",
      "../data/NEW_BIO_FILES/27846860.bio completed\n",
      "../data/NEW_BIO_FILES/26395443.bio completed\n",
      "../data/NEW_BIO_FILES/21129213.bio completed\n",
      "../data/NEW_BIO_FILES/25793030.bio completed\n",
      "../data/NEW_BIO_FILES/27749582.bio completed\n",
      "../data/NEW_BIO_FILES/28559815.bio completed\n",
      "../data/NEW_BIO_FILES/24161539.bio completed\n",
      "../data/NEW_BIO_FILES/28250304.bio completed\n",
      "../data/NEW_BIO_FILES/28292056.bio completed\n",
      "../data/NEW_BIO_FILES/25410034.bio completed\n",
      "../data/NEW_BIO_FILES/26714786.bio completed\n",
      "Conversion completed successfully.\n"
     ]
    }
   ],
   "source": [
    "output_dir = '../data/NEW_BIO_FILES'\n",
    "for file_id in file_ids:\n",
    "\n",
    "    txt_file = os.path.join(MACCROBAT_data_dir, file_id+\".txt\")\n",
    "    with open(txt_file, 'r') as f:\n",
    "        text = f.read()\n",
    "\n",
    "\n",
    "    tokens = tokenize_text(text)\n",
    "\n",
    "    # Initialize a list to hold the BIO-formatted tags\n",
    "    bio_tags = ['O'] * len(tokens)\n",
    "\n",
    "    curr_pos = 0\n",
    "    for i in range(len(tokens)):\n",
    "\n",
    "        token_start = text.find(tokens[i], curr_pos)\n",
    "        token_end = token_start + len(tokens[i])\n",
    "        curr_pos = token_end\n",
    "\n",
    "        for file_name, start, end in dict(sorted(overall_range_to_label.items(), key=lambda x: (x[0], x[1]))).keys():\n",
    "            if file_name == txt_file:\n",
    "                tag = overall_range_to_label[(file_name, start, end)]\n",
    "                if start <= token_start and end >= token_end:\n",
    "\n",
    "                    if token_start == start:\n",
    "                        bio_tags[i] = f'B-{tag}'\n",
    "                    else:\n",
    "                        bio_tags[i] = f'I-{tag}'\n",
    "\n",
    "    if not os.path.exists(output_dir):\n",
    "            os.makedirs(output_dir)\n",
    "\n",
    "    # Write the BIO tags to a new file\n",
    "    output_file = os.path.join(output_dir, file_id+\".bio\")\n",
    "    with open(output_file, 'w', encoding='utf-8') as f:\n",
    "        sentence_start_index = 0\n",
    "        for sentence in text.split('\\n'):\n",
    "            sentence_tokens = sentence.split()\n",
    "            sentence_length = len(sentence_tokens)\n",
    "            sentence_end_index = sentence_start_index + sentence_length\n",
    "            for i in range(sentence_start_index, sentence_end_index):\n",
    "                f.write(sentence_tokens[i - sentence_start_index] + '\\t' + bio_tags[i] + '\\n')\n",
    "            f.write('\\n')\n",
    "            sentence_start_index = sentence_end_index\n",
    "    print(f\"{output_file} completed\")\n",
    "print(\"Conversion completed successfully.\")"
   ],
   "metadata": {
    "collapsed": false
   }
  },
  {
   "cell_type": "markdown",
   "source": [
    "### Checking how many words with \"O\" tags"
   ],
   "metadata": {
    "collapsed": false
   }
  },
  {
   "cell_type": "code",
   "execution_count": 377,
   "outputs": [
    {
     "name": "stdout",
     "output_type": "stream",
     "text": [
      "   52223\r\n"
     ]
    }
   ],
   "source": [
    "output_dir = '../data/NEW_BIO_FILES'\n",
    "!grep -r 'O$' '{output_dir}' | wc -l"
   ],
   "metadata": {
    "collapsed": false
   }
  },
  {
   "cell_type": "markdown",
   "source": [
    "### Checking how many words have tags other than \"O\""
   ],
   "metadata": {
    "collapsed": false
   }
  },
  {
   "cell_type": "code",
   "execution_count": 378,
   "outputs": [
    {
     "name": "stdout",
     "output_type": "stream",
     "text": [
      "   35922\r\n"
     ]
    }
   ],
   "source": [
    "output_dir = '../data/NEW_BIO_FILES'\n",
    "!grep -rv 'O$' '{output_dir}' | wc -l"
   ],
   "metadata": {
    "collapsed": false
   }
  },
  {
   "cell_type": "markdown",
   "source": [
    "### Checking count for each entity"
   ],
   "metadata": {
    "collapsed": false
   }
  },
  {
   "cell_type": "code",
   "execution_count": 379,
   "outputs": [
    {
     "name": "stdout",
     "output_type": "stream",
     "text": [
      "Number of lines with Age tag is 254\n",
      "Number of lines with Biological_attribute tag is 13\n",
      "Number of lines with Biological_structure tag is 5327\n",
      "Number of lines with Clinical_event tag is 679\n",
      "Number of lines with Diagnostic_procedure tag is 7537\n",
      "Number of lines with Disease_disorder tag is 1938\n",
      "Number of lines with Dosage tag is 854\n",
      "Number of lines with Family_history tag is 485\n",
      "Number of lines with Height tag is 8\n",
      "Number of lines with History tag is 1781\n",
      "Number of lines with Lab_value tag is 4665\n",
      "Number of lines with Mass tag is 3\n",
      "Number of lines with Medication tag is 1293\n",
      "Number of lines with Sex tag is 191\n",
      "Number of lines with Sign_symptom tag is 4636\n",
      "Number of lines with Therapeutic_procedure tag is 1509\n",
      "Number of lines with Weight tag is 8\n"
     ]
    }
   ],
   "source": [
    "import subprocess\n",
    "def print_num_of_words_with_tag(directory, tag):\n",
    "    output = subprocess.check_output(['sh', '-c', f\"grep -r '{tag}$' {directory} | wc -l\"])\n",
    "    count = int(output.decode().strip())\n",
    "    print(f\"Number of lines with {tag} tag is {count}\")\n",
    "\n",
    "output_dir = '../data/NEW_BIO_FILES'\n",
    "for entity in selected_entities:\n",
    "    print_num_of_words_with_tag(output_dir, entity)"
   ],
   "metadata": {
    "collapsed": false
   }
  },
  {
   "cell_type": "code",
   "execution_count": 341,
   "outputs": [
    {
     "name": "stdout",
     "output_type": "stream",
     "text": [
      "Conversion completed successfully.\n"
     ]
    }
   ],
   "source": [
    "output_dir = '../data/BIO_FILES'\n",
    "for file_id in file_ids:\n",
    "\n",
    "    txt_file = os.path.join(MACCROBAT_data_dir, file_id+\".txt\")\n",
    "    with open(txt_file, 'r') as f:\n",
    "        text = f.read()\n",
    "\n",
    "\n",
    "    tokens = tokenize_text(text)\n",
    "\n",
    "    # Initialize a list to hold the BIO-formatted tags\n",
    "    bio_tags = ['O'] * len(tokens)\n",
    "\n",
    "    curr_pos = 0\n",
    "    for i in range(len(tokens)):\n",
    "\n",
    "        token_start = text.find(tokens[i], curr_pos)\n",
    "        token_end = token_start + len(tokens[i])\n",
    "        curr_pos = token_end\n",
    "\n",
    "        for file_name, start, end in dict(sorted(overall_range_to_label.items(), key=lambda x: (x[0], x[1]))).keys():\n",
    "            if file_name == txt_file:\n",
    "                tag = overall_range_to_label[(file_name, start, end)]\n",
    "                if start <= token_start and end >= token_end:\n",
    "\n",
    "                    if token_start == start:\n",
    "                        bio_tags[i] = f'B-{tag}'\n",
    "                    else:\n",
    "                        bio_tags[i] = f'I-{tag}'\n",
    "\n",
    "    if not os.path.exists(output_dir):\n",
    "            os.makedirs(output_dir)\n",
    "\n",
    "    # Write the BIO tags to a new file\n",
    "    output_file = os.path.join(output_dir, file_id+\".bio\")\n",
    "    with open(output_file, 'w', encoding='utf-8') as f:\n",
    "        sentence_start_index = 0\n",
    "        for sentence in text.split('\\n'):\n",
    "            sentence_tokens = sentence.split()\n",
    "            sentence_length = len(sentence_tokens)\n",
    "            sentence_end_index = sentence_start_index + sentence_length\n",
    "            for i in range(sentence_start_index, sentence_end_index):\n",
    "                f.write(sentence_tokens[i - sentence_start_index] + '\\t' + bio_tags[i] + '\\n')\n",
    "            f.write('\\n')\n",
    "            sentence_start_index = sentence_end_index\n",
    "\n",
    "print(\"Conversion completed successfully.\")\n",
    "\n"
   ],
   "metadata": {
    "collapsed": false
   }
  },
  {
   "cell_type": "markdown",
   "source": [
    "## Kaggle Data"
   ],
   "metadata": {
    "collapsed": false
   }
  },
  {
   "cell_type": "code",
   "execution_count": 381,
   "outputs": [],
   "source": [
    "json_file = '../data/Corona2.json'"
   ],
   "metadata": {
    "collapsed": false
   }
  },
  {
   "cell_type": "code",
   "execution_count": 382,
   "outputs": [],
   "source": [
    "import json"
   ],
   "metadata": {
    "collapsed": false
   }
  },
  {
   "cell_type": "code",
   "execution_count": 384,
   "outputs": [],
   "source": [
    "with open(json_file, \"r\") as f:\n",
    "    data = json.load(f)\n",
    "data = data['examples']"
   ],
   "metadata": {
    "collapsed": false
   }
  },
  {
   "cell_type": "code",
   "execution_count": 390,
   "outputs": [
    {
     "name": "stdout",
     "output_type": "stream",
     "text": [
      "Number of documents in dataset is 31\n"
     ]
    }
   ],
   "source": [
    "print(f'Number of documents in dataset is {len(data)}')"
   ],
   "metadata": {
    "collapsed": false
   }
  },
  {
   "cell_type": "code",
   "execution_count": 392,
   "outputs": [
    {
     "data": {
      "text/plain": "['Medicine', 'MedicalCondition', 'Pathogen']"
     },
     "execution_count": 392,
     "metadata": {},
     "output_type": "execute_result"
    }
   ],
   "source": [
    "tags = []\n",
    "for record in data:\n",
    "    for annotation in record['annotations']:\n",
    "        curr_tag = annotation['tag_name']\n",
    "        if curr_tag not in tags:\n",
    "            tags.append(curr_tag)\n",
    "tags"
   ],
   "metadata": {
    "collapsed": false
   }
  },
  {
   "cell_type": "code",
   "execution_count": 386,
   "outputs": [
    {
     "data": {
      "text/plain": "['Age',\n 'Biological_attribute',\n 'Biological_structure',\n 'Clinical_event',\n 'Diagnostic_procedure',\n 'Disease_disorder',\n 'Dosage',\n 'Family_history',\n 'Height',\n 'History',\n 'Lab_value',\n 'Mass',\n 'Medication',\n 'Sex',\n 'Sign_symptom',\n 'Therapeutic_procedure',\n 'Weight']"
     },
     "execution_count": 386,
     "metadata": {},
     "output_type": "execute_result"
    }
   ],
   "source": [
    "selected_entities"
   ],
   "metadata": {
    "collapsed": false
   }
  },
  {
   "cell_type": "markdown",
   "source": [
    "Medicine can be combined with Medication\n",
    "MedicalCondition can be combined with Disease_disorder\n",
    "Pathogen can be added as new entity tag"
   ],
   "metadata": {
    "collapsed": false
   }
  },
  {
   "cell_type": "code",
   "execution_count": 394,
   "outputs": [],
   "source": [
    "tags_dict = {\n",
    "    \"Medicine\": \"Medication\",\n",
    "    \"MedicalCondition\": \"Disease_disorder\",\n",
    "    \"Pathogen\": \"Pathogen\"\n",
    "}"
   ],
   "metadata": {
    "collapsed": false
   }
  },
  {
   "cell_type": "code",
   "execution_count": 418,
   "outputs": [
    {
     "name": "stdout",
     "output_type": "stream",
     "text": [
      "Diosmectite Medicine\n",
      "aluminomagnesium silicate Medicine\n",
      "diarrhea MedicalCondition\n",
      "kaopectate Medicine\n",
      "bismuth compounds Medicine\n",
      "Pepto-Bismol Medicine\n",
      "diarrhea MedicalCondition\n",
      "chemotherapy Medicine\n",
      "constipation MedicalCondition\n",
      "loperamide Medicine\n",
      "diarrhea MedicalCondition\n",
      "flatulence MedicalCondition\n",
      "loperamide Medicine\n",
      "diarrhea MedicalCondition\n",
      "diarrhea MedicalCondition\n",
      "Racecadotril Medicine\n",
      "diarrhea MedicalCondition\n",
      "loss of skin color MedicalCondition\n",
      "Diarrhea MedicalCondition\n",
      "watery bowel movements MedicalCondition\n",
      "dehydration MedicalCondition\n",
      "dehydration MedicalCondition\n",
      "diarrhoea MedicalCondition\n",
      "decrease in responsiveness MedicalCondition\n",
      "fast heart rate MedicalCondition\n",
      "Antiretroviral therapy Medicine\n",
      "ART Medicine\n",
      "ART Medicine\n",
      "HIV Pathogen\n",
      "HIV Pathogen\n",
      "ART Medicine\n",
      "HIV Pathogen\n",
      "[8][5][93] A combined approach with methotrexate and biologics improves ACR50, HAQ scores and RA remission rates.[94] Triple therapy consisting of methotrexate, sulfasalazine and hydroxychloroquine may also effectively control disease activity.[95] Adverse effects should be monitored regularly with toxicity including gastrointestinal, hematologic, pulmonary, and hepatic.[93] MedicalCondition\n",
      "DMARDs Medicine\n",
      "Hydroxychloroquine Medicine\n",
      "cyclosporin Medicine\n",
      "l MedicalCondition\n",
      "8][5][93] A combined approach with methotrexate and biologics improves ACR50, HAQ scores and RA remission rates.[94] Triple therapy consisting of methotrexate, sulfasalazine and hydroxychloroquine may also effectively control disease activity.[95] Adverse effects should be monitored regularly with toxicity including gastrointestinal, hematologic, pulmonary, and hepatic.[93] MedicalCondition\n",
      "DMARDs. MedicalCondition\n",
      "hydroxychloroquine Medicine\n",
      "Sulfasalazine Medicine\n",
      "monoclonal antibodies Medicine\n",
      "methotrexate Medicine\n",
      "Rituximab Medicine\n",
      "sulfasalazine Medicine\n",
      "cyclosporin Medicine\n",
      "etanercept Medicine\n",
      "certolizumab Medicine\n",
      "DMARDs Medicine\n",
      "sulfasalazine Medicine\n",
      "TNF-alpha inhibitors Medicine\n",
      "folic acid MedicalCondition\n",
      "sulfasalazine, leflunomide Medicine\n",
      "nausea MedicalCondition\n",
      "RA treatment Medicine\n",
      "rheumatoid arthritis MedicalCondition\n",
      "Leflunomide Medicine\n",
      "methotrexate Medicine\n",
      "Sodium aurothiomalate Medicine\n",
      "Methotrexate Medicine\n",
      "abdominal pain MedicalCondition\n",
      "leflunomide Medicine\n",
      "methotrexate Medicine\n",
      "vomiting Medicine\n",
      "methotrexate Medicine\n",
      "infliximab Medicine\n",
      "hydroxychloroquine Medicine\n",
      "ulfasalazine, leflunomide MedicalCondition\n",
      "tocilizumab Medicine\n",
      "tocilizumab Medicine\n",
      "methotrexate Medicine\n",
      "hydroxychloroquine Medicine\n",
      "Biological DMARDs Medicine\n",
      "steroids Medicine\n",
      "Hantaviruses Pathogen\n",
      "Bunyaviridae Pathogen\n",
      "Magboi virus Pathogen\n",
      "Mouyassué virus Pathogen\n",
      "rabies MedicalCondition\n",
      "rabies MedicalCondition\n",
      "ie MedicalCondition\n",
      "rabies virus Pathogen\n",
      "Rabies virus Pathogen\n",
      "dies MedicalCondition\n",
      "rabies MedicalCondition\n",
      "Bites MedicalCondition\n",
      "severe acute respiratory syndrome MedicalCondition\n",
      "coronavirus MedicalCondition\n",
      "SARS MedicalCondition\n",
      "died MedicalCondition\n",
      "coronavirus Pathogen\n",
      "SARS coronavirus Pathogen\n",
      "SARS MedicalCondition\n",
      "SARS-CoV Pathogen\n",
      "candidiasis MedicalCondition\n",
      "Bacterial vaginosis Pathogen\n",
      "skin infection MedicalCondition\n",
      "bacteria Pathogen\n",
      "cystitis MedicalCondition\n",
      "blisters MedicalCondition\n",
      "Cellulitis MedicalCondition\n",
      "pain during urination MedicalCondition\n",
      "vaginal infections MedicalCondition\n",
      "Erysipelas Pathogen\n",
      "Staphylococcus aureus Pathogen\n",
      "Bacterial gastroenteritis Pathogen\n",
      "surgical wounds MedicalCondition\n",
      "Streptococcus pyogenes Pathogen\n",
      "richomonas vag MedicalCondition\n",
      "bacterial inflammation Pathogen\n",
      "Bacterial pneumonia Pathogen\n",
      "yeast infection MedicalCondition\n",
      "inflammation MedicalCondition\n",
      "nephritis MedicalCondition\n",
      "cracks in the skin MedicalCondition\n",
      "intravenous drug injection Medicine\n",
      "inflammation MedicalCondition\n",
      "animal bites MedicalCondition\n",
      "bacteria Pathogen\n",
      "intravenous catheter insertion Medicine\n",
      "Cellulitis MedicalCondition\n",
      "inflammation MedicalCondition\n",
      "Lactobacilli Pathogen\n",
      "Bacterial meningitis Pathogen\n",
      "Escherichia Pathogen\n",
      "Trichomonas vaginalis Pathogen\n",
      "Escherichia coli Pathogen\n",
      "Listeria Pathogen\n",
      "Yersinia pestis Pathogen\n",
      "Francisella Pathogen\n",
      "Neisseria Pathogen\n",
      "Legionella Pathogen\n",
      "Nocardia Pathogen\n",
      "Mycobacterium Pathogen\n",
      "Brucella Pathogen\n",
      "Salmonella Pathogen\n",
      "Streptococcus Pathogen\n",
      "tetanus MedicalCondition\n",
      "tetanus, MedicalCondition\n",
      "Campylobacter, Pathogen\n",
      "Salmonella Pathogen\n",
      "pneumonia MedicalCondition\n",
      "typhoid fever MedicalCondition\n",
      "leprosy MedicalCondition\n",
      "Campylobacter Pathogen\n",
      "diphtheria MedicalCondition\n",
      "Pseudomonas Pathogen\n",
      "tuberculosis MedicalCondition\n",
      "syphilis MedicalCondition\n",
      "yphoid fever MedicalCondition\n",
      "Mycobacterium tuberculosis Pathogen\n",
      "Shigella Pathogen\n",
      "syphilis MedicalCondition\n",
      "Streptococcus Pathogen\n",
      "Hansen's disease MedicalCondition\n",
      "bacteria Pathogen\n",
      "Pseudomonas Pathogen\n",
      "diphtheria MedicalCondition\n",
      "pathogenic bacteria Pathogen\n",
      "Campylobacte MedicalCondition\n",
      "Shigella Pathogen\n",
      "bacteria Pathogen\n",
      "Salmonella Pathogen\n",
      "tetanus MedicalCondition\n",
      "foodborne illnesses MedicalCondition\n",
      "typhoid fever MedicalCondition\n",
      "Campylobacter Pathogen\n",
      "iphtheria, syphilis MedicalCondition\n",
      "amoxicillin Medicine\n",
      "anthrax vaccine Medicine\n",
      "doxycycline Medicine\n",
      "ciprofloxacin Medicine\n",
      "pneumococcal vaccine Medicine\n",
      "protozoan Pathogen\n",
      "infectious microorganism Pathogen\n",
      "fungus Pathogen\n",
      "bacterium Pathogen\n",
      "virus Pathogen\n",
      "fluvoxamine Medicine\n",
      "social anxiety MedicalCondition\n",
      "sertraline Medicine\n",
      "social anxiety disorder MedicalCondition\n",
      "MAOIs Medicine\n",
      "fluvoxamine Medicine\n",
      "venlafaxine Medicine\n",
      "imipramine Medicine\n",
      "social anxiety disorder MedicalCondition\n",
      "fluoxetine Medicine\n",
      "paroxetine MedicalCondition\n",
      "anxiety disorder MedicalCondition\n",
      "Sertraline Medicine\n",
      "Phenelzine Medicine\n",
      "clomipramine Medicine\n",
      "lobemide MedicalCondition\n",
      "ocial phobia MedicalCondition\n",
      "nxiety MedicalCondition\n",
      "M MedicalCondition\n",
      "escitalopram Medicine\n",
      "Moclobemide Medicine\n",
      "social phobia MedicalCondition\n",
      "TB therapy Medicine\n",
      "bedaquiline Medicine\n",
      "bedaquiline Medicine\n",
      "rifapentine Medicine\n",
      "isoniazid Medicine\n",
      "rifampin Medicine\n",
      "isoniazid Medicine\n",
      "isoniazid MedicalCondition\n",
      "rifampicin Medicine\n",
      "extensive scarring MedicalCondition\n",
      "chest pain MedicalCondition\n",
      "prolonged cough MedicalCondition\n",
      "cough up blood MedicalCondition\n",
      "massive bleeding MedicalCondition\n",
      "HIV Pathogen\n",
      "HIV Pathogen\n",
      "extrapulmonary tuberculosis MedicalCondition\n",
      "miliary tuberculosis MedicalCondition\n",
      "extrapulmonary infection MedicalCondition\n",
      "tuberculous meningitis MedicalCondition\n",
      "chickenpox MedicalCondition\n",
      "shingles MedicalCondition\n",
      "varicella zoster virus Pathogen\n",
      "Epstein–Barr virus Pathogen\n",
      "Yersinia pestis Pathogen\n",
      "herpes simplex virus Pathogen\n",
      "chickenpox MedicalCondition\n",
      "multiple sclerosis MedicalCondition\n",
      "Ebola virus Pathogen\n",
      "psychiatric illnesses MedicalCondition\n",
      "herpesvirus 6 Pathogen\n",
      "influenza MedicalCondition\n",
      "chickenpox MedicalCondition\n",
      "avian influenza MedicalCondition\n",
      "bornavirus Pathogen\n",
      "Parkinson's disease MedicalCondition\n",
      "adamantane Medicine\n",
      "HIV Pathogen\n",
      "saxagliptin Medicine\n",
      "dopamantine Medicine\n",
      "carmantadine Medicine\n",
      "amantadine Medicine\n",
      "Buprenorphine Medicine\n",
      "refractory depression MedicalCondition\n",
      "Buprenorphine MedicalCondition\n",
      "neuropathic pain syndromes MedicalCondition\n",
      "restless leg syndrome MedicalCondition\n",
      "migraine prophylaxis MedicalCondition\n",
      "postherpetic neuralgia MedicalCondition\n",
      "Gabapentin Medicine\n",
      "seizures MedicalCondition\n",
      "Zyban Medicine\n",
      "Wellbutrin Medicine\n",
      "Wellbutrin Medicine\n",
      "Wellbutrin MedicalCondition\n",
      "Wellbutrin Medicine\n",
      "Zyban Medicine\n",
      "Bupropion Medicine\n",
      "post-traumatic stress MedicalCondition\n",
      "neuromyotonia MedicalCondition\n",
      "Carbamazepine Medicine\n",
      "bipolar disorder MedicalCondition\n",
      "hyperactivity disorder MedicalCondition\n",
      "Carbamazepine MedicalCondition\n",
      "schizophrenia MedicalCondition\n",
      "epileptic seizures MedicalCondition\n",
      "phantom limb syndrome MedicalCondition\n",
      "influenza MedicalCondition\n",
      "rimantadine Medicine\n",
      "M2 inhibitors Medicine\n",
      "amantadine Medicine\n",
      "peramivir Medicine\n",
      "influenza MedicalCondition\n",
      "zanamivir Medicine\n",
      "laninamivir Medicine\n",
      "laninamivir MedicalCondition\n",
      "influenza MedicalCondition\n",
      "oseltamivir Medicine\n",
      "sore throat MedicalCondition\n",
      "Influenza MedicalCondition\n",
      "asthma MedicalCondition\n",
      "bacterial pneumonia Pathogen\n",
      "vomiting MedicalCondition\n",
      "headache MedicalCondition\n",
      "asthma MedicalCondition\n",
      "coughing MedicalCondition\n",
      "sinus infections MedicalCondition\n",
      "heart failure MedicalCondition\n",
      "joint pain MedicalCondition\n",
      "stomach flu MedicalCondition\n",
      "diarrhea MedicalCondition\n",
      "feeling tired MedicalCondition\n",
      "diarrhea MedicalCondition\n",
      "influenza virus Pathogen\n"
     ]
    }
   ],
   "source": [
    "for record in data:\n",
    "    text = record['content']\n",
    "    for annotation in record['annotations']:\n",
    "        start = annotation['start']\n",
    "        end = annotation['end']\n",
    "        tag = annotation['tag_name']\n",
    "        word = text[start:end].strip()\n",
    "        if word:\n",
    "            print(word, tag)"
   ],
   "metadata": {
    "collapsed": false
   }
  },
  {
   "cell_type": "code",
   "execution_count": 407,
   "outputs": [
    {
     "name": "stdout",
     "output_type": "stream",
     "text": [
      " A combined approach with methotrexate and biologics improves ACR50, HAQ scores and RA remission rates. Triple therapy consisting of methotrexate, sulfasalazine and hydroxychloroquine may also effectively control disease activity. Adverse effects should be monitored regularly with toxicity including gastrointestinal, hematologic, pulmonary, and hepatic.\n"
     ]
    }
   ],
   "source": [
    "import re\n",
    "\n",
    "text = \"8][5][93] A combined approach with methotrexate and biologics improves ACR50, HAQ scores and RA remission rates.[94] Triple therapy consisting of methotrexate, sulfasalazine and hydroxychloroquine may also effectively control disease activity.[95] Adverse effects should be monitored regularly with toxicity including gastrointestinal, hematologic, pulmonary, and hepatic.[93]\"\n",
    "\n",
    "# Remove the format [%d]\n",
    "text = re.sub(r'\\[?\\d+\\]', '', text)\n",
    "\n",
    "print(text)"
   ],
   "metadata": {
    "collapsed": false
   }
  },
  {
   "cell_type": "markdown",
   "source": [
    "### Checking Overlapping"
   ],
   "metadata": {
    "collapsed": false
   }
  },
  {
   "cell_type": "code",
   "execution_count": 457,
   "outputs": [
    {
     "name": "stdout",
     "output_type": "stream",
     "text": [
      "current - diarrhea MedicalCondition\n",
      "prev - diarrhea  MedicalCondition\n",
      "Alert\n",
      "461 469 461 470\n",
      "current - ulfasalazine, leflunomide MedicalCondition\n",
      "prev - sulfasalazine, leflunomide Medicine\n",
      "Alert\n",
      "81 106 80 106\n",
      "current - DMARDs Medicine\n",
      "prev - DMARDs. MedicalCondition\n",
      "Alert\n",
      "262 268 262 269\n",
      "current - 8][5][93] A combined approach with methotrexate and biologics improves ACR50, HAQ scores and RA remission rates.[94] Triple therapy consisting of methotrexate, sulfasalazine and hydroxychloroquine may also effectively control disease activity.[95] Adverse effects should be monitored regularly with toxicity including gastrointestinal, hematologic, pulmonary, and hepatic.[93] MedicalCondition\n",
      "prev - [8][5][93] A combined approach with methotrexate and biologics improves ACR50, HAQ scores and RA remission rates.[94] Triple therapy consisting of methotrexate, sulfasalazine and hydroxychloroquine may also effectively control disease activity.[95] Adverse effects should be monitored regularly with toxicity including gastrointestinal, hematologic, pulmonary, and hepatic.[93]  MedicalCondition\n",
      "Alert\n",
      "1212 1588 1211 1589\n",
      "current - methotrexate Medicine\n",
      "prev - 8][5][93] A combined approach with methotrexate and biologics improves ACR50, HAQ scores and RA remission rates.[94] Triple therapy consisting of methotrexate, sulfasalazine and hydroxychloroquine may also effectively control disease activity.[95] Adverse effects should be monitored regularly with toxicity including gastrointestinal, hematologic, pulmonary, and hepatic.[93] MedicalCondition\n",
      "Alert\n",
      "1358 1370 1212 1588\n",
      "current - l MedicalCondition\n",
      "prev - abdominal pain MedicalCondition\n",
      "Alert\n",
      "1638 1639 1630 1644\n",
      "current - ie MedicalCondition\n",
      "prev - rabies MedicalCondition\n",
      "Alert\n",
      "165 167 162 168\n",
      "current - coronavirus Pathogen\n",
      "prev - coronavirus  MedicalCondition\n",
      "Alert\n",
      "240 251 240 252\n",
      "current - bacteria Pathogen\n",
      "prev - bacteria  Pathogen\n",
      "Alert\n",
      "33 41 33 42\n",
      "current - richomonas vag MedicalCondition\n",
      "prev - Trichomonas vaginalis Pathogen\n",
      "Alert\n",
      "286 300 285 306\n",
      "current - inflammation  MedicalCondition\n",
      "prev - inflammation MedicalCondition\n",
      "Alert\n",
      "1623 1636 1623 1635\n",
      "current - Campylobacter Pathogen\n",
      "prev - Campylobacter, Pathogen\n",
      "Alert\n",
      "433 446 433 447\n",
      "current - tetanus MedicalCondition\n",
      "prev -  tetanus, MedicalCondition\n",
      "Alert\n",
      "514 521 513 522\n",
      "current - yphoid fever MedicalCondition\n",
      "prev - typhoid fever MedicalCondition\n",
      "Alert\n",
      "524 536 523 536\n",
      "current - bacteria  Pathogen\n",
      "prev - bacteria Pathogen\n",
      "Alert\n",
      "30 39 30 38\n",
      "current - Campylobacter Pathogen\n",
      "prev - Campylobacte MedicalCondition\n",
      "Alert\n",
      "542 555 542 554\n",
      "current - iphtheria, syphilis MedicalCondition\n",
      "prev - diphtheria MedicalCondition\n",
      "Alert\n",
      "648 667 647 657\n",
      "current - syphilis MedicalCondition\n",
      "prev - iphtheria, syphilis MedicalCondition\n",
      "Alert\n",
      "659 667 648 667\n",
      "current - social anxiety disorder MedicalCondition\n",
      "prev -  social anxiety disorder MedicalCondition\n",
      "Alert\n",
      "49 72 48 72\n",
      "current - nxiety MedicalCondition\n",
      "prev - social anxiety MedicalCondition\n",
      "Alert\n",
      "1106 1112 1098 1112\n",
      "current - Moclobemide Medicine\n",
      "prev - M MedicalCondition\n",
      "Alert\n",
      "1391 1402 1391 1392\n",
      "current - lobemide MedicalCondition\n",
      "prev - Moclobemide Medicine\n",
      "Alert\n",
      "1394 1402 1391 1402\n",
      "current - isoniazid  MedicalCondition\n",
      "prev - isoniazid Medicine\n",
      "Alert\n",
      "33 43 33 42\n",
      "current - HIV Pathogen\n",
      "prev - HIV  Pathogen\n",
      "Alert\n",
      "279 282 279 283\n",
      "current - chickenpox  MedicalCondition\n",
      "prev - chickenpox MedicalCondition\n",
      "Alert\n",
      "456 467 456 466\n",
      "current - Buprenorphine  MedicalCondition\n",
      "prev - Buprenorphine Medicine\n",
      "Alert\n",
      "0 14 0 13\n",
      "current - Wellbutrin Medicine\n",
      "prev -  Wellbutrin MedicalCondition\n",
      "Alert\n",
      "302 312 301 312\n",
      "current - Carbamazepine  MedicalCondition\n",
      "prev - Carbamazepine Medicine\n",
      "Alert\n",
      "0 14 0 13\n",
      "current - influenza MedicalCondition\n",
      "prev - influenza  MedicalCondition\n",
      "Alert\n",
      "48 57 48 58\n",
      "current - laninamivir  MedicalCondition\n",
      "prev - laninamivir Medicine\n",
      "Alert\n",
      "112 124 112 123\n",
      "current - diarrhea MedicalCondition\n",
      "prev - diarrhea  MedicalCondition\n",
      "Alert\n",
      "455 463 455 464\n",
      "current - asthma MedicalCondition\n",
      "prev - asthma  MedicalCondition\n",
      "Alert\n",
      "845 851 845 852\n"
     ]
    }
   ],
   "source": [
    "for record in data:\n",
    "    text = record['content']\n",
    "    range_to_label = {}\n",
    "    for annotation in record['annotations']:\n",
    "        start = annotation['start']\n",
    "        end = annotation['end']\n",
    "        tag = annotation['tag_name']\n",
    "        word = text[start:end].strip()\n",
    "        if word:\n",
    "            range_to_label[(int(start), int(end))] = tag\n",
    "    prev_start = -1\n",
    "    prev_end = -1\n",
    "    for start, end in dict(sorted(range_to_label.items(), key=lambda x: x[0][0])).keys():\n",
    "        if start <= prev_end:\n",
    "            print(f\"current - {text[start:end]} {range_to_label[(start, end)]}\")\n",
    "            print(f\"prev - {text[prev_start:prev_end]} {range_to_label[(prev_start, prev_end)]}\")\n",
    "            print('Alert')\n",
    "            print(start, end, prev_start, prev_end)\n",
    "        prev_start = start\n",
    "        prev_end = end"
   ],
   "metadata": {
    "collapsed": false
   }
  },
  {
   "cell_type": "markdown",
   "source": [
    "## Fixing Overlapping"
   ],
   "metadata": {
    "collapsed": false
   }
  },
  {
   "cell_type": "code",
   "execution_count": 458,
   "outputs": [],
   "source": [
    "overall_range_to_label = {}\n",
    "\n",
    "for idx, record in enumerate(data):\n",
    "\n",
    "    text = record['content']\n",
    "\n",
    "    range_to_label = {}\n",
    "\n",
    "    for annotation in record['annotations']:\n",
    "\n",
    "        start = annotation['start']\n",
    "        end = annotation['end']\n",
    "        tag = annotation['tag_name']\n",
    "        word = text[start:end].strip()\n",
    "\n",
    "        if word:\n",
    "            range_to_label[(int(start), int(end))] = tag\n",
    "            overall_range_to_label[(idx, int(start), int(end))] = tag\n",
    "\n",
    "\n",
    "    prev_start = -1\n",
    "    prev_end = -1\n",
    "\n",
    "    for start, end in dict(sorted(range_to_label.items(), key=lambda x: x[0][0])).keys():\n",
    "        # if start <= prev_end:\n",
    "        #     print(f\"current - {text[start:end]} {overall_range_to_label[(idx, start, end)]}\")\n",
    "        #     print(f\"prev - {text[prev_start:prev_end]} {overall_range_to_label[(idx, prev_start, prev_end)]}\")\n",
    "        #     print('Alert')\n",
    "        #     print(start, end, prev_start, prev_end)\n",
    "        #\n",
    "\n",
    "        if start <= prev_end:\n",
    "            if overall_range_to_label[(idx, prev_start, prev_end)] != overall_range_to_label[(idx, start, end)]:\n",
    "                entity_1 = overall_range_to_label[(idx, prev_start, prev_end)]\n",
    "                entity_1_len = prev_end - prev_start\n",
    "                entity_2 =  overall_range_to_label[(idx, start, end)]\n",
    "                entity_2_len = end - start\n",
    "\n",
    "                if prev_end - prev_start > end - start:\n",
    "                    del overall_range_to_label[(idx, start, end)]\n",
    "                    continue\n",
    "\n",
    "                elif prev_end - prev_start < end - start:\n",
    "                    del overall_range_to_label[(idx, prev_start, prev_end)]\n",
    "\n",
    "            elif overall_range_to_label[(idx, prev_start, prev_end)] == overall_range_to_label[(idx, start, end)]:\n",
    "\n",
    "                entity = overall_range_to_label[(idx, prev_start, prev_end)]\n",
    "                del overall_range_to_label[(idx, prev_start, prev_end)]\n",
    "                del overall_range_to_label[(idx, start, end)]\n",
    "                overall_range_to_label[(idx, prev_start, max(end, prev_end))] =  entity\n",
    "                prev_end = max(end, prev_end)\n",
    "                continue\n",
    "\n",
    "        prev_start = start\n",
    "        prev_end = end"
   ],
   "metadata": {
    "collapsed": false
   }
  },
  {
   "cell_type": "markdown",
   "source": [
    "## Verifying there are no overlaps after fix"
   ],
   "metadata": {
    "collapsed": false
   }
  },
  {
   "cell_type": "code",
   "execution_count": 459,
   "outputs": [],
   "source": [
    "prev_start = -1\n",
    "prev_end = -1\n",
    "prev_file = None\n",
    "for file_name, start, end in dict(sorted(overall_range_to_label.items(), key=lambda x: (x[0], x[1]))).keys():\n",
    "    if prev_file != file_name:\n",
    "        prev_file = file_name\n",
    "        prev_start = -1\n",
    "        prev_end = -1\n",
    "        continue\n",
    "\n",
    "    if start <= prev_end:\n",
    "        print('Alert - Check')\n",
    "        print(file_name, prev_start, prev_end, start, end)\n",
    "        print(overall_range_to_label[(file_name, prev_start, prev_end)], overall_range_to_label[(file_name, start, end)])\n",
    "\n",
    "    prev_start = start\n",
    "    prev_end = end\n"
   ],
   "metadata": {
    "collapsed": false
   }
  },
  {
   "cell_type": "markdown",
   "source": [
    "No overlaps after fix"
   ],
   "metadata": {
    "collapsed": false
   }
  },
  {
   "cell_type": "code",
   "execution_count": 461,
   "outputs": [
    {
     "data": {
      "text/plain": "260"
     },
     "execution_count": 461,
     "metadata": {},
     "output_type": "execute_result"
    }
   ],
   "source": [
    "len(overall_range_to_label)"
   ],
   "metadata": {
    "collapsed": false
   }
  },
  {
   "cell_type": "code",
   "execution_count": 453,
   "outputs": [],
   "source": [
    "import re\n",
    "import string"
   ],
   "metadata": {
    "collapsed": false
   }
  },
  {
   "cell_type": "code",
   "execution_count": 525,
   "outputs": [],
   "source": [
    "def tokenize_text(text):\n",
    "    # Tokenize the text into a list of words\n",
    "    tokens = []\n",
    "    for sentence in re.split(r'\\[\\d+\\]', text):\n",
    "        for word in sentence.split():\n",
    "\n",
    "            # Remove the format [%d]\n",
    "            word = re.sub(r'\\[?\\d+\\]', '', word)\n",
    "\n",
    "            word = word.strip()\n",
    "\n",
    "            # Remove trailing punctuation marks from the word\n",
    "            while word and word[-1] in string.punctuation:\n",
    "                word = word[:-1]\n",
    "\n",
    "            # Remove leading punctutation marks from the word\n",
    "            while word and word[0] in string.punctuation:\n",
    "                word = word[1:]\n",
    "\n",
    "            tokens.append(word)\n",
    "\n",
    "        if tokens[-1] != \"<NEWL>\":\n",
    "            tokens.append(\"<NEWL>\")\n",
    "\n",
    "    return tokens"
   ],
   "metadata": {
    "collapsed": false
   }
  },
  {
   "cell_type": "code",
   "execution_count": 527,
   "outputs": [
    {
     "name": "stdout",
     "output_type": "stream",
     "text": [
      "['While', 'bismuth', 'compounds', 'Pepto-Bismol', 'decreased', 'the', 'number', 'of', 'bowel', 'movements', 'in', 'those', 'with', 'travelers', 'diarrhea', 'they', 'do', 'not', 'decrease', 'the', 'length', 'of', 'illness', '<NEWL>', 'Anti-motility', 'agents', 'like', 'loperamide', 'are', 'also', 'effective', 'at', 'reducing', 'the', 'number', 'of', 'stools', 'but', 'not', 'the', 'duration', 'of', 'disease', '<NEWL>', 'These', 'agents', 'should', 'be', 'used', 'only', 'if', 'bloody', 'diarrhea', 'is', 'not', 'present', '<NEWL>', 'Diosmectite', 'a', 'natural', 'aluminomagnesium', 'silicate', 'clay', 'is', 'effective', 'in', 'alleviating', 'symptoms', 'of', 'acute', 'diarrhea', 'in', 'children', '<NEWL>', 'and', 'also', 'has', 'some', 'effects', 'in', 'chronic', 'functional', 'diarrhea', 'radiation-induced', 'diarrhea', 'and', 'chemotherapy-induced', 'diarrhea', '<NEWL>', 'Another', 'absorbent', 'agent', 'used', 'for', 'the', 'treatment', 'of', 'mild', 'diarrhea', 'is', 'kaopectate', 'Racecadotril', 'an', 'antisecretory', 'medication', 'may', 'be', 'used', 'to', 'treat', 'diarrhea', 'in', 'children', 'and', 'adults', '<NEWL>', 'It', 'has', 'better', 'tolerability', 'than', 'loperamide', 'as', 'it', 'causes', 'less', 'constipation', 'and', 'flatulence', '<NEWL>']\n",
      "['Diarrhea', 'also', 'spelled', 'diarrhoea', 'is', 'the', 'condition', 'of', 'having', 'at', 'least', 'three', 'loose', 'liquid', 'or', 'watery', 'bowel', 'movements', 'each', 'day', '<NEWL>', 'It', 'often', 'lasts', 'for', 'a', 'few', 'days', 'and', 'can', 'result', 'in', 'dehydration', 'due', 'to', 'fluid', 'loss', '<NEWL>', 'Signs', 'of', 'dehydration', 'often', 'begin', 'with', 'loss', 'of', 'the', 'normal', 'stretchiness', 'of', 'the', 'skin', 'and', 'irritable', 'behaviour', '<NEWL>', 'This', 'can', 'progress', 'to', 'decreased', 'urination', 'loss', 'of', 'skin', 'color', 'a', 'fast', 'heart', 'rate', 'and', 'a', 'decrease', 'in', 'responsiveness', 'as', 'it', 'becomes', 'more', 'severe', '<NEWL>', 'Loose', 'but', 'non-watery', 'stools', 'in', 'babies', 'who', 'are', 'exclusively', 'breastfed', 'however', 'are', 'normal', '<NEWL>']\n",
      "['Antiretroviral', 'therapy', 'ART', 'is', 'recommended', 'for', 'all', 'HIV-infected', 'individuals', 'to', 'reduce', 'the', 'risk', 'of', 'disease', 'progression', 'ART', 'also', 'is', 'recommended', 'for', 'HIV-infected', 'individuals', 'for', 'the', 'prevention', 'of', 'transmission', 'of', 'HIV', 'Patients', 'starting', 'ART', 'should', 'be', 'willing', 'and', 'able', 'to', 'commit', 'to', 'treatment', 'and', 'understand', 'the', 'benefits', 'and', 'risks', 'of', 'therapy', 'and', 'the', 'importance', 'of', 'adherence', 'Patients', 'may', 'choose', 'to', 'postpone', 'therapy', 'and', 'providers', 'on', 'a', 'case-by-case', 'basis', 'may', 'elect', 'to', 'defer', 'therapy', 'on', 'the', 'basis', 'of', 'clinical', 'and/or', 'psychosocial', 'factors', '<NEWL>']\n",
      "['The', 'following', 'drugs', 'are', 'considered', 'as', 'DMARDs', 'methotrexate', 'hydroxychloroquine', 'sulfasalazine', 'leflunomide', 'TNF-alpha', 'inhibitors', 'certolizumab', 'infliximab', 'and', 'etanercept', 'abatacept', 'and', 'anakinra', 'Rituximab', 'and', 'tocilizumab', 'are', 'monoclonal', 'antibodies', 'and', 'are', 'also', 'DMARDs', '<NEWL>', 'Use', 'of', 'tocilizumab', 'is', 'associated', 'with', 'a', 'risk', 'of', 'increased', 'cholesterol', 'levels', '<NEWL>', 'Hydroxychloroquine', 'apart', 'from', 'its', 'low', 'toxicity', 'profile', 'is', 'considered', 'effective', 'in', 'the', 'moderate', 'RA', 'treatment', '<NEWL>', 'The', 'most', 'commonly', 'used', 'agent', 'is', 'methotrexate', 'with', 'other', 'frequently', 'used', 'agents', 'including', 'sulfasalazine', 'and', 'leflunomide', '<NEWL>', 'Leflunomide', 'is', 'effective', 'when', 'used', 'from', '6–12', 'months', 'with', 'similar', 'effectiveness', 'to', 'methotrexate', 'when', 'used', 'for', '2', 'years', '<NEWL>', 'Sulfasalazine', 'also', 'appears', 'to', 'be', 'most', 'effective', 'in', 'the', 'short-term', 'treatment', 'of', 'rheumatoid', 'arthritis', '<NEWL>', 'Sodium', 'aurothiomalate', 'gold', 'and', 'cyclosporin', 'are', 'less', 'commonly', 'used', 'due', 'to', 'more', 'common', 'adverse', 'effects', '<NEWL>', 'However', 'cyclosporin', 'was', 'found', 'to', 'be', 'effective', 'in', 'the', 'progressive', 'RA', 'when', 'used', 'up', 'to', 'one', 'year', '<NEWL>', 'Agents', 'may', 'be', 'used', 'in', 'combinations', 'however', 'people', 'may', 'experience', 'greater', 'side', 'effects', '<NEWL>', 'Methotrexate', 'is', 'the', 'most', 'important', 'and', 'useful', 'DMARD', 'and', 'is', 'usually', 'the', 'first', 'treatment', '<NEWL>', 'A', 'combined', 'approach', 'with', 'methotrexate', 'and', 'biologics', 'improves', 'ACR50', 'HAQ', 'scores', 'and', 'RA', 'remission', 'rates', '<NEWL>', 'Triple', 'therapy', 'consisting', 'of', 'methotrexate', 'sulfasalazine', 'and', 'hydroxychloroquine', 'may', 'also', 'effectively', 'control', 'disease', 'activity', '<NEWL>', 'Adverse', 'effects', 'should', 'be', 'monitored', 'regularly', 'with', 'toxicity', 'including', 'gastrointestinal', 'hematologic', 'pulmonary', 'and', 'hepatic', '<NEWL>', 'Side', 'effects', 'such', 'as', 'nausea', 'vomiting', 'or', 'abdominal', 'pain', 'can', 'be', 'reduced', 'by', 'taking', 'folic', 'acid', '<NEWL>']\n",
      "['The', 'goals', 'of', 'treatment', 'are', 'to', 'reduce', 'pain', 'decrease', 'inflammation', 'and', 'improve', 'a', \"person's\", 'overall', 'functioning', '<NEWL>', 'This', 'may', 'be', 'helped', 'by', 'balancing', 'rest', 'and', 'exercise', 'the', 'use', 'of', 'splints', 'and', 'braces', 'or', 'the', 'use', 'of', 'assistive', 'devices', '<NEWL>', 'Pain', 'medications', 'steroids', 'and', 'NSAIDs', 'are', 'frequently', 'used', 'to', 'help', 'with', 'symptoms', '<NEWL>', 'Disease-modifying', 'antirheumatic', 'drugs', 'DMARDs', 'such', 'as', 'hydroxychloroquine', 'and', 'methotrexate', 'may', 'be', 'used', 'to', 'try', 'to', 'slow', 'the', 'progression', 'of', 'disease', '<NEWL>', 'Biological', 'DMARDs', 'may', 'be', 'used', 'when', 'disease', 'does', 'not', 'respond', 'to', 'other', 'treatments', '<NEWL>', 'However', 'they', 'may', 'have', 'a', 'greater', 'rate', 'of', 'adverse', 'effects', '<NEWL>', 'Surgery', 'to', 'repair', 'replace', 'or', 'fuse', 'joints', 'may', 'help', 'in', 'certain', 'situations', '<NEWL>', 'Most', 'alternative', 'medicine', 'treatments', 'are', 'not', 'supported', 'by', 'evidence', '<NEWL>']\n",
      "['Hantaviruses', 'usually', 'found', 'in', 'rodents', 'and', 'shrews', 'were', 'discovered', 'in', 'two', 'species', 'of', 'bats', 'The', 'Mouyassué', 'virus', 'MOUV', 'was', 'isolated', 'from', 'banana', 'pipistrelle', 'bats', 'captured', 'near', 'Mouyassué', 'village', 'in', 'Cote', \"d'Ivoire\", 'West', 'Africa', 'The', 'Magboi', 'virus', 'was', 'isolated', 'from', 'hairy', 'slit-faced', 'bats', 'found', 'near', 'the', 'Magboi', 'River', 'in', 'Sierra', 'Leone', 'in', '2011', 'They', 'are', 'single-stranded', 'negative', 'sense', 'RNA', 'viruses', 'in', 'the', 'Bunyaviridae', 'family', '<NEWL>']\n",
      "['Bats', 'are', 'the', 'most', 'common', 'source', 'of', 'rabies', 'in', 'humans', 'in', 'North', 'and', 'South', 'America', 'Western', 'Europe', 'and', 'Australia', 'In', 'the', 'United', 'States', 'there', 'were', '19', 'cases', 'of', 'human', 'rabies', 'from', '1997–2006', '17', 'of', 'which', 'were', 'attributed', 'to', 'bats', '<NEWL>', 'In', 'North', 'America', 'about', 'half', 'of', 'human', 'rabies', 'instances', 'are', 'cryptic', 'meaning', 'that', 'the', 'patient', 'has', 'no', 'known', 'bite', 'history', '<NEWL>', 'While', 'it', 'has', 'been', 'speculated', 'that', 'rabies', 'virus', 'could', 'be', 'transmitted', 'through', 'aerosols', 'studies', 'of', 'the', 'rabies', 'virus', 'have', 'concluded', 'that', 'this', 'is', 'only', 'feasible', 'in', 'limited', 'conditions', 'These', 'conditions', 'include', 'a', 'very', 'large', 'colony', 'of', 'bats', 'in', 'a', 'hot', 'and', 'humid', 'cave', 'with', 'poor', 'ventilation', 'While', 'two', 'human', 'deaths', 'in', '1956', 'and', '1959', 'had', 'been', 'tentatively', 'attributed', 'to', 'aerosolization', 'of', 'the', 'rabies', 'virus', 'after', 'entering', 'a', 'cave', 'with', 'bats', 'investigations', 'of', 'the', '2', 'reported', 'human', 'cases', 'revealed', 'that', 'both', 'infections', 'could', 'be', 'explained', 'by', 'means', 'other', 'than', 'aerosol', 'transmission', '<NEWL>', 'It', 'is', 'instead', 'generally', 'thought', 'that', 'most', 'instances', 'of', 'cryptic', 'rabies', 'are', 'the', 'result', 'of', 'an', 'unknown', 'bat', 'bite', '<NEWL>', 'Bites', 'from', 'a', 'bat', 'can', 'be', 'so', 'small', 'that', 'they', 'are', 'not', 'visible', 'without', 'magnification', 'equipment', 'for', 'example', 'Outside', 'of', 'bites', 'rabies', 'virus', 'exposure', 'can', 'also', 'occur', 'if', 'infected', 'fluids', 'come', 'in', 'contact', 'with', 'a', 'mucous', 'membrane', 'or', 'a', 'break', 'in', 'the', 'skin', 'Rabies', 'virus', 'has', 'also', 'been', 'transmitted', 'when', 'an', 'infected', 'human', 'unknowingly', 'dies', 'of', 'rabies', 'and', 'their', 'organs', 'are', 'transplanted', 'to', 'others', '<NEWL>']\n",
      "['In', '2003', 'following', 'the', 'outbreak', 'of', 'severe', 'acute', 'respiratory', 'syndrome', 'SARS', 'which', 'had', 'begun', 'the', 'prior', 'year', 'in', 'Asia', 'and', 'secondary', 'cases', 'elsewhere', 'in', 'the', 'world', 'the', 'World', 'Health', 'Organization', 'WHO', 'issued', 'a', 'press', 'release', 'stating', 'that', 'a', 'novel', 'coronavirus', 'identified', 'by', 'a', 'number', 'of', 'laboratories', 'was', 'the', 'causative', 'agent', 'for', 'SARS', 'The', 'virus', 'was', 'officially', 'named', 'the', 'SARS', 'coronavirus', 'SARS-CoV', 'More', 'than', '8,000', 'people', 'were', 'infected', 'about', 'ten', 'percent', 'of', 'whom', 'died', '<NEWL>']\n",
      "['Bacterial', 'vaginosis', 'is', 'caused', 'by', 'bacteria', 'that', 'change', 'the', 'vaginal', 'microbiota', 'caused', 'by', 'an', 'overgrowth', 'of', 'bacteria', 'that', 'crowd', 'out', 'the', 'Lactobacilli', 'species', 'that', 'maintain', 'healthy', 'vaginal', 'microbial', 'populations', 'Other', 'non-bacterial', 'vaginal', 'infections', 'include', 'yeast', 'infection', 'candidiasis', 'Trichomonas', 'vaginalis', 'trichomoniasis', '<NEWL>', 'Bacterial', 'meningitis', 'is', 'a', 'bacterial', 'inflammation', 'of', 'the', 'meninges', 'that', 'is', 'the', 'protective', 'membranes', 'covering', 'the', 'brain', 'and', 'spinal', 'cord', 'Bacterial', 'pneumonia', 'is', 'a', 'bacterial', 'infection', 'of', 'the', 'lungs', 'Urinary', 'tract', 'infection', 'is', 'predominantly', 'caused', 'by', 'bacteria', 'Symptoms', 'include', 'the', 'strong', 'and', 'frequent', 'sensation', 'or', 'urge', 'to', 'urinate', 'pain', 'during', 'urination', 'and', 'urine', 'that', 'is', 'cloudy', '<NEWL>', 'The', 'main', 'causal', 'agent', 'is', 'Escherichia', 'coli', 'Urine', 'is', 'typically', 'sterile', 'but', 'contains', 'a', 'variety', 'of', 'salts', 'and', 'waste', 'products', '<NEWL>', 'Bacteria', 'can', 'ascend', 'into', 'the', 'bladder', 'or', 'kidney', 'and', 'causing', 'cystitis', 'and', 'nephritis', 'Bacterial', 'gastroenteritis', 'is', 'caused', 'by', 'enteric', 'pathogenic', 'bacteria', 'These', 'pathogenic', 'species', 'are', 'usually', 'distinct', 'from', 'the', 'usually', 'harmless', 'bacteria', 'of', 'the', 'normal', 'gut', 'flora', 'But', 'a', 'different', 'strain', 'of', 'the', 'same', 'species', 'may', 'be', 'pathogenic', 'The', 'distinction', 'is', 'sometimes', 'difficult', 'as', 'in', 'the', 'case', 'of', 'Escherichia', 'Bacterial', 'skin', 'infections', 'include', 'Impetigo', 'is', 'a', 'highly', 'contagious', 'bacterial', 'skin', 'infection', 'commonly', 'seen', 'in', 'children', '<NEWL>', 'It', 'is', 'caused', 'by', 'Staphylococcus', 'aureus', 'and', 'Streptococcus', 'pyogenes', '<NEWL>', 'Erysipelas', 'is', 'an', 'acute', 'streptococcus', 'bacterial', 'infection', '<NEWL>', 'of', 'the', 'deeper', 'skin', 'layers', 'that', 'spreads', 'via', 'with', 'lymphatic', 'system', 'Cellulitis', 'is', 'a', 'diffuse', 'inflammation', '<NEWL>', 'of', 'connective', 'tissue', 'with', 'severe', 'inflammation', 'of', 'dermal', 'and', 'subcutaneous', 'layers', 'of', 'the', 'skin', 'Cellulitis', 'can', 'be', 'caused', 'by', 'normal', 'skin', 'flora', 'or', 'by', 'contagious', 'contact', 'and', 'usually', 'occurs', 'through', 'open', 'skin', 'cuts', 'blisters', 'cracks', 'in', 'the', 'skin', 'insect', 'bites', 'animal', 'bites', 'burns', 'surgical', 'wounds', 'intravenous', 'drug', 'injection', 'or', 'sites', 'of', 'intravenous', 'catheter', 'insertion', 'In', 'most', 'cases', 'it', 'is', 'the', 'skin', 'on', 'the', 'face', 'or', 'lower', 'legs', 'that', 'is', 'affected', 'though', 'cellulitis', 'can', 'occur', 'in', 'other', 'tissues', '<NEWL>']\n",
      "['Other', 'groups', 'of', 'intracellular', 'bacterial', 'pathogens', 'include', 'Salmonella', 'Neisseria', 'Brucella', 'Mycobacterium', 'Nocardia', 'Listeria', 'Francisella', 'Legionella', 'and', 'Yersinia', 'pestis', 'These', 'can', 'exist', 'intracellularly', 'but', 'can', 'exist', 'outside', 'of', 'host', 'cells', '<NEWL>']\n",
      "['One', 'of', 'the', 'bacterial', 'diseases', 'with', 'the', 'highest', 'disease', 'burden', 'is', 'tuberculosis', 'caused', 'by', 'Mycobacterium', 'tuberculosis', 'bacteria', 'which', 'kills', 'about', '2', 'million', 'people', 'a', 'year', 'mostly', 'in', 'sub-Saharan', 'Africa', 'Pathogenic', 'bacteria', 'contribute', 'to', 'other', 'globally', 'important', 'diseases', 'such', 'as', 'pneumonia', 'which', 'can', 'be', 'caused', 'by', 'bacteria', 'such', 'as', 'Streptococcus', 'and', 'Pseudomonas', 'and', 'foodborne', 'illnesses', 'which', 'can', 'be', 'caused', 'by', 'bacteria', 'such', 'as', 'Shigella', 'Campylobacter', 'and', 'Salmonella', 'Pathogenic', 'bacteria', 'also', 'cause', 'infections', 'such', 'as', 'tetanus', 'typhoid', 'fever', 'diphtheria', 'syphilis', 'and', 'leprosy', 'Pathogenic', 'bacteria', 'are', 'also', 'the', 'cause', 'of', 'high', 'infant', 'mortality', 'rates', 'in', 'developing', 'countries', '<NEWL>']\n",
      "['Although', 'the', 'vast', 'majority', 'of', 'bacteria', 'are', 'harmless', 'or', 'beneficial', 'to', \"one's\", 'body', 'a', 'few', 'pathogenic', 'bacteria', 'can', 'cause', 'infectious', 'diseases', 'The', 'most', 'common', 'bacterial', 'disease', 'is', 'tuberculosis', 'caused', 'by', 'the', 'bacterium', 'Mycobacterium', 'tuberculosis', 'which', 'affects', 'about', '2', 'million', 'people', 'mostly', 'in', 'sub-Saharan', 'Africa', 'Pathogenic', 'bacteria', 'contribute', 'to', 'other', 'globally', 'important', 'diseases', 'such', 'as', 'pneumonia', 'which', 'can', 'be', 'caused', 'by', 'bacteria', 'such', 'as', 'Streptococcus', 'and', 'Pseudomonas', 'and', 'foodborne', 'illnesses', 'which', 'can', 'be', 'caused', 'by', 'bacteria', 'such', 'as', 'Shigella', 'Campylobacter', 'and', 'Salmonella', 'Pathogenic', 'bacteria', 'also', 'cause', 'infections', 'such', 'as', 'tetanus', 'typhoid', 'fever', 'diphtheria', 'syphilis', 'and', \"Hansen's\", 'disease', 'They', 'typically', 'range', 'between', '1', 'and', '5', 'micrometers', 'in', 'length', '<NEWL>']\n",
      "['Much', 'like', 'viral', 'pathogens', 'infection', 'by', 'certain', 'bacterial', 'pathogens', 'can', 'be', 'prevented', 'via', 'vaccines', '<NEWL>', 'Vaccines', 'against', 'bacterial', 'pathogens', 'include', 'the', 'anthrax', 'vaccine', 'and', 'the', 'pneumococcal', 'vaccine', 'Many', 'other', 'bacterial', 'pathogens', 'lack', 'vaccines', 'as', 'a', 'preventive', 'measure', 'but', 'infection', 'by', 'these', 'bacteria', 'can', 'often', 'be', 'treated', 'or', 'prevented', 'with', 'antibiotics', 'Common', 'antibiotics', 'include', 'amoxicillin', 'ciprofloxacin', 'and', 'doxycycline', 'Each', 'antibiotic', 'has', 'different', 'bacteria', 'that', 'it', 'is', 'effective', 'against', 'and', 'has', 'different', 'mechanisms', 'to', 'kill', 'that', 'bacteria', 'For', 'example', 'doxycycline', 'inhibits', 'the', 'synthesis', 'of', 'new', 'proteins', 'in', 'both', 'gram-negative', 'and', 'gram-positive', 'bacteria', 'which', 'leads', 'to', 'the', 'death', 'of', 'the', 'affected', 'bacteria', '<NEWL>']\n",
      "['The', 'term', 'pathogen', 'came', 'into', 'use', 'in', 'the', '1880s', '<NEWL>', 'Typically', 'the', 'term', 'is', 'used', 'to', 'describe', 'an', 'infectious', 'microorganism', 'or', 'agent', 'such', 'as', 'a', 'virus', 'bacterium', 'protozoan', 'prion', 'viroid', 'or', 'fungus', '<NEWL>']\n",
      "['Some', 'antidepressants', 'are', 'used', 'as', 'a', 'treatment', 'for', 'social', 'anxiety', 'disorder', 'but', 'their', 'efficacy', 'is', 'not', 'entirely', 'convincing', 'as', 'only', 'a', 'small', 'proportion', 'of', 'antidepressants', 'showed', 'some', 'efficacy', 'for', 'this', 'condition', 'Paroxetine', 'was', 'the', 'first', 'drug', 'to', 'be', 'FDA-approved', 'for', 'this', 'disorder', 'Its', 'efficacy', 'is', 'considered', 'beneficial', 'although', 'not', 'everyone', 'responds', 'favorably', 'to', 'the', 'drug', 'Sertraline', 'and', 'fluvoxamine', 'extended', 'release', 'were', 'later', 'approved', 'for', 'it', 'as', 'well', 'while', 'escitalopram', 'is', 'used', 'off-label', 'with', 'acceptable', 'efficacy', 'However', 'there', \"isn't\", 'enough', 'evidence', 'to', 'support', 'citalopram', 'for', 'treating', 'social', 'phobia', 'and', 'fluoxetine', 'was', 'no', 'better', 'than', 'placebo', 'in', 'clinical', 'trials', 'SSRIs', 'are', 'used', 'as', 'a', 'first-line', 'treatment', 'for', 'social', 'anxiety', 'but', 'they', \"don't\", 'work', 'for', 'everyone', 'One', 'alternative', 'would', 'be', 'venlafaxine', 'which', 'is', 'a', 'SNRI', 'It', 'showed', 'benefits', 'for', 'social', 'phobia', 'in', 'five', 'clinical', 'trials', 'against', 'placebo', 'while', 'the', 'other', 'SNRIs', 'are', 'not', 'considered', 'particularly', 'useful', 'for', 'this', 'disorder', 'as', 'many', 'of', 'them', \"didn't\", 'undergo', 'testing', 'for', 'it', 'As', 'of', 'now', 'it', 'is', 'unclear', 'if', 'duloxetine', 'and', 'desvenlafaxine', 'can', 'provide', 'benefits', 'for', 'social', 'anxiety', 'sufferers', 'However', 'another', 'class', 'of', 'antidepressants', 'called', 'MAOIs', 'are', 'considered', 'effective', 'for', 'social', 'anxiety', 'but', 'they', 'come', 'with', 'many', 'unwanted', 'side', 'effects', 'and', 'are', 'rarely', 'used', 'Phenelzine', 'was', 'shown', 'to', 'be', 'a', 'good', 'treatment', 'option', 'but', 'its', 'use', 'is', 'limited', 'by', 'dietary', 'restrictions', 'Moclobemide', 'is', 'a', 'RIMA', 'and', 'showed', 'mixed', 'results', 'but', 'still', 'got', 'approval', 'in', 'some', 'European', 'countries', 'for', 'social', 'anxiety', 'disorder', 'TCA', 'antidepressants', 'such', 'as', 'clomipramine', 'and', 'imipramine', 'are', 'not', 'considered', 'effective', 'for', 'this', 'anxiety', 'disorder', 'in', 'particular', 'This', 'leaves', 'out', 'SSRIs', 'such', 'as', 'paroxetine', 'sertraline', 'and', 'fluvoxamine', 'CR', 'as', 'acceptable', 'and', 'tolerated', 'treatment', 'options', 'for', 'this', 'disorder', '<NEWL>']\n",
      "['However', 'existing', 'data', 'suggest', 'that', 'patients', 'taking', 'bedaquiline', 'in', 'addition', 'to', 'standard', 'TB', 'therapy', 'are', 'five', 'times', 'more', 'likely', 'to', 'die', 'than', 'those', 'without', 'the', 'new', 'drug', '<NEWL>', 'which', 'has', 'resulted', 'in', 'medical', 'journal', 'articles', 'raising', 'health', 'policy', 'questions', 'about', 'why', 'the', 'FDA', 'approved', 'the', 'drug', 'and', 'whether', 'financial', 'ties', 'to', 'the', 'company', 'making', 'bedaquiline', 'influenced', 'physicians', 'support', 'for', 'its', 'use', '<NEWL>']\n",
      "['Latent', 'TB', 'is', 'treated', 'with', 'either', 'isoniazid', 'or', 'rifampin', 'alone', 'or', 'a', 'combination', 'of', 'isoniazid', 'with', 'either', 'rifampicin', 'or', 'rifapentine', '<NEWL>', 'The', 'treatment', 'takes', 'three', 'to', 'nine', 'months', 'depending', 'on', 'the', 'medications', 'used', '<NEWL>', 'People', 'with', 'latent', 'infections', 'are', 'treated', 'to', 'prevent', 'them', 'from', 'progressing', 'to', 'active', 'TB', 'disease', 'later', 'in', 'life', '<NEWL>']\n",
      "['If', 'a', 'tuberculosis', 'infection', 'does', 'become', 'active', 'it', 'most', 'commonly', 'involves', 'the', 'lungs', 'in', 'about', '90', 'of', 'cases', '<NEWL>', 'Symptoms', 'may', 'include', 'chest', 'pain', 'and', 'a', 'prolonged', 'cough', 'producing', 'sputum', 'About', '25', 'of', 'people', 'may', 'not', 'have', 'any', 'symptoms', 'i.e', 'they', 'remain', 'asymptomatic', '<NEWL>', 'Occasionally', 'people', 'may', 'cough', 'up', 'blood', 'in', 'small', 'amounts', 'and', 'in', 'very', 'rare', 'cases', 'the', 'infection', 'may', 'erode', 'into', 'the', 'pulmonary', 'artery', 'or', 'a', \"Rasmussen's\", 'aneurysm', 'resulting', 'in', 'massive', 'bleeding', '<NEWL>', 'Tuberculosis', 'may', 'become', 'a', 'chronic', 'illness', 'and', 'cause', 'extensive', 'scarring', 'in', 'the', 'upper', 'lobes', 'of', 'the', 'lungs', 'The', 'upper', 'lung', 'lobes', 'are', 'more', 'frequently', 'affected', 'by', 'tuberculosis', 'than', 'the', 'lower', 'ones', '<NEWL>', 'The', 'reason', 'for', 'this', 'difference', 'is', 'not', 'clear', '<NEWL>', 'It', 'may', 'be', 'due', 'to', 'either', 'better', 'air', 'flow', '<NEWL>', 'or', 'poor', 'lymph', 'drainage', 'within', 'the', 'upper', 'lungs', '<NEWL>']\n",
      "['Tuberculosis', 'may', 'infect', 'any', 'part', 'of', 'the', 'body', 'but', 'most', 'commonly', 'occurs', 'in', 'the', 'lungs', 'known', 'as', 'pulmonary', 'tuberculosis', '<NEWL>', 'Extrapulmonary', 'TB', 'occurs', 'when', 'tuberculosis', 'develops', 'outside', 'of', 'the', 'lungs', 'although', 'extrapulmonary', 'TB', 'may', 'coexist', 'with', 'pulmonary', 'TB', '<NEWL>', 'General', 'signs', 'and', 'symptoms', 'include', 'fever', 'chills', 'night', 'sweats', 'loss', 'of', 'appetite', 'weight', 'loss', 'and', 'fatigue', '<NEWL>', 'Significant', 'nail', 'clubbing', 'may', 'also', 'occur', '<NEWL>']\n",
      "['A', 'number', 'of', 'factors', 'make', 'people', 'more', 'susceptible', 'to', 'TB', 'infections', 'The', 'most', 'important', 'risk', 'factor', 'globally', 'is', 'HIV', '13', 'of', 'all', 'people', 'with', 'TB', 'are', 'infected', 'by', 'the', 'virus', '<NEWL>', 'This', 'is', 'a', 'particular', 'problem', 'in', 'sub-Saharan', 'Africa', 'where', 'rates', 'of', 'HIV', 'are', 'high', '<NEWL>', 'Of', 'people', 'without', 'HIV', 'who', 'are', 'infected', 'with', 'tuberculosis', 'about', '5–10', 'develop', 'active', 'disease', 'during', 'their', 'lifetimes', '<NEWL>', 'in', 'contrast', '30', 'of', 'those', 'coinfected', 'with', 'HIV', 'develop', 'the', 'active', 'disease', '<NEWL>']\n",
      "['In', '15–20', 'of', 'active', 'cases', 'the', 'infection', 'spreads', 'outside', 'the', 'lungs', 'causing', 'other', 'kinds', 'of', 'TB', '<NEWL>', 'These', 'are', 'collectively', 'denoted', 'as', 'extrapulmonary', 'tuberculosis', '<NEWL>', 'Extrapulmonary', 'TB', 'occurs', 'more', 'commonly', 'in', 'people', 'with', 'a', 'weakened', 'immune', 'system', 'and', 'young', 'children', 'In', 'those', 'with', 'HIV', 'this', 'occurs', 'in', 'more', 'than', '50', 'of', 'cases', '<NEWL>', 'Notable', 'extrapulmonary', 'infection', 'sites', 'include', 'the', 'pleura', 'in', 'tuberculous', 'pleurisy', 'the', 'central', 'nervous', 'system', 'in', 'tuberculous', 'meningitis', 'the', 'lymphatic', 'system', 'in', 'scrofula', 'of', 'the', 'neck', 'the', 'genitourinary', 'system', 'in', 'urogenital', 'tuberculosis', 'and', 'the', 'bones', 'and', 'joints', 'in', 'Pott', 'disease', 'of', 'the', 'spine', 'among', 'others', 'A', 'potentially', 'more', 'serious', 'widespread', 'form', 'of', 'TB', 'is', 'called', 'disseminated', 'tuberculosis', 'it', 'is', 'also', 'known', 'as', 'miliary', 'tuberculosis', '<NEWL>', 'Miliary', 'TB', 'currently', 'makes', 'up', 'about', '10', 'of', 'extrapulmonary', 'cases', '<NEWL>']\n",
      "['Although', 'viruses', 'cause', 'disruption', 'of', 'healthy', 'homeostasis', 'resulting', 'in', 'disease', 'they', 'may', 'exist', 'relatively', 'harmlessly', 'within', 'an', 'organism', 'An', 'example', 'would', 'include', 'the', 'ability', 'of', 'the', 'herpes', 'simplex', 'virus', 'which', 'causes', 'cold', 'sores', 'to', 'remain', 'in', 'a', 'dormant', 'state', 'within', 'the', 'human', 'body', 'This', 'is', 'called', 'latency', '<NEWL>', 'and', 'is', 'a', 'characteristic', 'of', 'the', 'herpes', 'viruses', 'including', 'Epstein–Barr', 'virus', 'which', 'causes', 'glandular', 'fever', 'and', 'varicella', 'zoster', 'virus', 'which', 'causes', 'chickenpox', 'and', 'shingles', 'Most', 'people', 'have', 'been', 'infected', 'with', 'at', 'least', 'one', 'of', 'these', 'types', 'of', 'herpes', 'virus', '<NEWL>', 'These', 'latent', 'viruses', 'might', 'sometimes', 'be', 'beneficial', 'as', 'the', 'presence', 'of', 'the', 'virus', 'can', 'increase', 'immunity', 'against', 'bacterial', 'pathogens', 'such', 'as', 'Yersinia', 'pestis', '<NEWL>']\n",
      "['Examples', 'of', 'common', 'human', 'diseases', 'caused', 'by', 'viruses', 'include', 'the', 'common', 'cold', 'influenza', 'chickenpox', 'and', 'cold', 'sores', 'Many', 'serious', 'diseases', 'such', 'as', 'rabies', 'Ebola', 'virus', 'disease', 'AIDS', 'HIV', 'avian', 'influenza', 'and', 'SARS', 'are', 'caused', 'by', 'viruses', 'The', 'relative', 'ability', 'of', 'viruses', 'to', 'cause', 'disease', 'is', 'described', 'in', 'terms', 'of', 'virulence', 'Other', 'diseases', 'are', 'under', 'investigation', 'to', 'discover', 'if', 'they', 'have', 'a', 'virus', 'as', 'the', 'causative', 'agent', 'such', 'as', 'the', 'possible', 'connection', 'between', 'human', 'herpesvirus', '6', 'HHV6', 'and', 'neurological', 'diseases', 'such', 'as', 'multiple', 'sclerosis', 'and', 'chronic', 'fatigue', 'syndrome', '<NEWL>', 'There', 'is', 'controversy', 'over', 'whether', 'the', 'bornavirus', 'previously', 'thought', 'to', 'cause', 'neurological', 'diseases', 'in', 'horses', 'could', 'be', 'responsible', 'for', 'psychiatric', 'illnesses', 'in', 'humans', '<NEWL>']\n",
      "['All', 'medical', 'applications', 'known', 'so', 'far', 'involve', 'not', 'pure', 'adamantane', 'but', 'its', 'derivatives', 'The', 'first', 'adamantane', 'derivative', 'used', 'as', 'a', 'drug', 'was', 'amantadine', '–', 'first', '1967', 'as', 'an', 'antiviral', 'drug', 'against', 'various', 'strains', 'of', 'flu', '<NEWL>', 'and', 'then', 'to', 'treat', \"Parkinson's\", 'disease', '<NEWL>', 'Other', 'drugs', 'among', 'adamantane', 'derivatives', 'include', 'adapalene', 'adapromine', 'bromantane', 'carmantadine', 'chlodantane', 'dopamantine', 'memantine', 'rimantadine', 'saxagliptin', 'tromantadine', 'and', 'vildagliptin', 'Polymers', 'of', 'adamantane', 'have', 'been', 'patented', 'as', 'antiviral', 'agents', 'against', 'HIV', '<NEWL>']\n",
      "['Buprenorphine', 'has', 'been', 'shown', 'experimentally', '1982–1995', 'to', 'be', 'effective', 'against', 'severe', 'refractory', 'depression', '<NEWL>']\n",
      "['Gabapentin', 'approved', 'for', 'treatment', 'of', 'seizures', 'and', 'postherpetic', 'neuralgia', 'in', 'adults', 'has', 'side-effects', 'which', 'are', 'useful', 'in', 'treating', 'bipolar', 'disorder1', 'essential', 'tremor', 'hot', 'flashes', 'migraine', 'prophylaxis', 'neuropathic', 'pain', 'syndromes', 'phantom', 'limb', 'syndrome', 'and', 'restless', 'leg', 'syndrome', '<NEWL>']\n",
      "['Bupropion', 'Wellbutrin', 'an', 'anti-depressant', 'is', 'also', 'used', 'as', 'a', 'smoking', 'cessation', 'aid', 'this', 'indication', 'was', 'later', 'approved', 'and', 'the', 'name', 'of', 'the', 'smoking', 'cessation', 'product', 'is', 'Zyban', 'In', 'Ontario', 'Canada', 'smoking', 'cessation', 'drugs', 'are', 'not', 'covered', 'by', 'provincial', 'drug', 'plans', 'elsewhere', 'Zyban', 'is', 'priced', 'higher', 'than', 'Wellbutrin', 'despite', 'being', 'the', 'same', 'drug', 'Therefore', 'some', 'physicians', 'prescribe', 'Wellbutrin', 'for', 'both', 'indications', '<NEWL>']\n",
      "['Carbamazepine', 'is', 'an', 'approved', 'treatment', 'for', 'bipolar', 'disorder', 'and', 'epileptic', 'seizures', 'but', 'it', 'has', 'side', 'effects', 'useful', 'in', 'treating', 'attention-deficit', 'hyperactivity', 'disorder', 'ADHD', 'schizophrenia', 'phantom', 'limb', 'syndrome', 'paroxysmal', 'extreme', 'pain', 'disorder', 'neuromyotonia', 'and', 'post-traumatic', 'stress', 'disorder', '<NEWL>']\n",
      "['The', 'antiviral', 'drugs', 'amantadine', 'and', 'rimantadine', 'inhibit', 'a', 'viral', 'ion', 'channel', 'M2', 'protein', 'thus', 'inhibiting', 'replication', 'of', 'the', 'influenza', 'A', 'virus', '<NEWL>', 'These', 'drugs', 'are', 'sometimes', 'effective', 'against', 'influenza', 'A', 'if', 'given', 'early', 'in', 'the', 'infection', 'but', 'are', 'ineffective', 'against', 'influenza', 'B', 'viruses', 'which', 'lack', 'the', 'M2', 'drug', 'target', '<NEWL>', 'Measured', 'resistance', 'to', 'amantadine', 'and', 'rimantadine', 'in', 'American', 'isolates', 'of', 'H3N2', 'has', 'increased', 'to', '91', 'in', '2005', '<NEWL>', 'This', 'high', 'level', 'of', 'resistance', 'may', 'be', 'due', 'to', 'the', 'easy', 'availability', 'of', 'amantadines', 'as', 'part', 'of', 'over-the-counter', 'cold', 'remedies', 'in', 'countries', 'such', 'as', 'China', 'and', 'Russia', '<NEWL>', 'and', 'their', 'use', 'to', 'prevent', 'outbreaks', 'of', 'influenza', 'in', 'farmed', 'poultry', '<NEWL>', 'The', 'CDC', 'recommended', 'against', 'using', 'M2', 'inhibitors', 'during', 'the', '2005–06', 'influenza', 'season', 'due', 'to', 'high', 'levels', 'of', 'drug', 'resistance', '<NEWL>']\n",
      "['The', 'two', 'classes', 'of', 'antiviral', 'drugs', 'used', 'against', 'influenza', 'are', 'neuraminidase', 'inhibitors', 'oseltamivir', 'zanamivir', 'laninamivir', 'and', 'peramivir', 'and', 'M2', 'protein', 'inhibitors', 'adamantane', 'derivatives', '<NEWL>']\n",
      "stomach flu 652 663\n",
      "['Influenza', 'commonly', 'known', 'as', 'the', 'flu', 'is', 'an', 'infectious', 'disease', 'caused', 'by', 'an', 'influenza', 'virus', '<NEWL>', 'Symptoms', 'can', 'be', 'mild', 'to', 'severe', '<NEWL>', 'The', 'most', 'common', 'symptoms', 'include', 'high', 'fever', 'runny', 'nose', 'sore', 'throat', 'muscle', 'and', 'joint', 'pain', 'headache', 'coughing', 'and', 'feeling', 'tired', '<NEWL>', 'These', 'symptoms', 'typically', 'begin', 'two', 'days', 'after', 'exposure', 'to', 'the', 'virus', 'and', 'most', 'last', 'less', 'than', 'a', 'week', '<NEWL>', 'The', 'cough', 'however', 'may', 'last', 'for', 'more', 'than', 'two', 'weeks', '<NEWL>', 'In', 'children', 'there', 'may', 'be', 'diarrhea', 'and', 'vomiting', 'but', 'these', 'are', 'not', 'common', 'in', 'adults', '<NEWL>', 'Diarrhea', 'and', 'vomiting', 'occur', 'more', 'commonly', 'in', 'gastroenteritis', 'which', 'is', 'an', 'unrelated', 'disease', 'and', 'sometimes', 'inaccurately', 'referred', 'to', 'as', 'stomach', 'flu', 'or', 'the', '24-hour', 'flu', '<NEWL>', 'Complications', 'of', 'influenza', 'may', 'include', 'viral', 'pneumonia', 'secondary', 'bacterial', 'pneumonia', 'sinus', 'infections', 'and', 'worsening', 'of', 'previous', 'health', 'problems', 'such', 'as', 'asthma', 'or', 'heart', 'failure', '<NEWL>']\n"
     ]
    }
   ],
   "source": [
    "for record in data:\n",
    "    text = record['content']\n",
    "    for annotation in record['annotations']:\n",
    "        start = annotation['start']\n",
    "        end = annotation['end']\n",
    "        word = text[start:end].strip()\n",
    "        if word == 'stomach flu':\n",
    "            print(word, start, end)\n",
    "    print(tokenize_text(text))"
   ],
   "metadata": {
    "collapsed": false
   }
  },
  {
   "cell_type": "code",
   "execution_count": 531,
   "outputs": [
    {
     "name": "stdout",
     "output_type": "stream",
     "text": [
      "../data/NEW_BIO_FILES/kaggle_doc_0.bio completed\n",
      "../data/NEW_BIO_FILES/kaggle_doc_1.bio completed\n",
      "../data/NEW_BIO_FILES/kaggle_doc_2.bio completed\n",
      "../data/NEW_BIO_FILES/kaggle_doc_3.bio completed\n",
      "../data/NEW_BIO_FILES/kaggle_doc_4.bio completed\n",
      "../data/NEW_BIO_FILES/kaggle_doc_5.bio completed\n",
      "../data/NEW_BIO_FILES/kaggle_doc_6.bio completed\n",
      "../data/NEW_BIO_FILES/kaggle_doc_7.bio completed\n",
      "../data/NEW_BIO_FILES/kaggle_doc_8.bio completed\n",
      "../data/NEW_BIO_FILES/kaggle_doc_9.bio completed\n",
      "../data/NEW_BIO_FILES/kaggle_doc_10.bio completed\n",
      "../data/NEW_BIO_FILES/kaggle_doc_11.bio completed\n",
      "../data/NEW_BIO_FILES/kaggle_doc_12.bio completed\n",
      "../data/NEW_BIO_FILES/kaggle_doc_13.bio completed\n",
      "../data/NEW_BIO_FILES/kaggle_doc_14.bio completed\n",
      "../data/NEW_BIO_FILES/kaggle_doc_15.bio completed\n",
      "../data/NEW_BIO_FILES/kaggle_doc_16.bio completed\n",
      "../data/NEW_BIO_FILES/kaggle_doc_17.bio completed\n",
      "../data/NEW_BIO_FILES/kaggle_doc_18.bio completed\n",
      "../data/NEW_BIO_FILES/kaggle_doc_19.bio completed\n",
      "../data/NEW_BIO_FILES/kaggle_doc_20.bio completed\n",
      "../data/NEW_BIO_FILES/kaggle_doc_21.bio completed\n",
      "../data/NEW_BIO_FILES/kaggle_doc_22.bio completed\n",
      "../data/NEW_BIO_FILES/kaggle_doc_23.bio completed\n",
      "../data/NEW_BIO_FILES/kaggle_doc_24.bio completed\n",
      "../data/NEW_BIO_FILES/kaggle_doc_25.bio completed\n",
      "../data/NEW_BIO_FILES/kaggle_doc_26.bio completed\n",
      "../data/NEW_BIO_FILES/kaggle_doc_27.bio completed\n",
      "../data/NEW_BIO_FILES/kaggle_doc_28.bio completed\n",
      "../data/NEW_BIO_FILES/kaggle_doc_29.bio completed\n",
      "../data/NEW_BIO_FILES/kaggle_doc_30.bio completed\n",
      "Conversion completed successfully.\n"
     ]
    }
   ],
   "source": [
    "output_dir = '../data/NEW_BIO_FILES'\n",
    "for doc_id, doc in enumerate(data):\n",
    "    output_file = os.path.join(output_dir, f\"kaggle_doc_{doc_id}.bio\")\n",
    "\n",
    "    text = doc['content']\n",
    "\n",
    "    tokens = tokenize_text(text)\n",
    "\n",
    "    # Initialize a list to hold the BIO-formatted tags\n",
    "    bio_tags = ['O'] * len(tokens)\n",
    "\n",
    "    curr_pos = 0\n",
    "    for i in range(len(tokens)):\n",
    "\n",
    "        if tokens[i] == \"<NEWL>\":\n",
    "            continue\n",
    "\n",
    "        token_start = text.find(tokens[i], curr_pos)\n",
    "        token_end = token_start + len(tokens[i])\n",
    "        curr_pos = token_end\n",
    "\n",
    "        for idx, start, end in dict(sorted(overall_range_to_label.items(), key=lambda x: (x[0], x[1]))).keys():\n",
    "            if doc_id == idx:\n",
    "                # print(idx, start, end, text[start:end], overall_range_to_label[(idx, start, end)])\n",
    "                tag = overall_range_to_label[(idx, start, end)]\n",
    "                if tokens[i] == '\"stomach':\n",
    "                    print('here', tag, start, end, token_start, token_end)\n",
    "                if start <= token_start and end >= token_end:\n",
    "                    # print(tokens[i], tag)\n",
    "                    if token_start == start and bio_tags[i-1] != f'B-{tag}':\n",
    "                        bio_tags[i] = f'B-{tag}'\n",
    "                    elif bio_tags[i-1] == f'B-{tag}':\n",
    "                        bio_tags[i] = f'I-{tag}'\n",
    "                    else:\n",
    "                        bio_tags[i] = f'B-{tag}'\n",
    "\n",
    "    if not os.path.exists(output_dir):\n",
    "            os.makedirs(output_dir)\n",
    "\n",
    "    # Write the BIO tags to a new file\n",
    "    with open(output_file, 'w', encoding='utf-8') as f:\n",
    "        for token, tag in zip(tokens, bio_tags):\n",
    "            if token == \"<NEWL>\":\n",
    "                f.write('\\n')\n",
    "            else:\n",
    "                f.write(token + '\\t' + tag + '\\n')\n",
    "    print(f\"{output_file} completed\")\n",
    "print(\"Conversion completed successfully.\")"
   ],
   "metadata": {
    "collapsed": false
   }
  },
  {
   "cell_type": "code",
   "execution_count": 500,
   "outputs": [
    {
     "data": {
      "text/plain": "{(0, 360, 371): 'Medicine',\n (0, 383, 408): 'Medicine',\n (0, 104, 112): 'MedicalCondition',\n (0, 679, 689): 'Medicine',\n (0, 6, 23): 'Medicine',\n (0, 25, 37): 'Medicine',\n (0, 577, 589): 'Medicine',\n (0, 853, 865): 'MedicalCondition',\n (0, 188, 198): 'Medicine',\n (0, 754, 762): 'MedicalCondition',\n (0, 870, 880): 'MedicalCondition',\n (0, 823, 833): 'Medicine',\n (0, 535, 543): 'MedicalCondition',\n (0, 692, 704): 'Medicine',\n (0, 563, 571): 'MedicalCondition',\n (0, 461, 470): 'MedicalCondition',\n (1, 364, 382): 'MedicalCondition',\n (1, 0, 8): 'MedicalCondition',\n (1, 94, 116): 'MedicalCondition',\n (1, 178, 189): 'MedicalCondition',\n (1, 221, 232): 'MedicalCondition',\n (1, 23, 32): 'MedicalCondition',\n (1, 409, 435): 'MedicalCondition',\n (1, 386, 401): 'MedicalCondition',\n (2, 0, 22): 'Medicine',\n (2, 24, 27): 'Medicine',\n (2, 120, 123): 'Medicine',\n (2, 211, 214): 'Pathogen',\n (2, 52, 55): 'Pathogen',\n (2, 234, 237): 'Medicine',\n (2, 148, 151): 'Pathogen',\n (3, 38, 44): 'Medicine',\n (3, 356, 374): 'Medicine',\n (3, 939, 950): 'Medicine',\n (3, 262, 269): 'MedicalCondition',\n (3, 60, 78): 'Medicine',\n (3, 718, 731): 'Medicine',\n (3, 227, 248): 'Medicine',\n (3, 678, 690): 'Medicine',\n (3, 197, 206): 'Medicine',\n (3, 856, 867): 'Medicine',\n (3, 159, 169): 'Medicine',\n (3, 130, 142): 'Medicine',\n (3, 561, 574): 'Medicine',\n (3, 108, 128): 'Medicine',\n (3, 1670, 1680): 'MedicalCondition',\n (3, 80, 106): 'Medicine',\n (3, 1610, 1616): 'MedicalCondition',\n (3, 453, 465): 'Medicine',\n (3, 797, 817): 'MedicalCondition',\n (3, 595, 606): 'Medicine',\n (3, 46, 58): 'Medicine',\n (3, 823, 844): 'Medicine',\n (3, 1124, 1136): 'Medicine',\n (3, 579, 590): 'Medicine',\n (3, 1618, 1626): 'Medicine',\n (3, 504, 516): 'Medicine',\n (3, 144, 154): 'Medicine',\n (3, 211, 222): 'Medicine',\n (3, 280, 291): 'Medicine',\n (3, 1211, 1589): 'MedicalCondition',\n (3, 1630, 1644): 'MedicalCondition',\n (4, 401, 413): 'Medicine',\n (4, 378, 396): 'Medicine',\n (4, 473, 490): 'Medicine',\n (4, 255, 263): 'Medicine',\n (5, 0, 12): 'Pathogen',\n (5, 394, 406): 'Pathogen',\n (5, 227, 239): 'Pathogen',\n (5, 95, 110): 'Pathogen',\n (6, 35, 41): 'MedicalCondition',\n (6, 384, 396): 'Pathogen',\n (6, 1269, 1281): 'Pathogen',\n (6, 1343, 1347): 'MedicalCondition',\n (6, 977, 983): 'MedicalCondition',\n (6, 1027, 1032): 'MedicalCondition',\n (6, 162, 168): 'MedicalCondition',\n (7, 35, 68): 'MedicalCondition',\n (7, 240, 252): 'MedicalCondition',\n (7, 70, 74): 'MedicalCondition',\n (7, 453, 457): 'MedicalCondition',\n (7, 360, 376): 'Pathogen',\n (7, 319, 323): 'MedicalCondition',\n (7, 378, 386): 'Pathogen',\n (8, 271, 282): 'MedicalCondition',\n (8, 0, 19): 'Pathogen',\n (8, 1305, 1319): 'MedicalCondition',\n (8, 897, 905): 'MedicalCondition',\n (8, 1799, 1807): 'MedicalCondition',\n (8, 1549, 1559): 'MedicalCondition',\n (8, 658, 679): 'MedicalCondition',\n (8, 226, 244): 'MedicalCondition',\n (8, 1422, 1432): 'Pathogen',\n (8, 1367, 1388): 'Pathogen',\n (8, 921, 946): 'Pathogen',\n (8, 1864, 1879): 'MedicalCondition',\n (8, 1394, 1416): 'Pathogen',\n (8, 357, 379): 'Pathogen',\n (8, 467, 486): 'Pathogen',\n (8, 254, 269): 'MedicalCondition',\n (8, 910, 919): 'MedicalCondition',\n (8, 1809, 1827): 'MedicalCondition',\n (8, 1881, 1907): 'Medicine',\n (8, 1573, 1585): 'MedicalCondition',\n (8, 1843, 1855): 'MedicalCondition',\n (8, 1921, 1951): 'Medicine',\n (8, 1683, 1693): 'MedicalCondition',\n (8, 132, 144): 'Pathogen',\n (8, 331, 351): 'Pathogen',\n (8, 1215, 1226): 'Pathogen',\n (8, 285, 306): 'Pathogen',\n (8, 736, 752): 'Pathogen',\n (8, 33, 42): 'Pathogen',\n (8, 1623, 1636): 'MedicalCondition',\n (9, 116, 124): 'Pathogen',\n (9, 155, 170): 'Pathogen',\n (9, 126, 137): 'Pathogen',\n (9, 70, 79): 'Pathogen',\n (9, 139, 149): 'Pathogen',\n (9, 106, 114): 'Pathogen',\n (9, 91, 104): 'Pathogen',\n (9, 81, 89): 'Pathogen',\n (9, 58, 68): 'Pathogen',\n (10, 327, 340): 'Pathogen',\n (10, 452, 462): 'Pathogen',\n (10, 276, 285): 'MedicalCondition',\n (10, 564, 571): 'MedicalCondition',\n (10, 538, 548): 'MedicalCondition',\n (10, 345, 356): 'Pathogen',\n (10, 65, 77): 'MedicalCondition',\n (10, 550, 558): 'MedicalCondition',\n (10, 89, 115): 'Pathogen',\n (10, 423, 431): 'Pathogen',\n (10, 433, 447): 'Pathogen',\n (10, 513, 522): 'MedicalCondition',\n (10, 523, 536): 'MedicalCondition',\n (11, 436, 449): 'Pathogen',\n (11, 673, 689): 'MedicalCondition',\n (11, 454, 465): 'Pathogen',\n (11, 87, 106): 'Pathogen',\n (11, 532, 540): 'Pathogen',\n (11, 561, 571): 'Pathogen',\n (11, 623, 630): 'MedicalCondition',\n (11, 471, 490): 'MedicalCondition',\n (11, 632, 645): 'MedicalCondition',\n (11, 542, 555): 'Pathogen',\n (11, 30, 39): 'Pathogen',\n (11, 647, 667): 'MedicalCondition',\n (12, 379, 390): 'Medicine',\n (12, 152, 167): 'Medicine',\n (12, 411, 422): 'Medicine',\n (12, 392, 405): 'Medicine',\n (12, 176, 196): 'Medicine',\n (13, 158, 167): 'Pathogen',\n (13, 95, 119): 'Pathogen',\n (13, 187, 193): 'Pathogen',\n (13, 147, 156): 'Pathogen',\n (13, 140, 145): 'Pathogen',\n (14, 384, 395): 'Medicine',\n (14, 1687, 1697): 'Medicine',\n (14, 1173, 1178): 'Medicine',\n (14, 1702, 1713): 'Medicine',\n (14, 781, 792): 'Medicine',\n (14, 1563, 1573): 'Medicine',\n (14, 603, 613): 'Medicine',\n (14, 1675, 1685): 'MedicalCondition',\n (14, 1613, 1629): 'MedicalCondition',\n (14, 369, 379): 'Medicine',\n (14, 1291, 1301): 'Medicine',\n (14, 1546, 1558): 'Medicine',\n (14, 835, 848): 'MedicalCondition',\n (14, 455, 467): 'Medicine',\n (14, 1391, 1402): 'Medicine',\n (14, 584, 597): 'MedicalCondition',\n (14, 48, 72): 'MedicalCondition',\n (14, 1098, 1112): 'MedicalCondition',\n (15, 88, 98): 'Medicine',\n (15, 335, 346): 'Medicine',\n (15, 52, 63): 'Medicine',\n (16, 118, 129): 'Medicine',\n (16, 46, 54): 'Medicine',\n (16, 82, 91): 'Medicine',\n (16, 33, 43): 'MedicalCondition',\n (16, 104, 114): 'Medicine',\n (17, 523, 541): 'MedicalCondition',\n (17, 138, 148): 'MedicalCondition',\n (17, 155, 170): 'MedicalCondition',\n (17, 299, 313): 'MedicalCondition',\n (17, 446, 462): 'MedicalCondition',\n (19, 279, 283): 'Pathogen',\n (20, 134, 161): 'MedicalCondition',\n (20, 753, 773): 'MedicalCondition',\n (20, 337, 361): 'MedicalCondition',\n (20, 445, 467): 'MedicalCondition',\n (21, 471, 479): 'MedicalCondition',\n (21, 419, 441): 'Pathogen',\n (21, 365, 383): 'Pathogen',\n (21, 707, 722): 'Pathogen',\n (21, 181, 201): 'Pathogen',\n (21, 456, 467): 'MedicalCondition',\n (22, 518, 536): 'MedicalCondition',\n (22, 154, 165): 'Pathogen',\n (22, 708, 729): 'MedicalCondition',\n (22, 463, 476): 'Pathogen',\n (22, 77, 86): 'MedicalCondition',\n (22, 88, 98): 'MedicalCondition',\n (22, 187, 202): 'MedicalCondition',\n (22, 610, 620): 'Pathogen',\n (23, 239, 258): 'MedicalCondition',\n (23, 55, 65): 'Medicine',\n (23, 531, 534): 'Pathogen',\n (23, 416, 427): 'Medicine',\n (23, 379, 390): 'Medicine',\n (23, 352, 364): 'Medicine',\n (23, 139, 149): 'Medicine',\n (24, 88, 109): 'MedicalCondition',\n (24, 0, 14): 'MedicalCondition',\n (25, 203, 229): 'MedicalCondition',\n (25, 258, 279): 'MedicalCondition',\n (25, 181, 201): 'MedicalCondition',\n (25, 51, 73): 'MedicalCondition',\n (25, 0, 10): 'Medicine',\n (25, 38, 46): 'MedicalCondition',\n (26, 274, 279): 'Medicine',\n (26, 11, 21): 'Medicine',\n (26, 301, 312): 'MedicalCondition',\n (26, 380, 390): 'Medicine',\n (26, 170, 175): 'Medicine',\n (26, 0, 9): 'Medicine',\n (27, 267, 288): 'MedicalCondition',\n (27, 248, 261): 'MedicalCondition',\n (27, 43, 59): 'MedicalCondition',\n (27, 145, 167): 'MedicalCondition',\n (27, 0, 14): 'MedicalCondition',\n (27, 176, 189): 'MedicalCondition',\n (27, 64, 82): 'MedicalCondition',\n (27, 191, 212): 'MedicalCondition',\n (28, 639, 648): 'MedicalCondition',\n (28, 35, 46): 'Medicine',\n (28, 712, 725): 'Medicine',\n (28, 20, 30): 'Medicine',\n (29, 128, 137): 'Medicine',\n (29, 101, 110): 'Medicine',\n (29, 112, 124): 'MedicalCondition',\n (29, 88, 99): 'Medicine',\n (29, 48, 58): 'MedicalCondition',\n (30, 191, 202): 'MedicalCondition',\n (30, 0, 9): 'MedicalCondition',\n (30, 756, 775): 'Pathogen',\n (30, 468, 476): 'MedicalCondition',\n (30, 227, 235): 'MedicalCondition',\n (30, 237, 245): 'MedicalCondition',\n (30, 777, 793): 'MedicalCondition',\n (30, 855, 868): 'MedicalCondition',\n (30, 215, 225): 'MedicalCondition',\n (30, 652, 663): 'MedicalCondition',\n (30, 251, 264): 'MedicalCondition',\n (30, 78, 93): 'Pathogen',\n (30, 455, 464): 'MedicalCondition',\n (30, 845, 852): 'MedicalCondition'}"
     },
     "execution_count": 500,
     "metadata": {},
     "output_type": "execute_result"
    }
   ],
   "source": [
    "overall_range_to_label"
   ],
   "metadata": {
    "collapsed": false
   }
  },
  {
   "cell_type": "code",
   "execution_count": 507,
   "outputs": [
    {
     "data": {
      "text/plain": "'Influenza, commonly known as \"the flu\", is an infectious disease caused by an influenza virus.[1] Symptoms can be mild to severe.[5] The most common symptoms include: high fever, runny nose, sore throat, muscle and joint pain, headache, coughing, and feeling tired.[1] These symptoms typically begin two days after exposure to the virus and most last less than a week.[1] The cough, however, may last for more than two weeks.[1] In children, there may be diarrhea and vomiting, but these are not common in adults.[6] Diarrhea and vomiting occur more commonly in gastroenteritis, which is an unrelated disease and sometimes inaccurately referred to as \"stomach flu\" or the \"24-hour flu\".[6] Complications of influenza may include viral pneumonia, secondary bacterial pneumonia, sinus infections, and worsening of previous health problems such as asthma or heart failure.[2][5]'"
     },
     "execution_count": 507,
     "metadata": {},
     "output_type": "execute_result"
    }
   ],
   "source": [
    "text.split('[%d]')\n",
    "text"
   ],
   "metadata": {
    "collapsed": false
   }
  },
  {
   "cell_type": "code",
   "execution_count": null,
   "outputs": [],
   "source": [
    "output_dir = '../data/NEW_BIO_FILES'\n",
    "for file_id in file_ids:\n",
    "\n",
    "    txt_file = os.path.join(MACCROBAT_data_dir, file_id+\".txt\")\n",
    "    with open(txt_file, 'r') as f:\n",
    "        text = f.read()\n",
    "\n",
    "\n",
    "    tokens = tokenize_text(text)\n",
    "\n",
    "    # Initialize a list to hold the BIO-formatted tags\n",
    "    bio_tags = ['O'] * len(tokens)\n",
    "\n",
    "    curr_pos = 0\n",
    "    for i in range(len(tokens)):\n",
    "\n",
    "        token_start = text.find(tokens[i], curr_pos)\n",
    "        token_end = token_start + len(tokens[i])\n",
    "        curr_pos = token_end\n",
    "\n",
    "        for file_name, start, end in dict(sorted(overall_range_to_label.items(), key=lambda x: (x[0], x[1]))).keys():\n",
    "            if file_name == txt_file:\n",
    "                tag = overall_range_to_label[(file_name, start, end)]\n",
    "                if start <= token_start and end >= token_end:\n",
    "\n",
    "                    if token_start == start:\n",
    "                        bio_tags[i] = f'B-{tag}'\n",
    "                    else:\n",
    "                        bio_tags[i] = f'I-{tag}'\n",
    "\n",
    "    if not os.path.exists(output_dir):\n",
    "            os.makedirs(output_dir)\n",
    "\n",
    "    # Write the BIO tags to a new file\n",
    "    output_file = os.path.join(output_dir, file_id+\".bio\")\n",
    "    with open(output_file, 'w', encoding='utf-8') as f:\n",
    "        sentence_start_index = 0\n",
    "        for sentence in text.split('\\n'):\n",
    "            sentence_tokens = sentence.split()\n",
    "            sentence_length = len(sentence_tokens)\n",
    "            sentence_end_index = sentence_start_index + sentence_length\n",
    "            for i in range(sentence_start_index, sentence_end_index):\n",
    "                f.write(sentence_tokens[i - sentence_start_index] + '\\t' + bio_tags[i] + '\\n')\n",
    "            f.write('\\n')\n",
    "            sentence_start_index = sentence_end_index\n",
    "    print(f\"{output_file} completed\")\n",
    "print(\"Conversion completed successfully.\")"
   ],
   "metadata": {
    "collapsed": false
   }
  }
 ],
 "metadata": {
  "kernelspec": {
   "display_name": "Python 3",
   "language": "python",
   "name": "python3"
  },
  "language_info": {
   "codemirror_mode": {
    "name": "ipython",
    "version": 2
   },
   "file_extension": ".py",
   "mimetype": "text/x-python",
   "name": "python",
   "nbconvert_exporter": "python",
   "pygments_lexer": "ipython2",
   "version": "2.7.6"
  }
 },
 "nbformat": 4,
 "nbformat_minor": 0
}
