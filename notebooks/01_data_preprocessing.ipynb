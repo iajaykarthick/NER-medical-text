{
 "cells": [
  {
   "cell_type": "markdown",
   "source": [
    "### MACCROBAT_DATA"
   ],
   "metadata": {
    "collapsed": false
   }
  },
  {
   "cell_type": "markdown",
   "source": [
    "Annotation files are in brat standoff format"
   ],
   "metadata": {
    "collapsed": false
   }
  },
  {
   "cell_type": "markdown",
   "source": [
    "General annotation structure\n",
    "All annotations follow the same basic structure: Each line contains one annotation, and each annotation is given an ID that appears first on the line, separated from the rest of the annotation by a single TAB character. The rest of the structure varies by annotation type.\n",
    "\n",
    "Examples of annotation for an entity (T1), an event trigger (T2), an event (E1) and a relation (R1) are shown in the following."
   ],
   "metadata": {
    "collapsed": false
   }
  },
  {
   "cell_type": "markdown",
   "source": [
    "Annotation ID conventions\n",
    "All annotations IDs consist of a single upper-case character identifying the annotation type and a number. The initial ID characters relate to annotation types as follows:\n",
    "\n",
    "T: text-bound annotation\n",
    "R: relation\n",
    "E: event\n",
    "A: attribute\n",
    "M: modification (alias for attribute, for backward compatibility)\n",
    "N: normalization [new in v1.3]\n",
    "#: note"
   ],
   "metadata": {
    "collapsed": false
   }
  },
  {
   "cell_type": "markdown",
   "source": [
    "### Goal:\n",
    "* Convert .ann (brat standoff format) & .txt to BIO format files\n",
    "* Sample BIO format is as follows\n",
    "\n",
    "* BIO format:\n",
    "*\n",
    "| Word           | BIO Tag    |\n",
    "|----------------|-----------|\n",
    "| The            | O         |\n",
    "| patient        | O         |\n",
    "| has            | O         |\n",
    "| a              | O         |\n",
    "| history        | O         |\n",
    "| of             | O         |\n",
    "| hypertension   | B-DISEASE |\n",
    "| and            | I-DISEASE |\n",
    "| type           | O         |\n",
    "| 2              | O         |\n",
    "| diabetes       | B-DISEASE |\n",
    "| .              | O         |\n",
    "| The            | O         |\n",
    "| patient        | O         |\n",
    "| denies         | O         |\n",
    "| chest          | B-SYMPTOM |\n",
    "| pain           | I-SYMPTOM |\n",
    "| and            | O         |\n",
    "| shortness      | B-SYMPTOM |\n",
    "| of             | I-SYMPTOM |\n",
    "| breath         | I-SYMPTOM |\n",
    "| .              | O         |\n",
    "| The            | O         |\n",
    "| physical       | O         |\n",
    "| exam           | O         |\n",
    "| was            | O         |\n",
    "| unremarkable   | O         |\n",
    "| except         | O         |\n",
    "| for            | O         |\n",
    "| an             | O         |\n",
    "| elevated       | B-SYMPTOM |\n",
    "| blood          | I-SYMPTOM |\n",
    "| pressure       | I-SYMPTOM |\n",
    "| of             | I-SYMPTOM |\n",
    "| 140/90         | B-SYMPTOM |\n",
    "| mmHg           | I-SYMPTOM |\n",
    "| .              | O         |\n"
   ],
   "metadata": {
    "collapsed": false
   }
  },
  {
   "cell_type": "code",
   "execution_count": 11,
   "outputs": [],
   "source": [
    "MACCROBAT_data_dir = \"../data/MACCROBAT\""
   ],
   "metadata": {
    "collapsed": false
   }
  },
  {
   "cell_type": "code",
   "execution_count": 8,
   "outputs": [],
   "source": [
    "import os\n",
    "import pandas as pd\n"
   ],
   "metadata": {
    "collapsed": false
   }
  },
  {
   "cell_type": "code",
   "execution_count": 12,
   "outputs": [
    {
     "data": {
      "text/plain": "['19860925',\n '26361640',\n '26228535',\n '27773410',\n '23678274',\n '25853982',\n '28103924',\n '27064109',\n '28154700',\n '20146086',\n '26656340',\n '28353558',\n '22515939',\n '28353588',\n '26309459',\n '28272235',\n '23242090',\n '23312850',\n '23124805',\n '26106249',\n '26313770',\n '26285706',\n '18416479',\n '28353613',\n '28151916',\n '26175648',\n '23468586',\n '28216610',\n '27059701',\n '28121940',\n '23077697',\n '27741115',\n '21067996',\n '28100235',\n '28151860',\n '25884600',\n '27904130',\n '19214295',\n '18787726',\n '22719160',\n '28422883',\n '26675562',\n '21477357',\n '25139918',\n '28353561',\n '22791498',\n '28538413',\n '26457578',\n '27842605',\n '20671919',\n '25155594',\n '26469535',\n '28353604',\n '28403092',\n '28239141',\n '28202869',\n '25024632',\n '28403086',\n '18666334',\n '25572898',\n '28296775',\n '22514576',\n '26584481',\n '28296749',\n '16778410',\n '19860007',\n '28190872',\n '25743872',\n '26523273',\n '28193213',\n '28120581',\n '26670309',\n '26336183',\n '25410883',\n '26530965',\n '28057913',\n '20977862',\n '25721834',\n '19860006',\n '19816630',\n '23155491',\n '28207542',\n '23864579',\n '26361431',\n '26264228',\n '28100279',\n '25370695',\n '26683938',\n '18258107',\n '22665582',\n '28248858',\n '27218632',\n '25023062',\n '25293719',\n '21308977',\n '22814979',\n '18561524',\n '26444414',\n '21923918',\n '23035161',\n '24898994',\n '28265107',\n '27974938',\n '24526194',\n '25858931',\n '28090049',\n '28115731',\n '17803823',\n '24294397',\n '27683825',\n '25661749',\n '28196820',\n '28248891',\n '18236639',\n '28033278',\n '21672201',\n '21254744',\n '28079821',\n '26216058',\n '24957905',\n '27196481',\n '26266396',\n '24518095',\n '26350418',\n '23897372',\n '15939911',\n '25926582',\n '27980261',\n '27980272',\n '25759562',\n '27821134',\n '23033875',\n '28173879',\n '18815636',\n '23076693',\n '21527041',\n '21505579',\n '24781756',\n '28250406',\n '26405496',\n '25934795',\n '26629302',\n '27661040',\n '25210224',\n '28202865',\n '28321070',\n '28403099',\n '28202862',\n '25295501',\n '28320420',\n '28595573',\n '26474553',\n '27130218',\n '28154669',\n '22218279',\n '28154281',\n '25246819',\n '28353556',\n '26664317',\n '26445413',\n '26257516',\n '28272214',\n '28154287',\n '19307547',\n '27990013',\n '27998312',\n '27906105',\n '24043987',\n '27842595',\n '28321071',\n '24654246',\n '21720478',\n '28383413',\n '19009665',\n '28767567',\n '19610147',\n '22781096',\n '28321073',\n '27100441',\n '26692730',\n '27793101',\n '27004009',\n '28151882',\n '28353569',\n '27057898',\n '26327988',\n '28353596',\n '27928148',\n '22520024',\n '27846860',\n '26395443',\n '21129213',\n '25793030',\n '27749582',\n '28559815',\n '24161539',\n '28250304',\n '28292056',\n '25410034',\n '26714786']"
     },
     "execution_count": 12,
     "metadata": {},
     "output_type": "execute_result"
    }
   ],
   "source": [
    "file_ids = []\n",
    "for file in os.listdir(MACCROBAT_data_dir):\n",
    "    file_id = file.split(\".\")[0]\n",
    "    if file_id not in file_ids:\n",
    "        file_ids.append(file_id)\n",
    "file_ids"
   ],
   "metadata": {
    "collapsed": false
   }
  },
  {
   "cell_type": "markdown",
   "source": [
    "### Checking all the tag types in all .ann files"
   ],
   "metadata": {
    "collapsed": false
   }
  },
  {
   "cell_type": "code",
   "execution_count": 13,
   "outputs": [
    {
     "data": {
      "text/plain": "{'#', '*', 'A', 'E', 'R', 'T'}"
     },
     "execution_count": 13,
     "metadata": {},
     "output_type": "execute_result"
    }
   ],
   "source": [
    "tags = []\n",
    "for ann_file in [os.path.join(MACCROBAT_data_dir, file_id+\".ann\") for file_id in file_ids]:\n",
    "    with open(ann_file) as f:\n",
    "        for line in f.readlines():\n",
    "            tags.append(line.split(\"\\t\")[0][0])\n",
    "\n",
    "set(tags)"
   ],
   "metadata": {
    "collapsed": false
   }
  },
  {
   "cell_type": "markdown",
   "source": [
    "For named entity recognition, only the T tags are needed to generate the BIO format. The other tags such as #, *, A, E, and R are used for representing different types of information in the .ann files and are not directly related to named entity recognition.\n",
    "\n",
    "\\# is used to denote comments in the annotation file.\n",
    "\\* is used to represent coreference annotations.\n",
    "A is used to represent attribute annotations.\n",
    "E is used to represent event annotations.\n",
    "R is used to represent relation annotations.\n",
    "\n",
    "Therefore, we can ignore all other tags except for the T tags when generating the BIO format for named entity recognition."
   ],
   "metadata": {
    "collapsed": false
   }
  },
  {
   "cell_type": "markdown",
   "source": [
    "### Find Entity types in ann files"
   ],
   "metadata": {
    "collapsed": false
   }
  },
  {
   "cell_type": "code",
   "execution_count": 23,
   "outputs": [],
   "source": [
    "# create an empty list to store the DataFrames\n",
    "df_list = []\n",
    "\n",
    "for ann_file in [os.path.join(MACCROBAT_data_dir, file_id+\".ann\") for file_id in file_ids]:\n",
    "    # read the TSV file with consecutive tabs treated as a single delimiter\n",
    "    df = pd.read_csv(ann_file, sep=\"\\t+\", header=None, names=['id', 'entity_with_range', 'word'], engine='python')\n",
    "\n",
    "    # selecting only T tag rows\n",
    "    df = df[df.iloc[:,0].str.startswith('T')]\n",
    "\n",
    "    df['file_name'] = f\"{os.path.splitext(ann_file)[0]}.txt\"\n",
    "\n",
    "    df_list.append(df)\n",
    "\n",
    "ann_df = pd.concat(df_list)\n",
    "ann_df = ann_df.reset_index(drop=True)"
   ],
   "metadata": {
    "collapsed": false
   }
  },
  {
   "cell_type": "code",
   "execution_count": 24,
   "outputs": [
    {
     "data": {
      "text/plain": "   id     entity_with_range         word                       file_name\n0  T1              Age 4 15  24-year-old  ../data/MACCROBAT/19860925.txt\n1  T2             Sex 28 32         male  ../data/MACCROBAT/19860925.txt\n2  T3         History 16 27  non-smoking  ../data/MACCROBAT/19860925.txt\n3  T4  Clinical_event 41 50    presented  ../data/MACCROBAT/19860925.txt\n4  T5    Sign_symptom 65 75   hemoptysis  ../data/MACCROBAT/19860925.txt",
      "text/html": "<div>\n<style scoped>\n    .dataframe tbody tr th:only-of-type {\n        vertical-align: middle;\n    }\n\n    .dataframe tbody tr th {\n        vertical-align: top;\n    }\n\n    .dataframe thead th {\n        text-align: right;\n    }\n</style>\n<table border=\"1\" class=\"dataframe\">\n  <thead>\n    <tr style=\"text-align: right;\">\n      <th></th>\n      <th>id</th>\n      <th>entity_with_range</th>\n      <th>word</th>\n      <th>file_name</th>\n    </tr>\n  </thead>\n  <tbody>\n    <tr>\n      <th>0</th>\n      <td>T1</td>\n      <td>Age 4 15</td>\n      <td>24-year-old</td>\n      <td>../data/MACCROBAT/19860925.txt</td>\n    </tr>\n    <tr>\n      <th>1</th>\n      <td>T2</td>\n      <td>Sex 28 32</td>\n      <td>male</td>\n      <td>../data/MACCROBAT/19860925.txt</td>\n    </tr>\n    <tr>\n      <th>2</th>\n      <td>T3</td>\n      <td>History 16 27</td>\n      <td>non-smoking</td>\n      <td>../data/MACCROBAT/19860925.txt</td>\n    </tr>\n    <tr>\n      <th>3</th>\n      <td>T4</td>\n      <td>Clinical_event 41 50</td>\n      <td>presented</td>\n      <td>../data/MACCROBAT/19860925.txt</td>\n    </tr>\n    <tr>\n      <th>4</th>\n      <td>T5</td>\n      <td>Sign_symptom 65 75</td>\n      <td>hemoptysis</td>\n      <td>../data/MACCROBAT/19860925.txt</td>\n    </tr>\n  </tbody>\n</table>\n</div>"
     },
     "execution_count": 24,
     "metadata": {},
     "output_type": "execute_result"
    }
   ],
   "source": [
    "ann_df.head()"
   ],
   "metadata": {
    "collapsed": false
   }
  },
  {
   "cell_type": "code",
   "execution_count": 25,
   "outputs": [
    {
     "data": {
      "text/plain": "(25041, 4)"
     },
     "execution_count": 25,
     "metadata": {},
     "output_type": "execute_result"
    }
   ],
   "source": [
    "ann_df.shape"
   ],
   "metadata": {
    "collapsed": false
   }
  },
  {
   "cell_type": "markdown",
   "source": [
    "Few entries in data represents the tagged text spans more than one disjoint ranges\n",
    "Below are the entites with disjoint ranges"
   ],
   "metadata": {
    "collapsed": false
   }
  },
  {
   "cell_type": "code",
   "execution_count": 26,
   "outputs": [
    {
     "data": {
      "text/plain": "         id                                  entity_with_range  \\\n39      T40                   Disease_disorder 701 714;730 735   \n1190    T31                         Dosage 4085 4093;4103 4108   \n1272   T160                         Dosage 3117 3124;3135 3141   \n1469   T101           Detailed_description 2552 2559;2585 2654   \n2376    T42                     Administration 704 715;721 726   \n2380    T47                             Dosage 828 835;861 879   \n2381    T48                             Dosage 849 857;861 879   \n2853    T18               Diagnostic_procedure 341 350;357 358   \n3335    T16                   Disease_disorder 315 317;319 330   \n3336    T15                   Disease_disorder 297 313;319 330   \n3348    T28               Diagnostic_procedure 606 621;641 647   \n3359    T39           Diagnostic_procedure 1017 1032;1052 1058   \n3377    T59           Diagnostic_procedure 1316 1318;1328 1336   \n3380    T62           Biological_structure 1386 1391;1408 1412   \n3405    T86                            History 606 621;641 647   \n4622   T121           Biological_structure 2001 2005;2034 2037   \n4625   T124           Diagnostic_procedure 2114 2133;2139 2143   \n4654   T154           Biological_structure 2428 2438;2444 2463   \n4655   T155           Biological_structure 2428 2438;2472 2499   \n5443    T28                          Lab_value 535 538;546 550   \n5623   T110                      Lab_value 2015 2024;2052 2061   \n9738    T59           Biological_structure 1644 1653;1673 1684   \n11557   T15                   Disease_disorder 474 481;490 503   \n11561   T19           Diagnostic_procedure 2831 2851;2858 2859   \n11576   T34           Diagnostic_procedure 2637 2653;2667 2674   \n11584   T42           Diagnostic_procedure 2296 2320;2327 2335   \n11588   T46           Diagnostic_procedure 2362 2371;2375 2377   \n11589   T47           Diagnostic_procedure 2362 2371;2383 2386   \n13564   T79           Detailed_description 1366 1373;1386 1404   \n13826   T89                      Lab_value 1596 1600;1628 1631   \n13830   T93                      Lab_value 1657 1661;1690 1693   \n13860  T123           Diagnostic_procedure 2306 2308;2316 2323   \n16564   T66                   Sign_symptom 1557 1559;1560 1567   \n16578   T80           Detailed_description 2186 2188;2189 2196   \n16585   T87           Diagnostic_procedure 2427 2429;2430 2437   \n17000   T87  Other_event 1746 1813;1814 1845;1846 1878;1879...   \n17808  T163                   Other_entity 4047 4155;4156 4238   \n17849   T39           Biological_structure 1101 1111;1121 1126   \n17850   T40           Biological_structure 1101 1111;1131 1137   \n17856   T46                      Lab_value 1439 1446;1457 1476   \n17879   T69           Biological_structure 2352 2357;2367 2371   \n17895   T85           Biological_structure 2873 2880;2902 2912   \n17896   T86           Biological_structure 2873 2880;2917 2926   \n17943  T133           Biological_structure 1645 1650;1660 1673   \n17948  T138               Disease_disorder 1246 1252;1261 1274   \n18823   T51                           Date 1251 1257;1274 1276   \n20497   T26                               Time 464 465;477 484   \n20499   T28                               Time 467 468;477 484   \n20555   T84           Biological_structure 1610 1633;1652 1658   \n20591  T120           Biological_structure 2533 2540;2559 2570   \n20592  T121           Biological_structure 2542 2547;2559 2570   \n21984   T98                          Shape 1739 1743;1761 1766   \n22069   T75                   Sign_symptom 1994 2004;2021 2029   \n22621   T35               Biological_structure 900 905;915 918   \n22623   T37                          Lab_value 926 929;938 939   \n\n                                                    word  \\\n39                                   granular cell tumor   \n1190                                      low dose daily   \n1272                                      1500 mg weekly   \n1469   neither had developed any signs or symptoms su...   \n2376                                   intravenous bolus   \n2380                          5 mg/kg every 4 to 6 weeks   \n2381                         10 mg/kg every 4 to 6 weeks   \n2853                                         Hepatitis C   \n3335                                      LV dysfunction   \n3336                        left ventricular dysfunction   \n3348                              total carnitine levels   \n3359                              total carnitine levels   \n3377                                         LV function   \n3380                                          basal wall   \n3405                              total carnitine levels   \n4622                                            left arm   \n4625                            computed tomography scan   \n4654                      origins of subclavian arteries   \n4655              origins of right common carotid artery   \n5443                                            386  U/L   \n5623                                 Frequency decreased   \n9738                               pericolic lymph nodes   \n11557                              cardiac malformations   \n11561                             DNA Polymerase Gamma 2   \n11576                           Citrate synthase content   \n11584                  electron transport chain activity   \n11588                                       complexes II   \n11589                                      complexes III   \n13564                         without rebound tenderness   \n13826                                           6/24 N36   \n13830                                           6/18 N36   \n13860                                         T1 signals   \n16564                                         H. cinaedi   \n16578                                         H. cinaedi   \n16585                                         H. cinaedi   \n17000  Atrial septal defect ostium secundum type with...   \n17808  and we recommended no further exposure to lead...   \n17849                                   mandibular ramus   \n17850                                  mandibular corpus   \n17856                        shorter than the other side   \n17879                                         right ears   \n17895                                 cochlea vestibulum   \n17896                                  cochlea utriculum   \n17943                                right hemimandibula   \n17948                               Number abnormalities   \n18823                                          age of 44   \n20497                                          1 minutes   \n20499                                          5 minutes   \n20555                     individual COX-positive fibers   \n20591                                stomach homogenates   \n20592                                  ileum homogenates   \n21984                                         edge clear   \n22069                                perineural invasion   \n22621                                          right eye   \n22623                                              561 μ   \n\n                            file_name  \n39     ../data/MACCROBAT/19860925.txt  \n1190   ../data/MACCROBAT/20146086.txt  \n1272   ../data/MACCROBAT/20146086.txt  \n1469   ../data/MACCROBAT/28353558.txt  \n2376   ../data/MACCROBAT/23124805.txt  \n2380   ../data/MACCROBAT/23124805.txt  \n2381   ../data/MACCROBAT/23124805.txt  \n2853   ../data/MACCROBAT/18416479.txt  \n3335   ../data/MACCROBAT/23468586.txt  \n3336   ../data/MACCROBAT/23468586.txt  \n3348   ../data/MACCROBAT/23468586.txt  \n3359   ../data/MACCROBAT/23468586.txt  \n3377   ../data/MACCROBAT/23468586.txt  \n3380   ../data/MACCROBAT/23468586.txt  \n3405   ../data/MACCROBAT/23468586.txt  \n4622   ../data/MACCROBAT/19214295.txt  \n4625   ../data/MACCROBAT/19214295.txt  \n4654   ../data/MACCROBAT/19214295.txt  \n4655   ../data/MACCROBAT/19214295.txt  \n5443   ../data/MACCROBAT/28353561.txt  \n5623   ../data/MACCROBAT/22791498.txt  \n9738   ../data/MACCROBAT/19816630.txt  \n11557  ../data/MACCROBAT/21308977.txt  \n11561  ../data/MACCROBAT/21308977.txt  \n11576  ../data/MACCROBAT/21308977.txt  \n11584  ../data/MACCROBAT/21308977.txt  \n11588  ../data/MACCROBAT/21308977.txt  \n11589  ../data/MACCROBAT/21308977.txt  \n13564  ../data/MACCROBAT/17803823.txt  \n13826  ../data/MACCROBAT/25661749.txt  \n13830  ../data/MACCROBAT/25661749.txt  \n13860  ../data/MACCROBAT/25661749.txt  \n16564  ../data/MACCROBAT/28173879.txt  \n16578  ../data/MACCROBAT/28173879.txt  \n16585  ../data/MACCROBAT/28173879.txt  \n17000  ../data/MACCROBAT/21505579.txt  \n17808  ../data/MACCROBAT/27661040.txt  \n17849  ../data/MACCROBAT/25210224.txt  \n17850  ../data/MACCROBAT/25210224.txt  \n17856  ../data/MACCROBAT/25210224.txt  \n17879  ../data/MACCROBAT/25210224.txt  \n17895  ../data/MACCROBAT/25210224.txt  \n17896  ../data/MACCROBAT/25210224.txt  \n17943  ../data/MACCROBAT/25210224.txt  \n17948  ../data/MACCROBAT/25210224.txt  \n18823  ../data/MACCROBAT/28595573.txt  \n20497  ../data/MACCROBAT/19307547.txt  \n20499  ../data/MACCROBAT/19307547.txt  \n20555  ../data/MACCROBAT/19307547.txt  \n20591  ../data/MACCROBAT/19307547.txt  \n20592  ../data/MACCROBAT/19307547.txt  \n21984  ../data/MACCROBAT/28767567.txt  \n22069  ../data/MACCROBAT/19610147.txt  \n22621  ../data/MACCROBAT/26692730.txt  \n22623  ../data/MACCROBAT/26692730.txt  ",
      "text/html": "<div>\n<style scoped>\n    .dataframe tbody tr th:only-of-type {\n        vertical-align: middle;\n    }\n\n    .dataframe tbody tr th {\n        vertical-align: top;\n    }\n\n    .dataframe thead th {\n        text-align: right;\n    }\n</style>\n<table border=\"1\" class=\"dataframe\">\n  <thead>\n    <tr style=\"text-align: right;\">\n      <th></th>\n      <th>id</th>\n      <th>entity_with_range</th>\n      <th>word</th>\n      <th>file_name</th>\n    </tr>\n  </thead>\n  <tbody>\n    <tr>\n      <th>39</th>\n      <td>T40</td>\n      <td>Disease_disorder 701 714;730 735</td>\n      <td>granular cell tumor</td>\n      <td>../data/MACCROBAT/19860925.txt</td>\n    </tr>\n    <tr>\n      <th>1190</th>\n      <td>T31</td>\n      <td>Dosage 4085 4093;4103 4108</td>\n      <td>low dose daily</td>\n      <td>../data/MACCROBAT/20146086.txt</td>\n    </tr>\n    <tr>\n      <th>1272</th>\n      <td>T160</td>\n      <td>Dosage 3117 3124;3135 3141</td>\n      <td>1500 mg weekly</td>\n      <td>../data/MACCROBAT/20146086.txt</td>\n    </tr>\n    <tr>\n      <th>1469</th>\n      <td>T101</td>\n      <td>Detailed_description 2552 2559;2585 2654</td>\n      <td>neither had developed any signs or symptoms su...</td>\n      <td>../data/MACCROBAT/28353558.txt</td>\n    </tr>\n    <tr>\n      <th>2376</th>\n      <td>T42</td>\n      <td>Administration 704 715;721 726</td>\n      <td>intravenous bolus</td>\n      <td>../data/MACCROBAT/23124805.txt</td>\n    </tr>\n    <tr>\n      <th>2380</th>\n      <td>T47</td>\n      <td>Dosage 828 835;861 879</td>\n      <td>5 mg/kg every 4 to 6 weeks</td>\n      <td>../data/MACCROBAT/23124805.txt</td>\n    </tr>\n    <tr>\n      <th>2381</th>\n      <td>T48</td>\n      <td>Dosage 849 857;861 879</td>\n      <td>10 mg/kg every 4 to 6 weeks</td>\n      <td>../data/MACCROBAT/23124805.txt</td>\n    </tr>\n    <tr>\n      <th>2853</th>\n      <td>T18</td>\n      <td>Diagnostic_procedure 341 350;357 358</td>\n      <td>Hepatitis C</td>\n      <td>../data/MACCROBAT/18416479.txt</td>\n    </tr>\n    <tr>\n      <th>3335</th>\n      <td>T16</td>\n      <td>Disease_disorder 315 317;319 330</td>\n      <td>LV dysfunction</td>\n      <td>../data/MACCROBAT/23468586.txt</td>\n    </tr>\n    <tr>\n      <th>3336</th>\n      <td>T15</td>\n      <td>Disease_disorder 297 313;319 330</td>\n      <td>left ventricular dysfunction</td>\n      <td>../data/MACCROBAT/23468586.txt</td>\n    </tr>\n    <tr>\n      <th>3348</th>\n      <td>T28</td>\n      <td>Diagnostic_procedure 606 621;641 647</td>\n      <td>total carnitine levels</td>\n      <td>../data/MACCROBAT/23468586.txt</td>\n    </tr>\n    <tr>\n      <th>3359</th>\n      <td>T39</td>\n      <td>Diagnostic_procedure 1017 1032;1052 1058</td>\n      <td>total carnitine levels</td>\n      <td>../data/MACCROBAT/23468586.txt</td>\n    </tr>\n    <tr>\n      <th>3377</th>\n      <td>T59</td>\n      <td>Diagnostic_procedure 1316 1318;1328 1336</td>\n      <td>LV function</td>\n      <td>../data/MACCROBAT/23468586.txt</td>\n    </tr>\n    <tr>\n      <th>3380</th>\n      <td>T62</td>\n      <td>Biological_structure 1386 1391;1408 1412</td>\n      <td>basal wall</td>\n      <td>../data/MACCROBAT/23468586.txt</td>\n    </tr>\n    <tr>\n      <th>3405</th>\n      <td>T86</td>\n      <td>History 606 621;641 647</td>\n      <td>total carnitine levels</td>\n      <td>../data/MACCROBAT/23468586.txt</td>\n    </tr>\n    <tr>\n      <th>4622</th>\n      <td>T121</td>\n      <td>Biological_structure 2001 2005;2034 2037</td>\n      <td>left arm</td>\n      <td>../data/MACCROBAT/19214295.txt</td>\n    </tr>\n    <tr>\n      <th>4625</th>\n      <td>T124</td>\n      <td>Diagnostic_procedure 2114 2133;2139 2143</td>\n      <td>computed tomography scan</td>\n      <td>../data/MACCROBAT/19214295.txt</td>\n    </tr>\n    <tr>\n      <th>4654</th>\n      <td>T154</td>\n      <td>Biological_structure 2428 2438;2444 2463</td>\n      <td>origins of subclavian arteries</td>\n      <td>../data/MACCROBAT/19214295.txt</td>\n    </tr>\n    <tr>\n      <th>4655</th>\n      <td>T155</td>\n      <td>Biological_structure 2428 2438;2472 2499</td>\n      <td>origins of right common carotid artery</td>\n      <td>../data/MACCROBAT/19214295.txt</td>\n    </tr>\n    <tr>\n      <th>5443</th>\n      <td>T28</td>\n      <td>Lab_value 535 538;546 550</td>\n      <td>386  U/L</td>\n      <td>../data/MACCROBAT/28353561.txt</td>\n    </tr>\n    <tr>\n      <th>5623</th>\n      <td>T110</td>\n      <td>Lab_value 2015 2024;2052 2061</td>\n      <td>Frequency decreased</td>\n      <td>../data/MACCROBAT/22791498.txt</td>\n    </tr>\n    <tr>\n      <th>9738</th>\n      <td>T59</td>\n      <td>Biological_structure 1644 1653;1673 1684</td>\n      <td>pericolic lymph nodes</td>\n      <td>../data/MACCROBAT/19816630.txt</td>\n    </tr>\n    <tr>\n      <th>11557</th>\n      <td>T15</td>\n      <td>Disease_disorder 474 481;490 503</td>\n      <td>cardiac malformations</td>\n      <td>../data/MACCROBAT/21308977.txt</td>\n    </tr>\n    <tr>\n      <th>11561</th>\n      <td>T19</td>\n      <td>Diagnostic_procedure 2831 2851;2858 2859</td>\n      <td>DNA Polymerase Gamma 2</td>\n      <td>../data/MACCROBAT/21308977.txt</td>\n    </tr>\n    <tr>\n      <th>11576</th>\n      <td>T34</td>\n      <td>Diagnostic_procedure 2637 2653;2667 2674</td>\n      <td>Citrate synthase content</td>\n      <td>../data/MACCROBAT/21308977.txt</td>\n    </tr>\n    <tr>\n      <th>11584</th>\n      <td>T42</td>\n      <td>Diagnostic_procedure 2296 2320;2327 2335</td>\n      <td>electron transport chain activity</td>\n      <td>../data/MACCROBAT/21308977.txt</td>\n    </tr>\n    <tr>\n      <th>11588</th>\n      <td>T46</td>\n      <td>Diagnostic_procedure 2362 2371;2375 2377</td>\n      <td>complexes II</td>\n      <td>../data/MACCROBAT/21308977.txt</td>\n    </tr>\n    <tr>\n      <th>11589</th>\n      <td>T47</td>\n      <td>Diagnostic_procedure 2362 2371;2383 2386</td>\n      <td>complexes III</td>\n      <td>../data/MACCROBAT/21308977.txt</td>\n    </tr>\n    <tr>\n      <th>13564</th>\n      <td>T79</td>\n      <td>Detailed_description 1366 1373;1386 1404</td>\n      <td>without rebound tenderness</td>\n      <td>../data/MACCROBAT/17803823.txt</td>\n    </tr>\n    <tr>\n      <th>13826</th>\n      <td>T89</td>\n      <td>Lab_value 1596 1600;1628 1631</td>\n      <td>6/24 N36</td>\n      <td>../data/MACCROBAT/25661749.txt</td>\n    </tr>\n    <tr>\n      <th>13830</th>\n      <td>T93</td>\n      <td>Lab_value 1657 1661;1690 1693</td>\n      <td>6/18 N36</td>\n      <td>../data/MACCROBAT/25661749.txt</td>\n    </tr>\n    <tr>\n      <th>13860</th>\n      <td>T123</td>\n      <td>Diagnostic_procedure 2306 2308;2316 2323</td>\n      <td>T1 signals</td>\n      <td>../data/MACCROBAT/25661749.txt</td>\n    </tr>\n    <tr>\n      <th>16564</th>\n      <td>T66</td>\n      <td>Sign_symptom 1557 1559;1560 1567</td>\n      <td>H. cinaedi</td>\n      <td>../data/MACCROBAT/28173879.txt</td>\n    </tr>\n    <tr>\n      <th>16578</th>\n      <td>T80</td>\n      <td>Detailed_description 2186 2188;2189 2196</td>\n      <td>H. cinaedi</td>\n      <td>../data/MACCROBAT/28173879.txt</td>\n    </tr>\n    <tr>\n      <th>16585</th>\n      <td>T87</td>\n      <td>Diagnostic_procedure 2427 2429;2430 2437</td>\n      <td>H. cinaedi</td>\n      <td>../data/MACCROBAT/28173879.txt</td>\n    </tr>\n    <tr>\n      <th>17000</th>\n      <td>T87</td>\n      <td>Other_event 1746 1813;1814 1845;1846 1878;1879...</td>\n      <td>Atrial septal defect ostium secundum type with...</td>\n      <td>../data/MACCROBAT/21505579.txt</td>\n    </tr>\n    <tr>\n      <th>17808</th>\n      <td>T163</td>\n      <td>Other_entity 4047 4155;4156 4238</td>\n      <td>and we recommended no further exposure to lead...</td>\n      <td>../data/MACCROBAT/27661040.txt</td>\n    </tr>\n    <tr>\n      <th>17849</th>\n      <td>T39</td>\n      <td>Biological_structure 1101 1111;1121 1126</td>\n      <td>mandibular ramus</td>\n      <td>../data/MACCROBAT/25210224.txt</td>\n    </tr>\n    <tr>\n      <th>17850</th>\n      <td>T40</td>\n      <td>Biological_structure 1101 1111;1131 1137</td>\n      <td>mandibular corpus</td>\n      <td>../data/MACCROBAT/25210224.txt</td>\n    </tr>\n    <tr>\n      <th>17856</th>\n      <td>T46</td>\n      <td>Lab_value 1439 1446;1457 1476</td>\n      <td>shorter than the other side</td>\n      <td>../data/MACCROBAT/25210224.txt</td>\n    </tr>\n    <tr>\n      <th>17879</th>\n      <td>T69</td>\n      <td>Biological_structure 2352 2357;2367 2371</td>\n      <td>right ears</td>\n      <td>../data/MACCROBAT/25210224.txt</td>\n    </tr>\n    <tr>\n      <th>17895</th>\n      <td>T85</td>\n      <td>Biological_structure 2873 2880;2902 2912</td>\n      <td>cochlea vestibulum</td>\n      <td>../data/MACCROBAT/25210224.txt</td>\n    </tr>\n    <tr>\n      <th>17896</th>\n      <td>T86</td>\n      <td>Biological_structure 2873 2880;2917 2926</td>\n      <td>cochlea utriculum</td>\n      <td>../data/MACCROBAT/25210224.txt</td>\n    </tr>\n    <tr>\n      <th>17943</th>\n      <td>T133</td>\n      <td>Biological_structure 1645 1650;1660 1673</td>\n      <td>right hemimandibula</td>\n      <td>../data/MACCROBAT/25210224.txt</td>\n    </tr>\n    <tr>\n      <th>17948</th>\n      <td>T138</td>\n      <td>Disease_disorder 1246 1252;1261 1274</td>\n      <td>Number abnormalities</td>\n      <td>../data/MACCROBAT/25210224.txt</td>\n    </tr>\n    <tr>\n      <th>18823</th>\n      <td>T51</td>\n      <td>Date 1251 1257;1274 1276</td>\n      <td>age of 44</td>\n      <td>../data/MACCROBAT/28595573.txt</td>\n    </tr>\n    <tr>\n      <th>20497</th>\n      <td>T26</td>\n      <td>Time 464 465;477 484</td>\n      <td>1 minutes</td>\n      <td>../data/MACCROBAT/19307547.txt</td>\n    </tr>\n    <tr>\n      <th>20499</th>\n      <td>T28</td>\n      <td>Time 467 468;477 484</td>\n      <td>5 minutes</td>\n      <td>../data/MACCROBAT/19307547.txt</td>\n    </tr>\n    <tr>\n      <th>20555</th>\n      <td>T84</td>\n      <td>Biological_structure 1610 1633;1652 1658</td>\n      <td>individual COX-positive fibers</td>\n      <td>../data/MACCROBAT/19307547.txt</td>\n    </tr>\n    <tr>\n      <th>20591</th>\n      <td>T120</td>\n      <td>Biological_structure 2533 2540;2559 2570</td>\n      <td>stomach homogenates</td>\n      <td>../data/MACCROBAT/19307547.txt</td>\n    </tr>\n    <tr>\n      <th>20592</th>\n      <td>T121</td>\n      <td>Biological_structure 2542 2547;2559 2570</td>\n      <td>ileum homogenates</td>\n      <td>../data/MACCROBAT/19307547.txt</td>\n    </tr>\n    <tr>\n      <th>21984</th>\n      <td>T98</td>\n      <td>Shape 1739 1743;1761 1766</td>\n      <td>edge clear</td>\n      <td>../data/MACCROBAT/28767567.txt</td>\n    </tr>\n    <tr>\n      <th>22069</th>\n      <td>T75</td>\n      <td>Sign_symptom 1994 2004;2021 2029</td>\n      <td>perineural invasion</td>\n      <td>../data/MACCROBAT/19610147.txt</td>\n    </tr>\n    <tr>\n      <th>22621</th>\n      <td>T35</td>\n      <td>Biological_structure 900 905;915 918</td>\n      <td>right eye</td>\n      <td>../data/MACCROBAT/26692730.txt</td>\n    </tr>\n    <tr>\n      <th>22623</th>\n      <td>T37</td>\n      <td>Lab_value 926 929;938 939</td>\n      <td>561 μ</td>\n      <td>../data/MACCROBAT/26692730.txt</td>\n    </tr>\n  </tbody>\n</table>\n</div>"
     },
     "execution_count": 26,
     "metadata": {},
     "output_type": "execute_result"
    }
   ],
   "source": [
    "ann_df[ann_df['entity_with_range'].str.split().str.len() > 3]"
   ],
   "metadata": {
    "collapsed": false
   }
  },
  {
   "cell_type": "markdown",
   "source": [
    "Note that the \"B\" prefix is used to indicate the beginning of an entity, while the \"I\" prefix is used to indicate an intermediate token within an entity. When there are disjoint ranges for an entity, we can start a new entity with a \"B\" prefix for each range.\n",
    "\n",
    "Including the full text that spans disjoint ranges in the BIO format will help the model learn to recognize the entire entity, even if it is fragmented across multiple parts of the text."
   ],
   "metadata": {
    "collapsed": false
   }
  },
  {
   "cell_type": "markdown",
   "source": [
    "### Splitting entity_with_ranges column"
   ],
   "metadata": {
    "collapsed": false
   }
  },
  {
   "cell_type": "code",
   "execution_count": 27,
   "outputs": [
    {
     "data": {
      "text/plain": "   id          entity    ranges         word                       file_name\n0  T1             Age   [4, 15]  24-year-old  ../data/MACCROBAT/19860925.txt\n1  T2             Sex  [28, 32]         male  ../data/MACCROBAT/19860925.txt\n2  T3         History  [16, 27]  non-smoking  ../data/MACCROBAT/19860925.txt\n3  T4  Clinical_event  [41, 50]    presented  ../data/MACCROBAT/19860925.txt\n4  T5    Sign_symptom  [65, 75]   hemoptysis  ../data/MACCROBAT/19860925.txt",
      "text/html": "<div>\n<style scoped>\n    .dataframe tbody tr th:only-of-type {\n        vertical-align: middle;\n    }\n\n    .dataframe tbody tr th {\n        vertical-align: top;\n    }\n\n    .dataframe thead th {\n        text-align: right;\n    }\n</style>\n<table border=\"1\" class=\"dataframe\">\n  <thead>\n    <tr style=\"text-align: right;\">\n      <th></th>\n      <th>id</th>\n      <th>entity</th>\n      <th>ranges</th>\n      <th>word</th>\n      <th>file_name</th>\n    </tr>\n  </thead>\n  <tbody>\n    <tr>\n      <th>0</th>\n      <td>T1</td>\n      <td>Age</td>\n      <td>[4, 15]</td>\n      <td>24-year-old</td>\n      <td>../data/MACCROBAT/19860925.txt</td>\n    </tr>\n    <tr>\n      <th>1</th>\n      <td>T2</td>\n      <td>Sex</td>\n      <td>[28, 32]</td>\n      <td>male</td>\n      <td>../data/MACCROBAT/19860925.txt</td>\n    </tr>\n    <tr>\n      <th>2</th>\n      <td>T3</td>\n      <td>History</td>\n      <td>[16, 27]</td>\n      <td>non-smoking</td>\n      <td>../data/MACCROBAT/19860925.txt</td>\n    </tr>\n    <tr>\n      <th>3</th>\n      <td>T4</td>\n      <td>Clinical_event</td>\n      <td>[41, 50]</td>\n      <td>presented</td>\n      <td>../data/MACCROBAT/19860925.txt</td>\n    </tr>\n    <tr>\n      <th>4</th>\n      <td>T5</td>\n      <td>Sign_symptom</td>\n      <td>[65, 75]</td>\n      <td>hemoptysis</td>\n      <td>../data/MACCROBAT/19860925.txt</td>\n    </tr>\n  </tbody>\n</table>\n</div>"
     },
     "execution_count": 27,
     "metadata": {},
     "output_type": "execute_result"
    }
   ],
   "source": [
    "ann_df['entity'] = ann_df['entity_with_range'].str.split().str[0]\n",
    "ann_df['ranges'] = ann_df['entity_with_range'].str.split().str[1:]\n",
    "ann_df = ann_df[['id', 'entity', 'ranges', 'word', 'file_name']]\n",
    "ann_df.head()"
   ],
   "metadata": {
    "collapsed": false
   }
  },
  {
   "cell_type": "markdown",
   "source": [
    "### All the entities in the dataset"
   ],
   "metadata": {
    "collapsed": false
   }
  },
  {
   "cell_type": "code",
   "execution_count": 28,
   "outputs": [
    {
     "name": "stdout",
     "output_type": "stream",
     "text": [
      "The set of entities available in the dataset is as follows: \n"
     ]
    },
    {
     "data": {
      "text/plain": "{'Activity',\n 'Administration',\n 'Age',\n 'Area',\n 'Biological_attribute',\n 'Biological_structure',\n 'Clinical_event',\n 'Color',\n 'Coreference',\n 'Date',\n 'Detailed_description',\n 'Diagnostic_procedure',\n 'Disease_disorder',\n 'Distance',\n 'Dosage',\n 'Duration',\n 'Family_history',\n 'Frequency',\n 'Height',\n 'History',\n 'Lab_value',\n 'Mass',\n 'Medication',\n 'Nonbiological_location',\n 'Occupation',\n 'Other_entity',\n 'Other_event',\n 'Outcome',\n 'Personal_background',\n 'Qualitative_concept',\n 'Quantitative_concept',\n 'Severity',\n 'Sex',\n 'Shape',\n 'Sign_symptom',\n 'Subject',\n 'Texture',\n 'Therapeutic_procedure',\n 'Time',\n 'Volume',\n 'Weight'}"
     },
     "execution_count": 28,
     "metadata": {},
     "output_type": "execute_result"
    }
   ],
   "source": [
    "print(\"The set of entities available in the dataset is as follows: \")\n",
    "set(ann_df['entity'])"
   ],
   "metadata": {
    "collapsed": false
   }
  },
  {
   "cell_type": "markdown",
   "source": [
    "### Seeing sample words in each entities"
   ],
   "metadata": {
    "collapsed": false
   }
  },
  {
   "cell_type": "code",
   "execution_count": 55,
   "outputs": [
    {
     "name": "stdout",
     "output_type": "stream",
     "text": [
      "Entity:             Activity \n",
      " word:                 walk\n",
      "Entity:       Administration \n",
      " word:          intravenous\n",
      "Entity:                  Age \n",
      " word:          20-year-old\n",
      "Entity:                 Area \n",
      " word: 9 cm × 6 cm in diameter\n",
      "Entity: Biological_attribute \n",
      " word:           eczematous\n",
      "Entity: Biological_structure \n",
      " word:     descending colon\n",
      "Entity:       Clinical_event \n",
      " word:              visited\n",
      "Entity:                Color \n",
      " word:            yellowish\n",
      "Entity:          Coreference \n",
      " word:     heavy chain gene\n",
      "Entity:                 Date \n",
      " word:                 2012\n",
      "Entity: Detailed_description \n",
      " word: plate calcifications\n",
      "Entity: Diagnostic_procedure \n",
      " word: T2-weighted sequence\n",
      "Entity:     Disease_disorder \n",
      " word:  sebaceous carcinoma\n",
      "Entity:             Distance \n",
      " word:                 2-cm\n",
      "Entity:               Dosage \n",
      " word:     high-dose weekly\n",
      "Entity:             Duration \n",
      " word:         three months\n",
      "Entity:       Family_history \n",
      " word:    family of potters\n",
      "Entity:            Frequency \n",
      " word:  every 4 to 6 months\n",
      "Entity:               Height \n",
      " word:               165 cm\n",
      "Entity:              History \n",
      " word: free carnitine level\n",
      "Entity:            Lab_value \n",
      " word:  gradually worsening\n",
      "Entity:                 Mass \n",
      " word:               6.5 kg\n",
      "Entity:           Medication \n",
      " word:       growth hormone\n",
      "Entity: Nonbiological_location \n",
      " word:                   ED\n",
      "Entity:           Occupation \n",
      " word:              student\n",
      "Entity:         Other_entity \n",
      " word:   aortic cross-clamp\n",
      "Entity:          Other_event \n",
      " word: development of regular menstruation\n",
      "Entity:              Outcome \n",
      " word:         asymptomatic\n",
      "Entity:  Personal_background \n",
      " word:            Caucasian\n",
      "Entity:  Qualitative_concept \n",
      " word:                 slow\n",
      "Entity: Quantitative_concept \n",
      " word:                twice\n",
      "Entity:             Severity \n",
      " word:               severe\n",
      "Entity:                  Sex \n",
      " word:                  boy\n",
      "Entity:                Shape \n",
      " word:                plump\n",
      "Entity:         Sign_symptom \n",
      " word:             vomiting\n",
      "Entity:              Subject \n",
      " word:                donor\n",
      "Entity:              Texture \n",
      " word:                 soft\n",
      "Entity: Therapeutic_procedure \n",
      " word:          ventilation\n",
      "Entity:                 Time \n",
      " word: prior to the onset of lesions\n",
      "Entity:               Volume \n",
      " word:    5.3 × 2.2-cm-wide\n",
      "Entity:               Weight \n",
      " word:               3132 g\n"
     ]
    }
   ],
   "source": [
    "# Define a function to select random rows from each group\n",
    "def select_random_rows(group):\n",
    "    return group.sample(n=min(1, len(group)), replace=False)\n",
    "\n",
    "# Apply the function to the DataFrame grouped by 'group'\n",
    "random_rows = ann_df.groupby('entity').apply(select_random_rows)\n",
    "\n",
    "# Print the selected random rows\n",
    "for index, row in random_rows.iterrows():\n",
    "    print(f\"Entity: {row['entity']:>20} \\n word: {row['word']:>20}\")\n"
   ],
   "metadata": {
    "collapsed": false
   }
  },
  {
   "cell_type": "code",
   "execution_count": 58,
   "outputs": [
    {
     "data": {
      "text/plain": "entity\nDiagnostic_procedure      4567\nSign_symptom              3359\nBiological_structure      2931\nDetailed_description      2901\nLab_value                 2858\nDisease_disorder          1362\nMedication                1076\nTherapeutic_procedure     1005\nDate                       731\nClinical_event             626\nHistory                    392\nSeverity                   369\nDosage                     362\nNonbiological_location     354\nCoreference                313\nDuration                   280\nAge                        206\nSex                        191\nAdministration             175\nDistance                   122\nActivity                   108\nFamily_history              81\nFrequency                   76\nShape                       65\nTime                        57\nPersonal_background         57\nSubject                     54\nColor                       52\nTexture                     46\nArea                        43\nOutcome                     42\nQualitative_concept         41\nVolume                      33\nQuantitative_concept        31\nOther_event                 22\nOther_entity                20\nOccupation                  13\nBiological_attribute        10\nWeight                       4\nHeight                       4\nMass                         2\ndtype: int64"
     },
     "execution_count": 58,
     "metadata": {},
     "output_type": "execute_result"
    }
   ],
   "source": [
    "ann_df.groupby(['entity']).size().sort_values(ascending=False)"
   ],
   "metadata": {
    "collapsed": false
   }
  },
  {
   "cell_type": "code",
   "execution_count": 59,
   "outputs": [],
   "source": [
    "# Define the selected entities\n",
    "selected_entities = [\n",
    "    'Age', 'Biological_attribute', 'Biological_structure', 'Clinical_event', 'Diagnostic_procedure',\n",
    "    'Disease_disorder', 'Dosage', 'Family_history', 'Height', 'History', 'Lab_value', 'Mass',\n",
    "    'Medication', 'Sex', 'Sign_symptom', 'Therapeutic_procedure', 'Weight'\n",
    "]"
   ],
   "metadata": {
    "collapsed": false
   }
  },
  {
   "cell_type": "code",
   "execution_count": 60,
   "outputs": [
    {
     "data": {
      "text/plain": "   id          entity    ranges         word                       file_name\n0  T1             Age   [4, 15]  24-year-old  ../data/MACCROBAT/19860925.txt\n1  T2             Sex  [28, 32]         male  ../data/MACCROBAT/19860925.txt\n2  T3         History  [16, 27]  non-smoking  ../data/MACCROBAT/19860925.txt\n3  T4  Clinical_event  [41, 50]    presented  ../data/MACCROBAT/19860925.txt\n4  T5    Sign_symptom  [65, 75]   hemoptysis  ../data/MACCROBAT/19860925.txt",
      "text/html": "<div>\n<style scoped>\n    .dataframe tbody tr th:only-of-type {\n        vertical-align: middle;\n    }\n\n    .dataframe tbody tr th {\n        vertical-align: top;\n    }\n\n    .dataframe thead th {\n        text-align: right;\n    }\n</style>\n<table border=\"1\" class=\"dataframe\">\n  <thead>\n    <tr style=\"text-align: right;\">\n      <th></th>\n      <th>id</th>\n      <th>entity</th>\n      <th>ranges</th>\n      <th>word</th>\n      <th>file_name</th>\n    </tr>\n  </thead>\n  <tbody>\n    <tr>\n      <th>0</th>\n      <td>T1</td>\n      <td>Age</td>\n      <td>[4, 15]</td>\n      <td>24-year-old</td>\n      <td>../data/MACCROBAT/19860925.txt</td>\n    </tr>\n    <tr>\n      <th>1</th>\n      <td>T2</td>\n      <td>Sex</td>\n      <td>[28, 32]</td>\n      <td>male</td>\n      <td>../data/MACCROBAT/19860925.txt</td>\n    </tr>\n    <tr>\n      <th>2</th>\n      <td>T3</td>\n      <td>History</td>\n      <td>[16, 27]</td>\n      <td>non-smoking</td>\n      <td>../data/MACCROBAT/19860925.txt</td>\n    </tr>\n    <tr>\n      <th>3</th>\n      <td>T4</td>\n      <td>Clinical_event</td>\n      <td>[41, 50]</td>\n      <td>presented</td>\n      <td>../data/MACCROBAT/19860925.txt</td>\n    </tr>\n    <tr>\n      <th>4</th>\n      <td>T5</td>\n      <td>Sign_symptom</td>\n      <td>[65, 75]</td>\n      <td>hemoptysis</td>\n      <td>../data/MACCROBAT/19860925.txt</td>\n    </tr>\n  </tbody>\n</table>\n</div>"
     },
     "execution_count": 60,
     "metadata": {},
     "output_type": "execute_result"
    }
   ],
   "source": [
    "filtered_ann_df = ann_df[ann_df['entity'].isin(selected_entities)]\n",
    "filtered_ann_df = filtered_ann_df.reset_index(drop=True)\n",
    "filtered_ann_df.head()"
   ],
   "metadata": {
    "collapsed": false
   }
  },
  {
   "cell_type": "code",
   "execution_count": 61,
   "outputs": [
    {
     "data": {
      "text/plain": "(19036, 5)"
     },
     "execution_count": 61,
     "metadata": {},
     "output_type": "execute_result"
    }
   ],
   "source": [
    "filtered_ann_df.shape"
   ],
   "metadata": {
    "collapsed": false
   }
  },
  {
   "cell_type": "markdown",
   "source": [
    "### Checking if there are overlapping annotation ranges in each file"
   ],
   "metadata": {
    "collapsed": false
   }
  },
  {
   "cell_type": "code",
   "execution_count": 156,
   "outputs": [
    {
     "data": {
      "text/plain": "   id          entity    ranges         word                       file_name\n0  T1             Age   [4, 15]  24-year-old  ../data/MACCROBAT/19860925.txt\n1  T2             Sex  [28, 32]         male  ../data/MACCROBAT/19860925.txt\n2  T3         History  [16, 27]  non-smoking  ../data/MACCROBAT/19860925.txt\n3  T4  Clinical_event  [41, 50]    presented  ../data/MACCROBAT/19860925.txt\n4  T5    Sign_symptom  [65, 75]   hemoptysis  ../data/MACCROBAT/19860925.txt",
      "text/html": "<div>\n<style scoped>\n    .dataframe tbody tr th:only-of-type {\n        vertical-align: middle;\n    }\n\n    .dataframe tbody tr th {\n        vertical-align: top;\n    }\n\n    .dataframe thead th {\n        text-align: right;\n    }\n</style>\n<table border=\"1\" class=\"dataframe\">\n  <thead>\n    <tr style=\"text-align: right;\">\n      <th></th>\n      <th>id</th>\n      <th>entity</th>\n      <th>ranges</th>\n      <th>word</th>\n      <th>file_name</th>\n    </tr>\n  </thead>\n  <tbody>\n    <tr>\n      <th>0</th>\n      <td>T1</td>\n      <td>Age</td>\n      <td>[4, 15]</td>\n      <td>24-year-old</td>\n      <td>../data/MACCROBAT/19860925.txt</td>\n    </tr>\n    <tr>\n      <th>1</th>\n      <td>T2</td>\n      <td>Sex</td>\n      <td>[28, 32]</td>\n      <td>male</td>\n      <td>../data/MACCROBAT/19860925.txt</td>\n    </tr>\n    <tr>\n      <th>2</th>\n      <td>T3</td>\n      <td>History</td>\n      <td>[16, 27]</td>\n      <td>non-smoking</td>\n      <td>../data/MACCROBAT/19860925.txt</td>\n    </tr>\n    <tr>\n      <th>3</th>\n      <td>T4</td>\n      <td>Clinical_event</td>\n      <td>[41, 50]</td>\n      <td>presented</td>\n      <td>../data/MACCROBAT/19860925.txt</td>\n    </tr>\n    <tr>\n      <th>4</th>\n      <td>T5</td>\n      <td>Sign_symptom</td>\n      <td>[65, 75]</td>\n      <td>hemoptysis</td>\n      <td>../data/MACCROBAT/19860925.txt</td>\n    </tr>\n  </tbody>\n</table>\n</div>"
     },
     "execution_count": 156,
     "metadata": {},
     "output_type": "execute_result"
    }
   ],
   "source": [
    "test_df = filtered_ann_df[filtered_ann_df['file_name'] == '../data/MACCROBAT/19860925.txt']\n",
    "test_df.head()"
   ],
   "metadata": {
    "collapsed": false
   }
  },
  {
   "cell_type": "code",
   "execution_count": 157,
   "outputs": [
    {
     "name": "stderr",
     "output_type": "stream",
     "text": [
      "/var/folders/1k/l9m7dlqd1knbl3m543_55s4h0000gn/T/ipykernel_14572/1865425512.py:15: SettingWithCopyWarning: \n",
      "A value is trying to be set on a copy of a slice from a DataFrame.\n",
      "Try using .loc[row_indexer,col_indexer] = value instead\n",
      "\n",
      "See the caveats in the documentation: https://pandas.pydata.org/pandas-docs/stable/user_guide/indexing.html#returning-a-view-versus-a-copy\n",
      "  test_df.loc[:, 'ranges'] = test_df['ranges'].apply(lambda range_list: test_fun(range_list))\n"
     ]
    }
   ],
   "source": [
    "\n",
    "\n",
    "test_df.loc[:, 'ranges'] = test_df['ranges'].apply(lambda range_list: test_fun(range_list))"
   ],
   "metadata": {
    "collapsed": false
   }
  },
  {
   "cell_type": "code",
   "execution_count": 207,
   "outputs": [
    {
     "data": {
      "text/plain": "array(['../data/MACCROBAT/19860925.txt', '../data/MACCROBAT/19860925.txt',\n       '../data/MACCROBAT/19860925.txt', ...,\n       '../data/MACCROBAT/26714786.txt', '../data/MACCROBAT/26714786.txt',\n       '../data/MACCROBAT/26714786.txt'], dtype=object)"
     },
     "execution_count": 207,
     "metadata": {},
     "output_type": "execute_result"
    }
   ],
   "source": [
    "ann_df.file_name.values"
   ],
   "metadata": {
    "collapsed": false
   }
  },
  {
   "cell_type": "code",
   "execution_count": 246,
   "outputs": [],
   "source": [
    "def test_fun(x):\n",
    "    if len(x) > 2:\n",
    "        new_x = []\n",
    "        start = x[0]\n",
    "        for num in x[1:]:\n",
    "            end = num.split(';')[0]\n",
    "            new_x.append([start, end])\n",
    "            if len(num.split(';')) > 1:\n",
    "                start = num.split(';')[1]\n",
    "        return new_x\n",
    "    else:\n",
    "        return [x]\n",
    "\n",
    "overlapping_entities = {}\n",
    "for file_name in filtered_ann_df.file_name.values:\n",
    "    test_df = filtered_ann_df[filtered_ann_df['file_name'] == file_name]\n",
    "\n",
    "    range_to_label = {}\n",
    "\n",
    "    for index, row in test_df.iterrows():\n",
    "        for start, end in test_fun(row['ranges']):\n",
    "            range_to_label[(int(start), int(end))] = row['entity']\n",
    "        # if isinstance(row['ranges'][0], list):\n",
    "        #     for start, end in row['ranges']:\n",
    "        #         range_to_label[(int(start), int(end))] = row['entity']\n",
    "        # else:\n",
    "        #     start = int(row['ranges'][0])\n",
    "        #     end = int(row['ranges'][1])\n",
    "        #     range_to_label[(start, end)] = row['entity']\n",
    "\n",
    "\n",
    "    prev_start = -1\n",
    "    prev_end = -1\n",
    "    for start, end in dict(sorted(range_to_label.items(), key=lambda x: x[0][0])).keys():\n",
    "        if start <= prev_end:\n",
    "            if range_to_label[(prev_start, prev_end)] != range_to_label[(start, end)]:\n",
    "\n",
    "                if range_to_label[(prev_start, prev_end)] > range_to_label[(start, end)]:\n",
    "                    entity_1 = range_to_label[(prev_start, prev_end)]\n",
    "                    entity_1_len = prev_end - prev_start\n",
    "                    entity_2 =  range_to_label[(start, end)]\n",
    "                    entity_2_len = end - start\n",
    "                else:\n",
    "                    entity_1 =  range_to_label[(start, end)]\n",
    "                    entity_1_len = end - start\n",
    "                    entity_2 = range_to_label[(prev_start, prev_end)]\n",
    "                    entity_2_len = prev_end - prev_start\n",
    "\n",
    "                if (entity_1, entity_2) not in overlapping_entities:\n",
    "                    overlapping_entities[(entity_1, entity_2)] = [0, 0, 0]\n",
    "                overlapping_entities[(entity_1, entity_2)][0] += 1\n",
    "                if entity_1_len > entity_2_len:\n",
    "                    overlapping_entities[(entity_1, entity_2)][1] += 1\n",
    "                elif entity_1_len < entity_2_len:\n",
    "                    overlapping_entities[(entity_1, entity_2)][2] += 1\n",
    "\n",
    "        prev_start = start\n",
    "        prev_end = end"
   ],
   "metadata": {
    "collapsed": false
   }
  },
  {
   "cell_type": "code",
   "execution_count": 247,
   "outputs": [
    {
     "name": "stdout",
     "output_type": "stream",
     "text": [
      "Found overlapping entities and displaying overlapping entities in the format\n",
      "(entity1, entity2): [number of overlapping occurences, number of occurences when entity 1 entirely covers entity 2, number of occurences when entity 2 entirely covers entity 1\n"
     ]
    },
    {
     "data": {
      "text/plain": "{('History', 'Biological_structure'): [2028, 2028, 0],\n ('History', 'Disease_disorder'): [3026, 3026, 0],\n ('Lab_value', 'Diagnostic_procedure'): [240, 137, 103],\n ('Sign_symptom', 'History'): [1904, 0, 1904],\n ('Sign_symptom', 'Family_history'): [201, 0, 201],\n ('Medication', 'History'): [726, 0, 726],\n ('History', 'Diagnostic_procedure'): [304, 304, 0],\n ('Lab_value', 'Family_history'): [180, 0, 180],\n ('Family_history', 'Diagnostic_procedure'): [180, 180, 0],\n ('Sign_symptom', 'Biological_structure'): [417, 417, 0],\n ('Lab_value', 'History'): [899, 0, 899],\n ('History', 'Clinical_event'): [255, 255, 0],\n ('Therapeutic_procedure', 'History'): [1305, 0, 1305],\n ('Disease_disorder', 'Diagnostic_procedure'): [133, 0, 133],\n ('Sign_symptom', 'Disease_disorder'): [260, 132, 128],\n ('Family_history', 'Disease_disorder'): [270, 270, 0]}"
     },
     "execution_count": 247,
     "metadata": {},
     "output_type": "execute_result"
    }
   ],
   "source": [
    "print(\"Found overlapping entities and displaying overlapping entities in the format\")\n",
    "print(\"(entity1, entity2): [number of overlapping occurences, number of occurences when entity 1 entirely covers entity 2, number of occurences when entity 2 entirely covers entity 1\")\n",
    "overlapping_entities"
   ],
   "metadata": {
    "collapsed": false
   }
  },
  {
   "cell_type": "code",
   "execution_count": 235,
   "outputs": [
    {
     "data": {
      "text/plain": "{'Biological_structure',\n 'Clinical_event',\n 'Diagnostic_procedure',\n 'Disease_disorder',\n 'Family_history',\n 'History',\n 'Lab_value',\n 'Medication',\n 'Sign_symptom',\n 'Therapeutic_procedure'}"
     },
     "execution_count": 235,
     "metadata": {},
     "output_type": "execute_result"
    }
   ],
   "source": [
    "overlapping_entity_list = []\n",
    "for e1, e2 in list(overlapping_entities.keys()):\n",
    "    overlapping_entity_list.extend([e1, e2])\n",
    "set(overlapping_entity_list)"
   ],
   "metadata": {
    "collapsed": false
   }
  },
  {
   "cell_type": "code",
   "execution_count": 225,
   "outputs": [
    {
     "name": "stdout",
     "output_type": "stream",
     "text": [
      "                 Age: 206\n",
      "Biological_attribute: 10\n",
      "Biological_structure: 2931\n",
      "      Clinical_event: 626\n",
      "Diagnostic_procedure: 4567\n",
      "    Disease_disorder: 1362\n",
      "              Dosage: 362\n",
      "      Family_history: 81\n",
      "              Height: 4\n",
      "             History: 392\n",
      "           Lab_value: 2858\n",
      "                Mass: 2\n",
      "          Medication: 1076\n",
      "                 Sex: 191\n",
      "        Sign_symptom: 3359\n",
      "Therapeutic_procedure: 1005\n",
      "              Weight: 4\n"
     ]
    }
   ],
   "source": [
    "for entity in selected_entities:\n",
    "    print(f\"{entity:>20}: {filtered_ann_df[filtered_ann_df['entity']==entity].shape[0]}\")"
   ],
   "metadata": {
    "collapsed": false
   }
  },
  {
   "cell_type": "code",
   "execution_count": null,
   "outputs": [],
   "source": [
    "# Define the selected entities\n",
    "# change if necessary\n",
    "selected_entities = [\n",
    "    'Age', 'Biological_attribute', 'Biological_structure', 'Clinical_event', 'Diagnostic_procedure',\n",
    "    'Disease_disorder', 'Dosage', 'Family_history', 'Height', 'History', 'Lab_value', 'Mass',\n",
    "    'Medication', 'Sex', 'Sign_symptom', 'Therapeutic_procedure', 'Weight'\n",
    "]"
   ],
   "metadata": {
    "collapsed": false
   }
  },
  {
   "cell_type": "code",
   "execution_count": 306,
   "outputs": [],
   "source": [
    "def iterate_ranges(x):\n",
    "    if len(x) > 2:\n",
    "        new_x = []\n",
    "        start = x[0]\n",
    "        for num in x[1:]:\n",
    "            end = num.split(';')[0]\n",
    "            new_x.append([start, end])\n",
    "            if len(num.split(';')) > 1:\n",
    "                start = num.split(';')[1]\n",
    "        return new_x\n",
    "    else:\n",
    "        return [x]\n",
    "\n",
    "overlapping_entities = {}\n",
    "overall_range_to_label = {}\n",
    "for file_name in filtered_ann_df.file_name.values:\n",
    "    test_df = filtered_ann_df[filtered_ann_df['file_name'] == file_name]\n",
    "\n",
    "    range_to_label = {}\n",
    "    for index, row in test_df.iterrows():\n",
    "        for start, end in iterate_ranges(row['ranges']):\n",
    "            range_to_label[(int(start), int(end))] = row['entity']\n",
    "            overall_range_to_label[(file_name, int(start), int(end))] = row['entity']\n",
    "\n",
    "    prev_start = -1\n",
    "    prev_end = -1\n",
    "    for start, end in dict(sorted(range_to_label.items(), key=lambda x: x[0][0])).keys():\n",
    "\n",
    "        if start <= prev_end:\n",
    "            if overall_range_to_label[(file_name, prev_start, prev_end)] != overall_range_to_label[(file_name, start, end)]:\n",
    "                entity_1 = overall_range_to_label[(file_name, prev_start, prev_end)]\n",
    "                entity_1_len = prev_end - prev_start\n",
    "                entity_2 =  overall_range_to_label[(file_name, start, end)]\n",
    "                entity_2_len = end - start\n",
    "\n",
    "                if prev_end - prev_start > end - start:\n",
    "                    del overall_range_to_label[(file_name, start, end)]\n",
    "                    continue\n",
    "\n",
    "                elif prev_end - prev_start < end - start:\n",
    "                    del overall_range_to_label[(file_name, prev_start, prev_end)]\n",
    "\n",
    "            elif overall_range_to_label[(file_name, prev_start, prev_end)] == overall_range_to_label[(file_name, start, end)]:\n",
    "\n",
    "                entity = overall_range_to_label[(file_name, prev_start, prev_end)]\n",
    "                del overall_range_to_label[(file_name, prev_start, prev_end)]\n",
    "                del overall_range_to_label[(file_name, start, end)]\n",
    "                overall_range_to_label[(file_name, prev_start, max(end, prev_end))] =  entity\n",
    "                continue\n",
    "\n",
    "        prev_start = start\n",
    "        prev_end = end"
   ],
   "metadata": {
    "collapsed": false
   }
  },
  {
   "cell_type": "code",
   "execution_count": 307,
   "outputs": [],
   "source": [
    "prev_start = -1\n",
    "prev_end = -1\n",
    "prev_file = None\n",
    "for file_name, start, end in dict(sorted(overall_range_to_label.items(), key=lambda x: (x[0], x[1]))).keys():\n",
    "    if prev_file != file_name:\n",
    "        prev_file = file_name\n",
    "        prev_start = -1\n",
    "        prev_end = -1\n",
    "        continue\n",
    "\n",
    "    if start <= prev_end:\n",
    "        print('Alert - Check')\n",
    "        print(file_name, prev_start, prev_end, start, end)\n",
    "        print(overall_range_to_label[(file_name, prev_start, prev_end)], overall_range_to_label[(file_name, start, end)])\n",
    "\n",
    "    prev_start = start\n",
    "    prev_end = end\n"
   ],
   "metadata": {
    "collapsed": false
   }
  },
  {
   "cell_type": "markdown",
   "source": [
    "**Fixed Overlapping ranges. Now single entity for each tokens**"
   ],
   "metadata": {
    "collapsed": false
   }
  },
  {
   "cell_type": "code",
   "execution_count": 312,
   "outputs": [
    {
     "name": "stdout",
     "output_type": "stream",
     "text": [
      "Total number of (start, end) ranges with corresponsing tag extracted is 18760\n"
     ]
    }
   ],
   "source": [
    "print(f\"Total number of (start, end) ranges with corresponsing tag extracted is {len(overall_range_to_label)}\")"
   ],
   "metadata": {
    "collapsed": false
   }
  },
  {
   "cell_type": "markdown",
   "source": [
    "### Generating BIO format files"
   ],
   "metadata": {
    "collapsed": false
   }
  },
  {
   "cell_type": "code",
   "execution_count": 314,
   "outputs": [],
   "source": [
    "import string"
   ],
   "metadata": {
    "collapsed": false
   }
  },
  {
   "cell_type": "code",
   "execution_count": 315,
   "outputs": [],
   "source": [
    "def tokenize_text(text):\n",
    "    # Tokenize the text into a list of words\n",
    "    tokens = []\n",
    "    for sentence in text.split('\\n'):\n",
    "        for word in sentence.split():\n",
    "            # Remove trailing punctuation marks from the word\n",
    "            while word and word[-1] in string.punctuation:\n",
    "                word = word[:-1]\n",
    "            tokens.append(word)\n",
    "    return tokens"
   ],
   "metadata": {
    "collapsed": false
   }
  },
  {
   "cell_type": "code",
   "execution_count": 341,
   "outputs": [
    {
     "name": "stdout",
     "output_type": "stream",
     "text": [
      "Conversion completed successfully.\n"
     ]
    }
   ],
   "source": [
    "output_dir = '../data/BIO_FILES'\n",
    "for file_id in file_ids:\n",
    "\n",
    "    txt_file = os.path.join(MACCROBAT_data_dir, file_id+\".txt\")\n",
    "    with open(txt_file, 'r') as f:\n",
    "        text = f.read()\n",
    "\n",
    "\n",
    "    tokens = tokenize_text(text)\n",
    "\n",
    "    # Initialize a list to hold the BIO-formatted tags\n",
    "    bio_tags = ['O'] * len(tokens)\n",
    "\n",
    "    curr_pos = 0\n",
    "    for i in range(len(tokens)):\n",
    "\n",
    "        token_start = text.find(tokens[i], curr_pos)\n",
    "        token_end = token_start + len(tokens[i])\n",
    "        curr_pos = token_end\n",
    "\n",
    "        for file_name, start, end in dict(sorted(overall_range_to_label.items(), key=lambda x: (x[0], x[1]))).keys():\n",
    "            if file_name == txt_file:\n",
    "                tag = overall_range_to_label[(file_name, start, end)]\n",
    "                if start <= token_start and end >= token_end:\n",
    "\n",
    "                    if token_start == start:\n",
    "                        bio_tags[i] = f'B-{tag}'\n",
    "                    else:\n",
    "                        bio_tags[i] = f'I-{tag}'\n",
    "\n",
    "    if not os.path.exists(output_dir):\n",
    "            os.makedirs(output_dir)\n",
    "\n",
    "    # Write the BIO tags to a new file\n",
    "    output_file = os.path.join(output_dir, file_id+\".bio\")\n",
    "    with open(output_file, 'w', encoding='utf-8') as f:\n",
    "        sentence_start_index = 0\n",
    "        for sentence in text.split('\\n'):\n",
    "            sentence_tokens = sentence.split()\n",
    "            sentence_length = len(sentence_tokens)\n",
    "            sentence_end_index = sentence_start_index + sentence_length\n",
    "            for i in range(sentence_start_index, sentence_end_index):\n",
    "                f.write(sentence_tokens[i - sentence_start_index] + '\\t' + bio_tags[i] + '\\n')\n",
    "            f.write('\\n')\n",
    "            sentence_start_index = sentence_end_index\n",
    "\n",
    "print(\"Conversion completed successfully.\")\n",
    "\n"
   ],
   "metadata": {
    "collapsed": false
   }
  }
 ],
 "metadata": {
  "kernelspec": {
   "display_name": "Python 3",
   "language": "python",
   "name": "python3"
  },
  "language_info": {
   "codemirror_mode": {
    "name": "ipython",
    "version": 2
   },
   "file_extension": ".py",
   "mimetype": "text/x-python",
   "name": "python",
   "nbconvert_exporter": "python",
   "pygments_lexer": "ipython2",
   "version": "2.7.6"
  }
 },
 "nbformat": 4,
 "nbformat_minor": 0
}
