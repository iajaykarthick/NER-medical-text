{
 "cells": [
  {
   "cell_type": "markdown",
   "source": [
    "kaggle.json authentication file needs to be present in $HOME/.kaggle/kaggle.json to download dataset using CLI"
   ],
   "metadata": {
    "collapsed": false
   }
  },
  {
   "cell_type": "code",
   "execution_count": 1,
   "outputs": [
    {
     "name": "stdout",
     "output_type": "stream",
     "text": [
      "Downloading medical-ner.zip to data\r\n",
      "  0%|                                               | 0.00/26.2k [00:00<?, ?B/s]\r\n",
      "100%|██████████████████████████████████████| 26.2k/26.2k [00:00<00:00, 1.12MB/s]\r\n"
     ]
    }
   ],
   "source": [
    "!mkdir -p data\n",
    "!kaggle datasets download -d finalepoch/medical-ner -p data/ --unzip"
   ],
   "metadata": {
    "collapsed": false
   }
  },
  {
   "cell_type": "code",
   "execution_count": 3,
   "outputs": [],
   "source": [
    "json_file = './data/Corona2.json'"
   ],
   "metadata": {
    "collapsed": false
   }
  },
  {
   "cell_type": "code",
   "execution_count": 4,
   "outputs": [],
   "source": [
    "import json"
   ],
   "metadata": {
    "collapsed": false
   }
  },
  {
   "cell_type": "code",
   "execution_count": 37,
   "outputs": [
    {
     "data": {
      "text/plain": "dict_keys(['examples'])"
     },
     "execution_count": 37,
     "metadata": {},
     "output_type": "execute_result"
    }
   ],
   "source": [
    "with open(json_file, \"r\") as f:\n",
    "    data = json.load(f)\n",
    "data.keys()"
   ],
   "metadata": {
    "collapsed": false
   }
  },
  {
   "cell_type": "code",
   "execution_count": 38,
   "outputs": [],
   "source": [
    "data = data['examples']"
   ],
   "metadata": {
    "collapsed": false
   }
  },
  {
   "cell_type": "code",
   "execution_count": 40,
   "outputs": [],
   "source": [
    "sample_record = data[0]"
   ],
   "metadata": {
    "collapsed": false
   }
  },
  {
   "cell_type": "code",
   "execution_count": 42,
   "outputs": [
    {
     "data": {
      "text/plain": "dict_keys(['id', 'content', 'metadata', 'annotations', 'classifications'])"
     },
     "execution_count": 42,
     "metadata": {},
     "output_type": "execute_result"
    }
   ],
   "source": [
    "sample_record.keys()"
   ],
   "metadata": {
    "collapsed": false
   }
  },
  {
   "cell_type": "code",
   "execution_count": 52,
   "outputs": [
    {
     "name": "stdout",
     "output_type": "stream",
     "text": [
      "id :18c2f619-f102-452f-ab81-d26f7e283ffe\n"
     ]
    }
   ],
   "source": [
    "print(f\"id :{sample_record['id']}\")"
   ],
   "metadata": {
    "collapsed": false
   }
  },
  {
   "cell_type": "code",
   "execution_count": 53,
   "outputs": [
    {
     "name": "stdout",
     "output_type": "stream",
     "text": [
      "content :While bismuth compounds (Pepto-Bismol) decreased the number of bowel movements in those with travelers' diarrhea, they do not decrease the length of illness.[91] Anti-motility agents like loperamide are also effective at reducing the number of stools but not the duration of disease.[8] These agents should be used only if bloody diarrhea is not present.[92]\n",
      "\n",
      "Diosmectite, a natural aluminomagnesium silicate clay, is effective in alleviating symptoms of acute diarrhea in children,[93] and also has some effects in chronic functional diarrhea, radiation-induced diarrhea, and chemotherapy-induced diarrhea.[45] Another absorbent agent used for the treatment of mild diarrhea is kaopectate.\n",
      "\n",
      "Racecadotril an antisecretory medication may be used to treat diarrhea in children and adults.[86] It has better tolerability than loperamide, as it causes less constipation and flatulence.[94]\n"
     ]
    }
   ],
   "source": [
    "print(f\"content :{sample_record['content']}\")"
   ],
   "metadata": {
    "collapsed": false
   }
  },
  {
   "cell_type": "code",
   "execution_count": 54,
   "outputs": [
    {
     "name": "stdout",
     "output_type": "stream",
     "text": [
      "metadata :{}\n"
     ]
    }
   ],
   "source": [
    "print(f\"metadata :{sample_record['metadata']}\")"
   ],
   "metadata": {
    "collapsed": false
   }
  },
  {
   "cell_type": "code",
   "execution_count": 56,
   "outputs": [
    {
     "name": "stdout",
     "output_type": "stream",
     "text": [
      "classifications :[]\n"
     ]
    }
   ],
   "source": [
    "print(f\"classifications :{sample_record['classifications']}\")"
   ],
   "metadata": {
    "collapsed": false
   }
  },
  {
   "cell_type": "code",
   "execution_count": 60,
   "outputs": [
    {
     "name": "stdout",
     "output_type": "stream",
     "text": [
      "id: 0825a1bf-6a6e-4fa2-be77-8d104701eaed\n",
      "tag_id: c06bd022-6ded-44a5-8d90-f17685bb85a1\n",
      "end: 371\n",
      "start: 360\n",
      "example_id: 18c2f619-f102-452f-ab81-d26f7e283ffe\n",
      "tag_name: Medicine\n",
      "value: Diosmectite\n",
      "correct: None\n",
      "human_annotations: [{'timestamp': '2020-03-21T00:24:32.098000Z', 'annotator_id': 1, 'tagged_token_id': '0825a1bf-6a6e-4fa2-be77-8d104701eaed', 'name': 'Ashpat123', 'reason': 'exploration'}]\n",
      "model_annotations: []\n"
     ]
    }
   ],
   "source": [
    "for annotation in sample_record['annotations']:\n",
    "    for key in annotation.keys():\n",
    "        print(f\"{key}: {annotation[key]}\")\n",
    "    break"
   ],
   "metadata": {
    "collapsed": false
   }
  },
  {
   "cell_type": "code",
   "execution_count": 62,
   "outputs": [
    {
     "data": {
      "text/plain": "'Diosmectite'"
     },
     "execution_count": 62,
     "metadata": {},
     "output_type": "execute_result"
    }
   ],
   "source": [
    "sample_record['content'][360:371]"
   ],
   "metadata": {
    "collapsed": false
   }
  },
  {
   "cell_type": "markdown",
   "source": [
    "https://www.drugs.com/international/diosmectite.html"
   ],
   "metadata": {
    "collapsed": false
   }
  },
  {
   "cell_type": "markdown",
   "source": [
    "## Checking all the annotations mentioned in the sample record"
   ],
   "metadata": {
    "collapsed": false
   }
  },
  {
   "cell_type": "code",
   "execution_count": 145,
   "outputs": [
    {
     "name": "stdout",
     "output_type": "stream",
     "text": [
      "Diosmectite, Number of words in entity is 1, Tag is Medicine\n",
      "aluminomagnesium silicate, Number of words in entity is 2, Tag is Medicine\n",
      "diarrhea, Number of words in entity is 1, Tag is MedicalCondition\n",
      "kaopectate, Number of words in entity is 1, Tag is Medicine\n",
      "bismuth compounds, Number of words in entity is 2, Tag is Medicine\n",
      "Pepto-Bismol, Number of words in entity is 1, Tag is Medicine\n",
      "diarrhea, Number of words in entity is 1, Tag is MedicalCondition\n",
      "chemotherapy, Number of words in entity is 1, Tag is Medicine\n",
      "constipation, Number of words in entity is 1, Tag is MedicalCondition\n",
      "loperamide, Number of words in entity is 1, Tag is Medicine\n",
      "diarrhea, Number of words in entity is 1, Tag is MedicalCondition\n",
      "flatulence, Number of words in entity is 1, Tag is MedicalCondition\n",
      "loperamide, Number of words in entity is 1, Tag is Medicine\n",
      "diarrhea, Number of words in entity is 1, Tag is MedicalCondition\n",
      "diarrhea, Number of words in entity is 1, Tag is MedicalCondition\n",
      "Racecadotril, Number of words in entity is 1, Tag is Medicine\n",
      "diarrhea, Number of words in entity is 1, Tag is MedicalCondition\n"
     ]
    }
   ],
   "source": [
    "text = sample_record['content']\n",
    "\n",
    "for annotation in sample_record['annotations']:\n",
    "    start = annotation['start']\n",
    "    end = annotation['end']\n",
    "    entity = text[start:end].strip()\n",
    "    if entity:\n",
    "        print(f\"{entity}, Number of words in entity is {len(entity.split())}, Tag is {annotation['tag_name']}\")"
   ],
   "metadata": {
    "collapsed": false
   }
  },
  {
   "cell_type": "markdown",
   "source": [
    "From the results above we see groups of words may represent a single entity\n",
    "For example, aluminomagnesium silicate"
   ],
   "metadata": {
    "collapsed": false
   }
  },
  {
   "cell_type": "markdown",
   "source": [
    "### Finding all the unique tags"
   ],
   "metadata": {
    "collapsed": false
   }
  },
  {
   "cell_type": "code",
   "execution_count": 138,
   "outputs": [
    {
     "data": {
      "text/plain": "['Medicine', 'MedicalCondition', 'Pathogen']"
     },
     "execution_count": 138,
     "metadata": {},
     "output_type": "execute_result"
    }
   ],
   "source": [
    "tags = []\n",
    "for record in data:\n",
    "    for annotation in record['annotations']:\n",
    "        curr_tag = annotation['tag_name']\n",
    "        if curr_tag not in tags:\n",
    "            tags.append(curr_tag)\n",
    "tags"
   ],
   "metadata": {
    "collapsed": false
   }
  },
  {
   "cell_type": "markdown",
   "source": [
    "### Tranforming Data\n",
    "(sentence_idx,word,tag)\n",
    "\n",
    "tags = [B-MED, I-MED, B-MEDCOND, I-MEDCOND, B-PAT, I-PAT, O]"
   ],
   "metadata": {
    "collapsed": false
   }
  },
  {
   "cell_type": "code",
   "execution_count": 152,
   "outputs": [
    {
     "name": "stdout",
     "output_type": "stream",
     "text": [
      "The following drugs are considered as DMARDs: methotrexate, hydroxychloroquine, sulfasalazine, leflunomide, TNF-alpha inhibitors (certolizumab, infliximab and etanercept), abatacept, and anakinra. Rituximab and tocilizumab are monoclonal antibodies and are also DMARDs.[8] Use of tocilizumab is associated with a risk of increased cholesterol levels.[87]\n",
      "\n",
      "Hydroxychloroquine, apart from its low toxicity profile, is considered effective in the moderate RA treatment.[88]\n",
      "\n",
      "The most commonly used agent is methotrexate with other frequently used agents including sulfasalazine and leflunomide.[8] Leflunomide is effective when used from 6–12 months, with similar effectiveness to methotrexate when used for 2 years.[89] Sulfasalazine also appears to be most effective in the short-term treatment of rheumatoid arthritis.[90] Sodium aurothiomalate (gold) and cyclosporin are less commonly used due to more common adverse effects.[8] However, cyclosporin was found to be effective in the progressive RA when used up to one year.[91] Agents may be used in combinations however, people may experience greater side effects.[8][92] Methotrexate is the most important and useful DMARD and is usually the first treatment.[8][5][93] A combined approach with methotrexate and biologics improves ACR50, HAQ scores and RA remission rates.[94] Triple therapy consisting of methotrexate, sulfasalazine and hydroxychloroquine may also effectively control disease activity.[95] Adverse effects should be monitored regularly with toxicity including gastrointestinal, hematologic, pulmonary, and hepatic.[93] Side effects such as nausea, vomiting or abdominal pain can be reduced by taking folic acid.[96]\n"
     ]
    }
   ],
   "source": [
    "tags_dict = {\n",
    "    \"Medicine\": \"MED\",\n",
    "    \"MedicalCondition\": \"MEDCOND\",\n",
    "    \"Pathogen\": \"PAT\"\n",
    "}\n",
    "\n",
    "for sentence_idx, sentence_dict in enumerate(data):\n",
    "    sentence = sentence_dict['content']\n",
    "    words_to_tags_map = {}\n",
    "    for annotation in sentence_dict['annotations']:\n",
    "        tag = annotation['tag_name']\n",
    "        start = annotation['start']\n",
    "        end = annotation['end']\n",
    "        word = sentence[start:end].strip()\n",
    "        if word.startswith(\"8][5][93] A combined\"):\n",
    "            # print(word, tag)\n",
    "            print(sentence)\n",
    "\n"
   ],
   "metadata": {
    "collapsed": false
   }
  },
  {
   "cell_type": "markdown",
   "source": [
    "## Downloading MACCROBAT_DATA"
   ],
   "metadata": {
    "collapsed": false
   }
  },
  {
   "cell_type": "code",
   "execution_count": 168,
   "outputs": [],
   "source": [
    "MACCROBAT_DATA_URL = \"https://figshare.com/ndownloader/files/17493650\""
   ],
   "metadata": {
    "collapsed": false
   }
  },
  {
   "cell_type": "code",
   "execution_count": 169,
   "outputs": [],
   "source": [
    "import requests\n",
    "\n",
    "def download_url(url, save_path, chunk_size=128):\n",
    "    r = requests.get(url, stream=True)\n",
    "    with open(save_path, 'wb') as fd:\n",
    "        for chunk in r.iter_content(chunk_size=chunk_size):\n",
    "            fd.write(chunk)"
   ],
   "metadata": {
    "collapsed": false
   }
  },
  {
   "cell_type": "code",
   "execution_count": 170,
   "outputs": [],
   "source": [
    "download_url(MACCROBAT_DATA_URL, \"./data/MACCROBAT2018.zip\")"
   ],
   "metadata": {
    "collapsed": false
   }
  },
  {
   "cell_type": "code",
   "execution_count": null,
   "outputs": [],
   "source": [],
   "metadata": {
    "collapsed": false
   }
  }
 ],
 "metadata": {
  "kernelspec": {
   "display_name": "Python 3",
   "language": "python",
   "name": "python3"
  },
  "language_info": {
   "codemirror_mode": {
    "name": "ipython",
    "version": 2
   },
   "file_extension": ".py",
   "mimetype": "text/x-python",
   "name": "python",
   "nbconvert_exporter": "python",
   "pygments_lexer": "ipython2",
   "version": "2.7.6"
  }
 },
 "nbformat": 4,
 "nbformat_minor": 0
}
